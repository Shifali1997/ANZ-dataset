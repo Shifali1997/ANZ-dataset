{
  "nbformat": 4,
  "nbformat_minor": 0,
  "metadata": {
    "colab": {
      "name": "Prediction_ANZ_dataset.ipynb",
      "provenance": [],
      "collapsed_sections": []
    },
    "kernelspec": {
      "name": "python3",
      "display_name": "Python 3"
    }
  },
  "cells": [
    {
      "cell_type": "markdown",
      "metadata": {
        "id": "usIsXfpyVyEL",
        "colab_type": "text"
      },
      "source": [
        "# **Import the libraries**"
      ]
    },
    {
      "cell_type": "code",
      "metadata": {
        "id": "EdnGEh0CVQ7m",
        "colab_type": "code",
        "outputId": "45bb2f2e-d303-4e2a-93a2-03105aa20583",
        "colab": {
          "base_uri": "https://localhost:8080/",
          "height": 85
        }
      },
      "source": [
        "import pandas as pd\n",
        "import numpy as np\n",
        "import matplotlib.pyplot as plt\n",
        "import seaborn as sns\n",
        "from sklearn import datasets\n",
        "#ignore warnings\n",
        "import warnings\n",
        "warnings.filterwarnings('ignore')"
      ],
      "execution_count": 2,
      "outputs": [
        {
          "output_type": "stream",
          "text": [
            "/usr/local/lib/python3.6/dist-packages/statsmodels/tools/_testing.py:19: FutureWarning: pandas.util.testing is deprecated. Use the functions in the public API at pandas.testing instead.\n",
            "  import pandas.util.testing as tm\n"
          ],
          "name": "stderr"
        }
      ]
    },
    {
      "cell_type": "markdown",
      "metadata": {
        "id": "w0KNMD-vWOiL",
        "colab_type": "text"
      },
      "source": [
        "# **Load Data**"
      ]
    },
    {
      "cell_type": "code",
      "metadata": {
        "id": "VeBDr8ZZV7V9",
        "colab_type": "code",
        "colab": {}
      },
      "source": [
        "df = pd.read_excel(\"/content/drive/My Drive/Colab Notebooks/ANZ_Virtual_Internship/ANZ synthesised transaction dataset.xlsx\")\n",
        "df.to_csv(\"/content/drive/My Drive/Colab Notebooks/ANZ_Virtual_Internship/ANZ synthesised transaction dataset.csv\", sep=\",\")"
      ],
      "execution_count": 0,
      "outputs": []
    },
    {
      "cell_type": "code",
      "metadata": {
        "id": "TDHfvAmhV7zS",
        "colab_type": "code",
        "outputId": "d26e5825-4c9e-4491-ea3e-4df76b4fc01f",
        "colab": {
          "base_uri": "https://localhost:8080/",
          "height": 537
        }
      },
      "source": [
        "df.head()"
      ],
      "execution_count": 0,
      "outputs": [
        {
          "output_type": "execute_result",
          "data": {
            "text/html": [
              "<div>\n",
              "<style scoped>\n",
              "    .dataframe tbody tr th:only-of-type {\n",
              "        vertical-align: middle;\n",
              "    }\n",
              "\n",
              "    .dataframe tbody tr th {\n",
              "        vertical-align: top;\n",
              "    }\n",
              "\n",
              "    .dataframe thead th {\n",
              "        text-align: right;\n",
              "    }\n",
              "</style>\n",
              "<table border=\"1\" class=\"dataframe\">\n",
              "  <thead>\n",
              "    <tr style=\"text-align: right;\">\n",
              "      <th></th>\n",
              "      <th>status</th>\n",
              "      <th>card_present_flag</th>\n",
              "      <th>bpay_biller_code</th>\n",
              "      <th>account</th>\n",
              "      <th>currency</th>\n",
              "      <th>long_lat</th>\n",
              "      <th>txn_description</th>\n",
              "      <th>merchant_id</th>\n",
              "      <th>merchant_code</th>\n",
              "      <th>first_name</th>\n",
              "      <th>balance</th>\n",
              "      <th>date</th>\n",
              "      <th>gender</th>\n",
              "      <th>age</th>\n",
              "      <th>merchant_suburb</th>\n",
              "      <th>merchant_state</th>\n",
              "      <th>extraction</th>\n",
              "      <th>amount</th>\n",
              "      <th>transaction_id</th>\n",
              "      <th>country</th>\n",
              "      <th>customer_id</th>\n",
              "      <th>merchant_long_lat</th>\n",
              "      <th>movement</th>\n",
              "    </tr>\n",
              "  </thead>\n",
              "  <tbody>\n",
              "    <tr>\n",
              "      <th>0</th>\n",
              "      <td>authorized</td>\n",
              "      <td>1.0</td>\n",
              "      <td>NaN</td>\n",
              "      <td>ACC-1598451071</td>\n",
              "      <td>AUD</td>\n",
              "      <td>153.41 -27.95</td>\n",
              "      <td>POS</td>\n",
              "      <td>81c48296-73be-44a7-befa-d053f48ce7cd</td>\n",
              "      <td>NaN</td>\n",
              "      <td>Diana</td>\n",
              "      <td>35.39</td>\n",
              "      <td>2018-08-01</td>\n",
              "      <td>F</td>\n",
              "      <td>26</td>\n",
              "      <td>Ashmore</td>\n",
              "      <td>QLD</td>\n",
              "      <td>2018-08-01T01:01:15.000+0000</td>\n",
              "      <td>16.25</td>\n",
              "      <td>a623070bfead4541a6b0fff8a09e706c</td>\n",
              "      <td>Australia</td>\n",
              "      <td>CUS-2487424745</td>\n",
              "      <td>153.38 -27.99</td>\n",
              "      <td>debit</td>\n",
              "    </tr>\n",
              "    <tr>\n",
              "      <th>1</th>\n",
              "      <td>authorized</td>\n",
              "      <td>0.0</td>\n",
              "      <td>NaN</td>\n",
              "      <td>ACC-1598451071</td>\n",
              "      <td>AUD</td>\n",
              "      <td>153.41 -27.95</td>\n",
              "      <td>SALES-POS</td>\n",
              "      <td>830a451c-316e-4a6a-bf25-e37caedca49e</td>\n",
              "      <td>NaN</td>\n",
              "      <td>Diana</td>\n",
              "      <td>21.20</td>\n",
              "      <td>2018-08-01</td>\n",
              "      <td>F</td>\n",
              "      <td>26</td>\n",
              "      <td>Sydney</td>\n",
              "      <td>NSW</td>\n",
              "      <td>2018-08-01T01:13:45.000+0000</td>\n",
              "      <td>14.19</td>\n",
              "      <td>13270a2a902145da9db4c951e04b51b9</td>\n",
              "      <td>Australia</td>\n",
              "      <td>CUS-2487424745</td>\n",
              "      <td>151.21 -33.87</td>\n",
              "      <td>debit</td>\n",
              "    </tr>\n",
              "    <tr>\n",
              "      <th>2</th>\n",
              "      <td>authorized</td>\n",
              "      <td>1.0</td>\n",
              "      <td>NaN</td>\n",
              "      <td>ACC-1222300524</td>\n",
              "      <td>AUD</td>\n",
              "      <td>151.23 -33.94</td>\n",
              "      <td>POS</td>\n",
              "      <td>835c231d-8cdf-4e96-859d-e9d571760cf0</td>\n",
              "      <td>NaN</td>\n",
              "      <td>Michael</td>\n",
              "      <td>5.71</td>\n",
              "      <td>2018-08-01</td>\n",
              "      <td>M</td>\n",
              "      <td>38</td>\n",
              "      <td>Sydney</td>\n",
              "      <td>NSW</td>\n",
              "      <td>2018-08-01T01:26:15.000+0000</td>\n",
              "      <td>6.42</td>\n",
              "      <td>feb79e7ecd7048a5a36ec889d1a94270</td>\n",
              "      <td>Australia</td>\n",
              "      <td>CUS-2142601169</td>\n",
              "      <td>151.21 -33.87</td>\n",
              "      <td>debit</td>\n",
              "    </tr>\n",
              "    <tr>\n",
              "      <th>3</th>\n",
              "      <td>authorized</td>\n",
              "      <td>1.0</td>\n",
              "      <td>NaN</td>\n",
              "      <td>ACC-1037050564</td>\n",
              "      <td>AUD</td>\n",
              "      <td>153.10 -27.66</td>\n",
              "      <td>SALES-POS</td>\n",
              "      <td>48514682-c78a-4a88-b0da-2d6302e64673</td>\n",
              "      <td>NaN</td>\n",
              "      <td>Rhonda</td>\n",
              "      <td>2117.22</td>\n",
              "      <td>2018-08-01</td>\n",
              "      <td>F</td>\n",
              "      <td>40</td>\n",
              "      <td>Buderim</td>\n",
              "      <td>QLD</td>\n",
              "      <td>2018-08-01T01:38:45.000+0000</td>\n",
              "      <td>40.90</td>\n",
              "      <td>2698170da3704fd981b15e64a006079e</td>\n",
              "      <td>Australia</td>\n",
              "      <td>CUS-1614226872</td>\n",
              "      <td>153.05 -26.68</td>\n",
              "      <td>debit</td>\n",
              "    </tr>\n",
              "    <tr>\n",
              "      <th>4</th>\n",
              "      <td>authorized</td>\n",
              "      <td>1.0</td>\n",
              "      <td>NaN</td>\n",
              "      <td>ACC-1598451071</td>\n",
              "      <td>AUD</td>\n",
              "      <td>153.41 -27.95</td>\n",
              "      <td>SALES-POS</td>\n",
              "      <td>b4e02c10-0852-4273-b8fd-7b3395e32eb0</td>\n",
              "      <td>NaN</td>\n",
              "      <td>Diana</td>\n",
              "      <td>17.95</td>\n",
              "      <td>2018-08-01</td>\n",
              "      <td>F</td>\n",
              "      <td>26</td>\n",
              "      <td>Mermaid Beach</td>\n",
              "      <td>QLD</td>\n",
              "      <td>2018-08-01T01:51:15.000+0000</td>\n",
              "      <td>3.25</td>\n",
              "      <td>329adf79878c4cf0aeb4188b4691c266</td>\n",
              "      <td>Australia</td>\n",
              "      <td>CUS-2487424745</td>\n",
              "      <td>153.44 -28.06</td>\n",
              "      <td>debit</td>\n",
              "    </tr>\n",
              "  </tbody>\n",
              "</table>\n",
              "</div>"
            ],
            "text/plain": [
              "       status  card_present_flag  ... merchant_long_lat movement\n",
              "0  authorized                1.0  ...     153.38 -27.99    debit\n",
              "1  authorized                0.0  ...     151.21 -33.87    debit\n",
              "2  authorized                1.0  ...     151.21 -33.87    debit\n",
              "3  authorized                1.0  ...     153.05 -26.68    debit\n",
              "4  authorized                1.0  ...     153.44 -28.06    debit\n",
              "\n",
              "[5 rows x 23 columns]"
            ]
          },
          "metadata": {
            "tags": []
          },
          "execution_count": 4
        }
      ]
    },
    {
      "cell_type": "code",
      "metadata": {
        "id": "HSc8wItdV76N",
        "colab_type": "code",
        "outputId": "e50dca74-3439-413b-dce0-c4ee26270375",
        "colab": {
          "base_uri": "https://localhost:8080/",
          "height": 156
        }
      },
      "source": [
        "df.columns"
      ],
      "execution_count": 0,
      "outputs": [
        {
          "output_type": "execute_result",
          "data": {
            "text/plain": [
              "Index(['status', 'card_present_flag', 'bpay_biller_code', 'account',\n",
              "       'currency', 'long_lat', 'txn_description', 'merchant_id',\n",
              "       'merchant_code', 'first_name', 'balance', 'date', 'gender', 'age',\n",
              "       'merchant_suburb', 'merchant_state', 'extraction', 'amount',\n",
              "       'transaction_id', 'country', 'customer_id', 'merchant_long_lat',\n",
              "       'movement'],\n",
              "      dtype='object')"
            ]
          },
          "metadata": {
            "tags": []
          },
          "execution_count": 5
        }
      ]
    },
    {
      "cell_type": "code",
      "metadata": {
        "id": "6wAZYmHYV7w_",
        "colab_type": "code",
        "outputId": "1cdda8c2-5b68-458f-eeb3-a2334ecf6ebe",
        "colab": {
          "base_uri": "https://localhost:8080/",
          "height": 36
        }
      },
      "source": [
        "df.shape"
      ],
      "execution_count": 0,
      "outputs": [
        {
          "output_type": "execute_result",
          "data": {
            "text/plain": [
              "(12043, 23)"
            ]
          },
          "metadata": {
            "tags": []
          },
          "execution_count": 6
        }
      ]
    },
    {
      "cell_type": "code",
      "metadata": {
        "id": "V4QtnLX-V7uL",
        "colab_type": "code",
        "outputId": "2fcebbcf-ddaf-4edc-cb33-614c94603f61",
        "colab": {
          "base_uri": "https://localhost:8080/",
          "height": 496
        }
      },
      "source": [
        "df.nunique()"
      ],
      "execution_count": 0,
      "outputs": [
        {
          "output_type": "execute_result",
          "data": {
            "text/plain": [
              "status                   2\n",
              "card_present_flag        2\n",
              "bpay_biller_code         3\n",
              "account                100\n",
              "currency                 1\n",
              "long_lat               100\n",
              "txn_description          6\n",
              "merchant_id           5725\n",
              "merchant_code            1\n",
              "first_name              80\n",
              "balance              12006\n",
              "date                    91\n",
              "gender                   2\n",
              "age                     33\n",
              "merchant_suburb       1609\n",
              "merchant_state           8\n",
              "extraction            9442\n",
              "amount                4457\n",
              "transaction_id       12043\n",
              "country                  1\n",
              "customer_id            100\n",
              "merchant_long_lat     2703\n",
              "movement                 2\n",
              "dtype: int64"
            ]
          },
          "metadata": {
            "tags": []
          },
          "execution_count": 7
        }
      ]
    },
    {
      "cell_type": "code",
      "metadata": {
        "id": "I61YgluhV7r-",
        "colab_type": "code",
        "outputId": "62821343-ac99-45f5-ec6f-0d46cce66092",
        "colab": {
          "base_uri": "https://localhost:8080/",
          "height": 116
        }
      },
      "source": [
        "print(df['status'].unique())\n",
        "print(df['bpay_biller_code'].unique())\n",
        "print(df['txn_description'].unique())\n",
        "print(df['movement'].unique())"
      ],
      "execution_count": 0,
      "outputs": [
        {
          "output_type": "stream",
          "text": [
            "['authorized' 'posted']\n",
            "[nan 0 ' THE DISCOUNT CHEMIST GROUP'\n",
            " ' LAND WATER & PLANNING East Melbourne']\n",
            "['POS' 'SALES-POS' 'PAYMENT' 'INTER BANK' 'PAY/SALARY' 'PHONE BANK']\n",
            "['debit' 'credit']\n"
          ],
          "name": "stdout"
        }
      ]
    },
    {
      "cell_type": "code",
      "metadata": {
        "id": "Etuo5jdZWii5",
        "colab_type": "code",
        "outputId": "71702d15-99b4-47b7-f973-ef353b14e53a",
        "colab": {
          "base_uri": "https://localhost:8080/",
          "height": 496
        }
      },
      "source": [
        "df.isnull().sum()"
      ],
      "execution_count": 0,
      "outputs": [
        {
          "output_type": "execute_result",
          "data": {
            "text/plain": [
              "status                   0\n",
              "card_present_flag     4326\n",
              "bpay_biller_code     11158\n",
              "account                  0\n",
              "currency                 0\n",
              "long_lat                 0\n",
              "txn_description          0\n",
              "merchant_id           4326\n",
              "merchant_code        11160\n",
              "first_name               0\n",
              "balance                  0\n",
              "date                     0\n",
              "gender                   0\n",
              "age                      0\n",
              "merchant_suburb       4326\n",
              "merchant_state        4326\n",
              "extraction               0\n",
              "amount                   0\n",
              "transaction_id           0\n",
              "country                  0\n",
              "customer_id              0\n",
              "merchant_long_lat     4326\n",
              "movement                 0\n",
              "dtype: int64"
            ]
          },
          "metadata": {
            "tags": []
          },
          "execution_count": 9
        }
      ]
    },
    {
      "cell_type": "code",
      "metadata": {
        "id": "A2vL6BXuWifd",
        "colab_type": "code",
        "outputId": "9e7f7483-6f2b-4e0f-f639-92baeb34ce6f",
        "colab": {
          "base_uri": "https://localhost:8080/",
          "height": 347
        }
      },
      "source": [
        "sns.heatmap(df.isnull(),yticklabels=False,cbar=False,cmap='viridis')\n",
        "plt.show()"
      ],
      "execution_count": 0,
      "outputs": [
        {
          "output_type": "display_data",
          "data": {
            "image/png": "[encoded data removed]",
            "text/plain": [
              "<Figure size 432x288 with 1 Axes>"
            ]
          },
          "metadata": {
            "tags": [],
            "needs_background": "light"
          }
        }
      ]
    },
    {
      "cell_type": "markdown",
      "metadata": {
        "id": "DB2v7Me2FEAT",
        "colab_type": "text"
      },
      "source": [
        "**Converting gender column to 0's and 1's**"
      ]
    },
    {
      "cell_type": "code",
      "metadata": {
        "id": "CGGn8vA7t7dy",
        "colab_type": "code",
        "colab": {}
      },
      "source": [
        "df['gender'] = pd.get_dummies(df['gender'],drop_first=True)"
      ],
      "execution_count": 0,
      "outputs": []
    },
    {
      "cell_type": "code",
      "metadata": {
        "id": "VDZ7-4ON1Mxc",
        "colab_type": "code",
        "outputId": "6d20a0e1-3646-4918-f8ea-df0713067246",
        "colab": {
          "base_uri": "https://localhost:8080/",
          "height": 209
        }
      },
      "source": [
        "df['date'] = pd.to_datetime(df['date'])\n",
        "df.set_index('date', inplace=True)\n",
        "df.index"
      ],
      "execution_count": 5,
      "outputs": [
        {
          "output_type": "execute_result",
          "data": {
            "text/plain": [
              "DatetimeIndex(['2018-08-01', '2018-08-01', '2018-08-01', '2018-08-01',\n",
              "               '2018-08-01', '2018-08-01', '2018-08-01', '2018-08-01',\n",
              "               '2018-08-01', '2018-08-01',\n",
              "               ...\n",
              "               '2018-10-31', '2018-10-31', '2018-10-31', '2018-10-31',\n",
              "               '2018-10-31', '2018-10-31', '2018-10-31', '2018-10-31',\n",
              "               '2018-10-31', '2018-10-31'],\n",
              "              dtype='datetime64[ns]', name='date', length=12043, freq=None)"
            ]
          },
          "metadata": {
            "tags": []
          },
          "execution_count": 5
        }
      ]
    },
    {
      "cell_type": "markdown",
      "metadata": {
        "id": "VE2aaHslFNzw",
        "colab_type": "text"
      },
      "source": [
        "**Extracting day and month from the date column**\n"
      ]
    },
    {
      "cell_type": "code",
      "metadata": {
        "id": "kqCm12_-1MsD",
        "colab_type": "code",
        "colab": {}
      },
      "source": [
        "df['month'] = df.index.month\n",
        "df['day'] = df.index.day"
      ],
      "execution_count": 0,
      "outputs": []
    },
    {
      "cell_type": "code",
      "metadata": {
        "id": "qVbgwll_1Mhc",
        "colab_type": "code",
        "colab": {}
      },
      "source": [
        "df = df.reset_index(drop=True)"
      ],
      "execution_count": 0,
      "outputs": []
    },
    {
      "cell_type": "markdown",
      "metadata": {
        "id": "7MMJ-kp8GTYO",
        "colab_type": "text"
      },
      "source": [
        "**Covert the customr_id column to int dtype**"
      ]
    },
    {
      "cell_type": "code",
      "metadata": {
        "id": "g2GXDsp01kjk",
        "colab_type": "code",
        "outputId": "30fe287a-e4ec-481e-9b02-1e6e3d198b52",
        "colab": {
          "base_uri": "https://localhost:8080/",
          "height": 61
        }
      },
      "source": [
        "numbers = []\n",
        "for elements in df['customer_id']:\n",
        "  spos = elements.find('-')\n",
        "  numbers.append(elements[spos+1:])\n",
        "  #numbers = numbers.astype('int')\n",
        "print(numbers)"
      ],
      "execution_count": 8,
      "outputs": [
        {
          "output_type": "stream",
          "text": [
            "['2487424745', '2487424745', '2142601169', '1614226872', '2487424745', '2688605418', '4123612273', '4123612273', '3026014945', '2031327464', '2317998716', '4123612273', '3026014945', '1462656821', '3142625864', '860700529', '2370108457', '2630892467', '3716701010', '3378712515', '2487424745', '2695611575', '1669695324', '3255104878', '537508723', '2376382098', '3129499595', '883482547', '51506836', '883482547', '1614226872', '1196156254', '3378712515', '2178051368', '809013380', '809013380', '51506836', '3702001629', '127297539', '1646183815', '1614226872', '164374203', '2283904812', '3180318393', '3904958894', '537508723', '1604596597', '1617121891', '2206365095', '3255104878', '1462656821', '1617121891', '2031327464', '2599279756', '3904958894', '2031327464', '3255104878', '3117610635', '3378712515', '2178051368', '1433879684', '2500783281', '2630892467', '3026014945', '326006476', '527400765', '443776336', '2663907001', '1433879684', '2178051368', '4123612273', '3255104878', '2487424745', '164374203', '3378712515', '4142663097', '1614226872', '883482547', '2031327464', '1842679196', '3249305314', '1271030853', '883482547', '1646621553', '325142416', '537508723', '1646621553', '3462882033', '1892177589', '1117979751', '1196156254', '164374203', '1646621553', '495599312', '2688605418', '164374203', '527400765', '1271030853', '1388323263', '1617121891', '164374203', '1790886359', '2630892467', '4142663097', '4023861240', '1892177589', '586638664', '3129499595', '2500783281', '4142663097', '423725039', '2487424745', '1896554896', '1790886359', '2059096722', '1140341822', '1196156254', '2487424745', '2059096722', '3201519139', '2317998716', '2500783281', '3026014945', '3151318058', '1614226872', '4023861240', '2348881191', '1739931018', '3325710106', '2487424745', '1604596597', '883482547', '2487424745', '511326734', '1233833708', '1646621553', '1790886359', '2059096722', '127297539', '3142625864', '1462656821', '3142625864', '3336454548', '3117610635', '1816693151', '2695611575', '55310383', '2110742437', '2348881191', '127297539', '3702001629', '2317998716', '2695611575', '1669695324', '497688347', '3151318058', '2155701614', '3174332735', '4123612273', '1609060617', '1614226872', '4123612273', '586638664', '1005756958', '527400765', '3716701010', '1117979751', '2487424745', '423725039', '2376382098', '1196156254', '325142416', '1928710999', '2630892467', '1614226872', '1614226872', '1614226872', '1614226872', '1609060617', '134193016', '2487424745', '1892177589', '2487424745', '1117979751', '1646183815', '1654129794', '3378712515', '1433879684', '2630892467', '2688605418', '1196156254', '2487424745', '2487424745', '3336454548', '325142416', '1646621553', '497688347', '2599279756', '3151318058', '1646183815', '527400765', '537508723', '497688347', '2650223890', '2059096722', '1462656821', '2283904812', '2484453271', '443776336', '511326734', '3336454548', '326006476', '1790886359', '860700529', '1646621553', '2083971310', '1388323263', '2663907001', '3026014945', '1928710999', '3151318058', '1614226872', '1233833708', '1614226872', '880898248', '134193016', '2348881191', '2977593493', '860700529', '3989008654', '1271030853', '1609060617', '423725039', '1646621553', '2599279756', '3201519139', '326006476', '586638664', '134193016', '1462656821', '1462656821', '1892177589', '3462882033', '4142663097', '72755508', '3904958894', '2695611575', '3904958894', '2484453271', '2059096722', '1462656821', '1604596597', '527400765', '809013380', '1499065773', '51506836', '2370108457', '3904958894', '2599279756', '495599312', '2663907001', '55310383', '1478398256', '72755508', '1892177589', '3431016847', '1609060617', '3431016847', '51506836', '3462882033', '4023861240', '2738291516', '1005756958', '2738291516', '880898248', '1220154422', '1896554896', '2348881191', '3174332735', '331942311', '1790886359', '2663907001', '1614226872', '2376382098', '3117610635', '1609060617', '2110742437', '860700529', '3151318058', '2155701614', '325142416', '2695611575', '3174332735', '3180318393', '1604596597', '51506836', '1233833708', '2663907001', '3142625864', '883482547', '4123612273', '2738291516', '2663907001', '2110742437', '2487424745', '3462882033', '3989008654', '809013380', '1433879684', '1816693151', '1896554896', '3142625864', '2695611575', '860700529', '1233833708', '1005756958', '2487424745', '3151318058', '511326734', '860700529', '1005756958', '3378712515', '3431016847', '860700529', '2487424745', '860700529', '2487424745', '1604596597', '3117610635', '51506836', '2695611575', '2977593493', '134193016', '134193016', '2155701614', '2348881191', '2599279756', '3249305314', '537508723', '2487424745', '2484453271', '3174332735', '3431016847', '2376382098', '331942311', '55310383', '1196156254', '1271030853', '127297539', '2695611575', '1790886359', '2500783281', '423725039', '134193016', '134833760', '1654129794', '1669695324', '2505971401', '325142416', '1646621553', '2206365095', '2500783281', '1499065773', '1816693151', '2977593493', '4123612273', '2487424745', '3151318058', '3325710106', '134193016', '3904958894', '2500783281', '2487424745', '127297539', '3026014945', '2083971310', '2376382098', '3026014945', '3201519139', '1220154422', '2688605418', '3904958894', '1220154422', '2031327464', '2059096722', '2663907001', '2819545904', '423725039', '2376382098', '2599279756', '3989008654', '1220154422', '1617121891', '2738291516', '537508723', '3325710106', '3026014945', '2206365095', '2663907001', '51506836', '326006476', '134193016', '1433879684', '2206365095', '1816693151', '2376382098', '2484453271', '1196156254', '127297539', '2317998716', '2650223890', '3378712515', '423725039', '1614226872', '325142416', '443776336', '2376382098', '3336454548', '4123612273', '1196156254', '4123612273', '2206365095', '2695611575', '127297539', '1646183815', '2317998716', '860700529', '1816693151', '2487424745', '2738291516', '4123612273', '2484453271', '4123612273', '2283904812', '2487424745', '1005756958', '2663907001', '1646183815', '4023861240', '2487424745', '860700529', '2370108457', '1433879684', '2819545904', '1220154422', '2599279756', '1896554896', '2206365095', '3151318058', '1117979751', '3395687666', '1669695324', '51506836', '3151318058', '1499065773', '2663907001', '1005756958', '2059096722', '3378712515', '2487424745', '2206365095', '2500783281', '3151318058', '3989008654', '1005756958', '1928710999', '1896554896', '134833760', '1614226872', '423725039', '2317998716', '2178051368', '1614226872', '1617121891', '2487424745', '2206365095', '1499065773', '1617121891', '1614226872', '1604596597', '331942311', '2487424745', '3026014945', '134833760', '537508723', '127297539', '2487424745', '2599279756', '2738291516', '2178051368', '1614226872', '3255104878', '3395687666', '1614226872', '537508723', '1614226872', '1896554896', '3336454548', '2155701614', '3201519139', '1617121891', '3336454548', '537508723', '3249305314', '511326734', '2599279756', '1499065773', '423725039', '1478398256', '3201519139', '1842679196', '1478398256', '3702001629', '1388323263', '2819545904', '164374203', '1196156254', '3026014945', '1117979751', '3174332735', '4023861240', '1604596597', '1433879684', '2688605418', '3026014945', '72755508', '4142663097', '809013380', '1614226872', '809013380', '2695611575', '1617121891', '2487424745', '1462656821', '3378712515', '860700529', '3026014945', '883482547', '3255104878', '1604596597', '2283904812', '1669695324', '1499065773', '3026014945', '443776336', '2688605418', '2178051368', '1433879684', '1005756958', '1617121891', '1617121891', '3026014945', '2487424745', '164374203', '1669695324', '1646621553', '1646621553', '3026014945', '2370108457', '1614226872', '1790886359', '1669695324', '55310383', '325142416', '883482547', '2688605418', '2484453271', '1790886359', '2283904812', '1842679196', '2155701614', '3462882033', '1005756958', '3378712515', '443776336', '1196156254', '1654129794', '3249305314', '1609060617', '1816693151', '2688605418', '3325710106', '3117610635', '2283904812', '3026014945', '1604596597', '2283904812', '3129499595', '883482547', '3462882033', '2487424745', '4023861240', '1462656821', '2348881191', '2487424745', '527400765', '2059096722', '2487424745', '1005756958', '1614226872', '2487424745', '1614226872', '134833760', '3026014945', '1609060617', '2663907001', '3142625864', '3255104878', '4023861240', '3255104878', '2317998716', '164374203', '3201519139', '443776336', '3462882033', '443776336', '134833760', '1614226872', '1617121891', '1896554896', '1614226872', '497688347', '1617121891', '164374203', '3249305314', '1617121891', '164374203', '1196156254', '1816693151', '497688347', '1617121891', '1617121891', '2819545904', '1617121891', '4123612273', '2695611575', '1614226872', '2500783281', '134833760', '4023861240', '1669695324', '3129499595', '1604596597', '3255104878', '3129499595', '2695611575', '1433879684', '2819545904', '1609060617', '134193016', '1896554896', '1609060617', '164374203', '883482547', '1433879684', '4023861240', '2738291516', '2031327464', '2178051368', '883482547', '883482547', '2663907001', '2178051368', '883482547', '2688605418', '55310383', '1816693151', '3249305314', '1790886359', '1928710999', '2650223890', '1271030853', '1388323263', '2031327464', '2283904812', '2650223890', '527400765', '1196156254', '1609060617', '51506836', '2599279756', '3201519139', '883482547', '2688605418', '4142663097', '134193016', '134193016', '1196156254', '1462656821', '55310383', '1005756958', '1196156254', '3117610635', '1604596597', '1669695324', '2348881191', '1614226872', '1614226872', '2650223890', '1140341822', '1614226872', '1117979751', '1147642491', '1147642491', '1609060617', '1614226872', '261674136', '3249305314', '527400765', '2688605418', '2688605418', '1462656821', '2650223890', '1669695324', '3904958894', '883482547', '2819545904', '3142625864', '3180318393', '3255104878', '3378712515', '443776336', '4123612273', '2487424745', '1117979751', '2031327464', '2663907001', '55310383', '3904958894', '1271030853', '1669695324', '2500783281', '1896554896', '4023861240', '2487424745', '3904958894', '2663907001', '1928710999', '2110742437', '2663907001', '3378712515', '4023861240', '883482547', '2738291516', '127297539', '2348881191', '1614226872', '1388323263', '2819545904', '3336454548', '3249305314', '2599279756', '331942311', '1233833708', '134193016', '3117610635', '2738291516', '2348881191', '3249305314', '443776336', '2178051368', '1739931018', '880898248', '51506836', '883482547', '1005756958', '2487424745', '860700529', '2155701614', '261674136', '3129499595', '134193016', '2663907001', '2688605418', '1478398256', '4142663097', '2376382098', '2110742437', '2484453271', '2487424745', '1462656821', '2155701614', '2487424745', '2663907001', '883482547', '883482547', '4023861240', '3129499595', '2317998716', '1196156254', '1896554896', '1433879684', '1739931018', '3151318058', '1669695324', '1614226872', '3026014945', '1669695324', '1614226872', '883482547', '880898248', '1005756958', '325142416', '1433879684', '3026014945', '2487424745', '2155701614', '3336454548', '2695611575', '1896554896', '2370108457', '1896554896', '1842679196', '1614226872', '3026014945', '2155701614', '2688605418', '2487424745', '3129499595', '1614226872', '1604596597', '2487424745', '1196156254', '1842679196', '2178051368', '2500783281', '3180318393', '809013380', '2695611575', '3026014945', '1005756958', '4123612273', '1669695324', '51506836', '4123612273', '4123612273', '2487424745', '2142601169', '2487424745', '880898248', '1646621553', '1005756958', '3151318058', '3989008654', '1433879684', '4123612273', '1271030853', '1617121891', '1892177589', '2142601169', '3325710106', '3716701010', '3904958894', '4142663097', '511326734', '4123612273', '2688605418', '809013380', '1499065773', '3249305314', '527400765', '2487424745', '2487424745', '51506836', '809013380', '134833760', '1790886359', '1669695324', '880898248', '326006476', '2599279756', '3336454548', '2059096722', '809013380', '1196156254', '1617121891', '2178051368', '2695611575', '2599279756', '4023861240', '809013380', '2738291516', '2505971401', '1892177589', '2031327464', '2317998716', '4123612273', '809013380', '1462656821', '3142625864', '883482547', '1478398256', '2370108457', '2630892467', '3716701010', '880898248', '2484453271', '2484453271', '3255104878', '2505971401', '1604596597', '2376382098', '3129499595', '4142663097', '2599279756', '1433879684', '4123612273', '2206365095', '1196156254', '51506836', '127297539', '2142601169', '2599279756', '2178051368', '4023861240', '2110742437', '3201519139', '51506836', '1614226872', '164374203', '2283904812', '3180318393', '537508723', '1646621553', '2142601169', '2142601169', '4142663097', '537508723', '3395687666', '3325710106', '2484453271', '1005756958', '2484453271', '3026014945', '2178051368', '2599279756', '1617121891', '1928710999', '2500783281', '2630892467', '3026014945', '326006476', '3378712515', '1896554896', '1669695324', '2178051368', '325142416', '4123612273', '127297539', '537508723', '537508723', '2487424745', '261674136', '326006476', '127297539', '134833760', '880898248', '51506836', '4142663097', '1842679196', '3249305314', '1462656821', '1433879684', '1220154422', '326006476', '3989008654', '883482547', '2142601169', '2142601169', '2317998716', '3026014945', '1117979751', '164374203', '1646621553', '2487424745', '3201519139', '1233833708', '1271030853', '1388323263', '1617121891', '164374203', '2317998716', '2630892467', '2663907001', '809013380', '2142601169', '2505971401', '883482547', '883482547', '423725039', '1842679196', '3026014945', '2142601169', '1790886359', '2110742437', '880898248', '1614226872', '3904958894', '2317998716', '2500783281', '3026014945', '3151318058', '326006476', '1790886359', '3325710106', '2348881191', '3180318393', '443776336', '2505971401', '883482547', '2110742437', '443776336', '809013380', '1646621553', '1790886359', '261674136', '261674136', '2142601169', '1462656821', '2142601169', '880898248', '1646621553', '3142625864', '3395687666', '3904958894', '1816693151', '2505971401', '2695611575', '2110742437', '2348881191', '1499065773', '3325710106', '1614226872', '2317998716', '2695611575', '1614226872', '1669695324', '497688347', '2155701614', '3174332735', '2599279756', '1140341822', '4123612273', '1614226872', '4123612273', '4123612273', '4123612273', '4123612273', '2206365095', '1790886359', '1462656821', '1196156254', '325142416', '4123612273', '880898248', '809013380', '1433879684', '537508723', '537508723', '860700529', '1669695324', '3129499595', '1646621553', '1462656821', '3117610635', '1609060617', '443776336', '2695611575', '1433879684', '2348881191', '2630892467', '2688605418', '3174332735', '3716701010', '1462656821', '3129499595', '537508723', '1433879684', '1614226872', '1614226872', '1646183815', '1892177589', '2663907001', '2738291516', '527400765', '537508723', '537508723', '1654129794', '2484453271', '3904958894', '1609060617', '3117610635', '1896554896', '1790886359', '2688605418', '2977593493', '3431016847', '2348881191', '443776336', '2688605418', '537508723', '2142601169', '1433879684', '1233833708', '1614226872', '3255104878', '51506836', '2487424745', '3117610635', '1654129794', '2206365095', '2505971401', '2487424745', '3378712515', '2031327464', '443776336', '2487424745', '3201519139', '537508723', '2206365095', '3378712515', '2206365095', '1892177589', '3180318393', '3702001629', '3989008654', '4142663097', '72755508', '1196156254', '1117979751', '2505971401', '1790886359', '1462656821', '527400765', '3249305314', '325142416', '1669695324', '164374203', '2142601169', '2370108457', '51506836', '2142601169', '2487424745', '1271030853', '1669695324', '1892177589', '51506836', '2484453271', '2487424745', '1816693151', '4023861240', '2178051368', '443776336', '2487424745', '4123612273', '4123612273', '1220154422', '1892177589', '1896554896', '2819545904', '1842679196', '1140341822', '4123612273', '2376382098', '3117610635', '443776336', '3026014945', '3249305314', '1790886359', '2487424745', '2487424745', '3378712515', '495599312', '2487424745', '1196156254', '51506836', '3142625864', '883482547', '2031327464', '2142601169', '4142663097', '2663907001', '2484453271', '3989008654', '809013380', '3142625864', '1614226872', '2031327464', '3026014945', '3378712515', '2695611575', '1614226872', '2031327464', '1614226872', '443776336', '1816693151', '1790886359', '1614226872', '2650223890', '2348881191', '1220154422', '2505971401', '3117610635', '2142601169', '1220154422', '2650223890', '134193016', '2348881191', '2599279756', '3249305314', '4123612273', '3026014945', '1842679196', '3026014945', '2031327464', '2142601169', '2348881191', '1196156254', '127297539', '2695611575', '3026014945', '2487424745', '3904958894', '443776336', '1654129794', '1669695324', '2178051368', '2505971401', '325142416', '1614226872', '2487424745', '3325710106', '1499065773', '1816693151', '3129499595', '586638664', '2695611575', '2650223890', '4123612273', '1005756958', '1669695324', '1669695324', '1669695324', '1478398256', '1896554896', '2059096722', '2695611575', '3989008654', '3249305314', '2142601169', '1388323263', '1896554896', '2142601169', '1140341822', '2031327464', '2059096722', '2663907001', '423725039', '2142601169', '1669695324', '1669695324', '1005756958', '1499065773', '2370108457', '2738291516', '537508723', '2206365095', '1669695324', '3702001629', '3117610635', '1669695324', '134193016', '1433879684', '1646621553', '2206365095', '2142601169', '3026014945', '3702001629', '1196156254', '127297539', '2317998716', '2650223890', '3026014945', '3989008654', '3026014945', '2738291516', '2487424745', '2059096722', '3336454548', '4023861240', '1388323263', '2142601169', '1669695324', '72755508', '3255104878', '3904958894', '1646621553', '127297539', '1646183815', '2317998716', '860700529', '860700529', '2059096722', '2487424745', '2487424745', '3378712515', '1196156254', '2487424745', '2487424745', '1478398256', '3117610635', '880898248', '2142601169', '880898248', '1433879684', '443776336', '2487424745', '1196156254', '860700529', '3026014945', '164374203', '1669695324', '3336454548', '860700529', '2142601169', '2142601169', '2142601169', '880898248', '2059096722', '860700529', '2695611575', '2206365095', '2500783281', '3129499595', '3151318058', '1220154422', '2155701614', '3117610635', '1388323263', '2487424745', '3431016847', '2695611575', '2059096722', '1271030853', '3026014945', '443776336', '4142663097', '860700529', '2142601169', '586638664', '883482547', '3026014945', '527400765', '443776336', '3325710106', '1005756958', '1388323263', '3325710106', '527400765', '51506836', '497688347', '2083971310', '3395687666', '3395687666', '1614226872', '4142663097', '2348881191', '1790886359', '1896554896', '3378712515', '2695611575', '1117979751', '2505971401', '3336454548', '3117610635', '2977593493', '2110742437', '3702001629', '497688347', '3702001629', '2487424745', '2487424745', '3378712515', '2487424745', '3462882033', '2059096722', '1816693151', '1388323263', '3336454548', '2059096722', '860700529', '1005756958', '2142601169', '3325710106', '4023861240', '3026014945', '2505971401', '2059096722', '1233833708', '3026014945', '4142663097', '4023861240', '1614226872', '1478398256', '3431016847', '3255104878', '2738291516', '880898248', '3255104878', '4142663097', '134833760', '3378712515', '3255104878', '3180318393', '2142601169', '4023861240', '3702001629', '325142416', '2142601169', '860700529', '1478398256', '1499065773', '4023861240', '2487424745', '2487424745', '880898248', '3180318393', '2599279756', '2977593493', '2599279756', '1842679196', '1140341822', '2505971401', '3378712515', '2977593493', '2599279756', '164374203', '4142663097', '860700529', '2110742437', '2142601169', '2977593493', '2370108457', '3716701010', '2695611575', '2487424745', '2178051368', '2487424745', '134193016', '1196156254', '860700529', '4142663097', '2283904812', '326006476', '3462882033', '3180318393', '3378712515', '3026014945', '1196156254', '1654129794', '1462656821', '1816693151', '2178051368', '3142625864', '860700529', '3325710106', '51506836', '2283904812', '2977593493', '1005756958', '2142601169', '3026014945', '3462882033', '134833760', '2142601169', '2695611575', '1196156254', '1005756958', '2142601169', '2487424745', '2977593493', '2142601169', '860700529', '2059096722', '1816693151', '2599279756', '2484453271', '860700529', '2484453271', '3117610635', '1842679196', '1609060617', '2663907001', '3142625864', '3255104878', '4023861240', '325142416', '2695611575', '2206365095', '2695611575', '2599279756', '443776336', '2142601169', '2487424745', '2376382098', '325142416', '2487424745', '2142601169', '3336454548', '860700529', '860700529', '2178051368', '860700529', '537508723', '2376382098', '537508723', '511326734', '51506836', '2206365095', '2031327464', '2370108457', '2206365095', '2487424745', '3174332735', '497688347', '51506836', '2206365095', '537508723', '1669695324', '537508723', '2500783281', '3336454548', '4123612273', '2348881191', '261674136', '511326734', '2599279756', '2505971401', '2178051368', '2505971401', '1196156254', '2487424745', '3702001629', '2487424745', '51506836', '2142601169', '2206365095', '2688605418', '2142601169', '2487424745', '2142601169', '2178051368', '325142416', '2031327464', '537508723', '2484453271', '1669695324', '2484453271', '2599279756', '537508723', '3325710106', '1790886359', '1928710999', '1271030853', '2283904812', '1654129794', '2650223890', '2688605418', '2650223890', '2142601169', '527400765', '134833760', '511326734', '2500783281', '3904958894', '51506836', '1669695324', '537508723', '1896554896', '2110742437', '2142601169', '1614226872', '537508723', '537508723', '2348881191', '2487424745', '1233833708', '325142416', '2178051368', '3180318393', '537508723', '537508723', '2487424745', '2487424745', '2142601169', '1147642491', '2487424745', '2348881191', '1147642491', '1147642491', '1147642491', '1609060617', '1614226872', '3249305314', '331942311', '2487424745', '2484453271', '2484453271', '2505971401', '2650223890', '1669695324', '1669695324', '2178051368', '2083971310', '3142625864', '3180318393', '3255104878', '3378712515', '443776336', '2142601169', '880898248', '1117979751', '2031327464', '2663907001', '55310383', '880898248', '860700529', '1271030853', '2500783281', '1478398256', '3117610635', '511326734', '860700529', '2178051368', '1609060617', '1928710999', '2663907001', '3378712515', '1842679196', '2695611575', '1005756958', '1196156254', '1646621553', '3336454548', '2487424745', '1388323263', '2819545904', '3702001629', '860700529', '2487424745', '2487424745', '325142416', '2599279756', '2487424745', '2487424745', '2348881191', '4023861240', '443776336', '2487424745', '51506836', '880898248', '1388323263', '4023861240', '326006476', '2487424745', '1147642491', '1617121891', '2155701614', '261674136', '497688347', '134193016', '2650223890', '2663907001', '3142625864', '527400765', '511326734', '1478398256', '4142663097', '2376382098', '2110742437', '2484453271', '2487424745', '537508723', '2155701614', '3026014945', '511326734', '537508723', '2663907001', '883482547', '3180318393', '537508723', '331942311', '3378712515', '3180318393', '2376382098', '1669695324', '326006476', '1790886359', '2487424745', '2599279756', '527400765', '325142416', '2487424745', '1478398256', '164374203', '1842679196', '1669695324', '1617121891', '3117610635', '164374203', '1147642491', '2155701614', '1669695324', '1388323263', '3117610635', '3325710106', '443776336', '1005756958', '4023861240', '2155701614', '3117610635', '2487424745', '2599279756', '1388323263', '3129499595', '3395687666', '1614226872', '134193016', '1005756958', '1196156254', '1842679196', '3180318393', '809013380', '1196156254', '3117610635', '809013380', '3378712515', '1669695324', '1609060617', '3026014945', '880898248', '809013380', '809013380', '1196156254', '1005756958', '3989008654', '2083971310', '1928710999', '1388323263', '1892177589', '2142601169', '2206365095', '3325710106', '3716701010', '3904958894', '511326734', '3378712515', '1614226872', '3026014945', '1499065773', '3249305314', '527400765', '2505971401', '880898248', '1816693151', '3117610635', '134833760', '1790886359', '860700529', '1896554896', '3117610635', '527400765', '4023861240', '3180318393', '1140341822', '1790886359', '1617121891', '1928710999', '1669695324', '2688605418', '2819545904', '2819545904', '325142416', '1614226872', '2819545904', '2031327464', '2317998716', '3989008654', '4123612273', '495599312', '1462656821', '3142625864', '2819545904', '127297539', '2370108457', '2630892467', '3716701010', '2505971401', '325142416', '1928710999', '2688605418', '2376382098', '3129499595', '51506836', '3174332735', '1140341822', '164374203', '1928710999', '1140341822', '325142416', '261674136', '261674136', '3462882033', '1669695324', '3431016847', '1614226872', '164374203', '2283904812', '3142625864', '3180318393', '537508723', '1654129794', '3378712515', '511326734', '4023861240', '164374203', '1462656821', '1140341822', '3462882033', '164374203', '325142416', '1842679196', '3462882033', '1140341822', '1669695324', '2500783281', '2630892467', '3026014945', '326006476', '164374203', '1669695324', '3431016847', '1433879684', '2178051368', '4123612273', '3462882033', '72755508', '443776336', '527400765', '2487424745', '261674136', '1816693151', '3378712515', '537508723', '3462882033', '3431016847', '860700529', '1842679196', '2376382098', '261674136', '3249305314', '2178051368', '2031327464', '2599279756', '1147642491', '883482547', '2031327464', '3142625864', '1928710999', '2487424745', '2487424745', '1117979751', '1196156254', '164374203', '1646621553', '3702001629', '495599312', '883482547', '2487424745', '537508723', '1271030853', '1388323263', '1617121891', '164374203', '1790886359', '2630892467', '72755508', '2376382098', '3431016847', '55310383', '261674136', '2487424745', '1892177589', '423725039', '511326734', '2505971401', '2031327464', '1790886359', '537508723', '860700529', '3325710106', '3117610635', '3462882033', '2317998716', '2500783281', '3026014945', '3151318058', '164374203', '4023861240', '860700529', '2348881191', '3180318393', '2688605418', '883482547', '497688347', '2505971401', '1646621553', '1790886359', '2376382098', '261674136', '3378712515', '3117610635', '537508723', '2031327464', '3255104878', '2348881191', '2487424745', '2487424745', '326006476', '326006476', '2031327464', '2083971310', '3378712515', '51506836', '1462656821', '3142625864', '883482547', '1196156254', '51506836', '497688347', '2663907001', '2031327464', '1233833708', '3989008654', '809013380', '1462656821', '880898248', '1462656821', '1609060617', '3142625864', '3142625864', '511326734', '2487424745', '3378712515', '326006476', '880898248', '3142625864', '3325710106', '1005756958', '1654129794', '1617121891', '511326734', '164374203', '3142625864', '1196156254', '1462656821', '3117610635', '3378712515', '1462656821', '2376382098', '134193016', '2348881191', '2599279756', '3249305314', '164374203', '3026014945', '2738291516', '497688347', '423725039', '1462656821', '51506836', '2059096722', '1196156254', '127297539', '2695611575', '809013380', '1462656821', '809013380', '3378712515', '134193016', '134833760', '1654129794', '1669695324', '2376382098', '2505971401', '325142416', '495599312', '1462656821', '1196156254', '2059096722', '1499065773', '1816693151', '2977593493', '3904958894', '809013380', '2738291516', '72755508', '2376382098', '2178051368', '3325710106', '1478398256', '1604596597', '1604596597', '164374203', '3026014945', '4142663097', '1147642491', '423725039', '3325710106', '3255104878', '3325710106', '3702001629', '2688605418', '443776336', '1220154422', '2031327464', '2059096722', '2663907001', '423725039', '3702001629', '1388323263', '2110742437', '1604596597', '1147642491', '1617121891', '2663907001', '2738291516', '537508723', '1604596597', '3702001629', '3255104878', '809013380', '497688347', '134193016', '1433879684', '2059096722', '2206365095', '55310383', '860700529', '1196156254', '1271030853', '127297539', '2317998716', '2650223890', '1478398256', '3026014945', '860700529', '3325710106', '2376382098', '1196156254', '586638664', '2650223890', '3336454548', '1117979751', '1604596597', '3026014945', '2738291516', '860700529', '860700529', '127297539', '1646183815', '2083971310', '2317998716', '860700529', '1604596597', '443776336', '1928710999', '3117610635', '51506836', '1614226872', '860700529', '2376382098', '511326734', '2599279756', '51506836', '2376382098', '2599279756', '1147642491', '1433879684', '3026014945', '586638664', '1604596597', '1604596597', '1609060617', '3026014945', '3026014945', '1617121891', '1196156254', '423725039', '3026014945', '1196156254', '2376382098', '2178051368', '1617121891', '325142416', '1669695324', '2738291516', '860700529', '1005756958', '3026014945', '2059096722', '2059096722', '497688347', '2688605418', '2083971310', '2206365095', '2500783281', '3151318058', '2059096722', '134193016', '2484453271', '3026014945', '3325710106', '2178051368', '3180318393', '1005756958', '443776336', '331942311', '1604596597', '1271030853', '1617121891', '3026014945', '127297539', '3336454548', '1147642491', '331942311', '586638664', '72755508', '2178051368', '1609060617', '537508723', '2738291516', '1196156254', '2083971310', '2348881191', '860700529', '1388323263', '134193016', '134193016', '3255104878', '2487424745', '2487424745', '1617121891', '3395687666', '4142663097', '325142416', '3336454548', '3255104878', '1896554896', '511326734', '586638664', '1462656821', '134193016', '3336454548', '134193016', '497688347', '3026014945', '51506836', '3702001629', '3702001629', '586638664', '2500783281', '127297539', '2738291516', '127297539', '2487424745', '1388323263', '2031327464', '3336454548', '2487424745', '3325710106', '2738291516', '860700529', '3174332735', '4023861240', '2599279756', '511326734', '51506836', '325142416', '2178051368', '4142663097', '1669695324', '2695611575', '3325710106', '2599279756', '2695611575', '3325710106', '586638664', '1614226872', '4023861240', '3378712515', '1654129794', '3026014945', '51506836', '2487424745', '537508723', '4023861240', '1499065773', '511326734', '537508723', '1462656821', '2695611575', '2178051368', '537508723', '51506836', '55310383', '164374203', '3462882033', '860700529', '2695611575', '443776336', '1233833708', '2370108457', '3716701010', '1669695324', '1614226872', '497688347', '809013380', '127297539', '3702001629', '127297539', '72755508', '1669695324', '3325710106', '1462656821', '1005756958', '1669695324', '497688347', '1005756958', '1117979751', '1117979751', '2283904812', '1117979751', '3462882033', '1654129794', '3378712515', '883482547', '1196156254', '1499065773', '1654129794', '527400765', '1816693151', '3117610635', '1271030853', '3325710106', '3989008654', '497688347', '3462882033', '2283904812', '443776336', '3336454548', '3117610635', '3702001629', '3702001629', '2376382098', '2599279756', '3702001629', '3462882033', '1654129794', '72755508', '2630892467', '2059096722', '2487424745', '809013380', '2630892467', '2487424745', '809013380', '3462882033', '51506836', '2663907001', '3142625864', '3255104878', '4023861240', '2487424745', '443776336', '3336454548', '3462882033', '2031327464', '3336454548', '4023861240', '443776336', '1614226872', '3325710106', '3026014945', '1646183815', '2500783281', '3249305314', '2487424745', '3325710106', '3336454548', '2059096722', '3336454548', '3117610635', '3117610635', '883482547', '3026014945', '2688605418', '423725039', '883482547', '2487424745', '1117979751', '3129499595', '3462882033', '1654129794', '2348881191', '497688347', '127297539', '2487424745', '809013380', '2083971310', '2505971401', '1117979751', '1462656821', '2348881191', '2500783281', '3336454548', '2487424745', '3117610635', '497688347', '261674136', '511326734', '1196156254', '51506836', '1609060617', '3702001629', '3702001629', '3142625864', '2059096722', '3462882033', '3325710106', '2031327464', '326006476', '883482547', '2348881191', '3117610635', '2059096722', '883482547', '2505971401', '1614226872', '1005756958', '2487424745', '2487424745', '261674136', '1609060617', '1790886359', '1928710999', '1271030853', '1646183815', '2283904812', '2650223890', '51506836', '527400765', '3142625864', '2695611575', '51506836', '1462656821', '3716701010', '261674136', '3716701010', '2178051368', '2487424745', '134833760', '1462656821', '883482547', '3026014945', '3716701010', '1790886359', '880898248', '1609060617', '1117979751', '883482547', '883482547', '3325710106', '3378712515', '1614226872', '55310383', '1117979751', '1147642491', '1147642491', '1609060617', '1614226872', '261674136', '3249305314', '527400765', '51506836', '586638664', '2695611575', '2650223890', '2376382098', '3026014945', '3378712515', '1816693151', '2819545904', '3142625864', '3180318393', '3255104878', '3378712515', '443776336', '2695611575', '1614226872', '1117979751', '2031327464', '2663907001', '55310383', '127297539', '1614226872', '3904958894', '1271030853', '2500783281', '1271030853', '2376382098', '4142663097', '1388323263', '1271030853', '1928710999', '3378712515', '4023861240', '883482547', '3378712515', '1614226872', '1117979751', '3336454548', '423725039', '325142416', '1388323263', '2819545904', '3702001629', '3462882033', '2348881191', '423725039', '443776336', '4142663097', '325142416', '880898248', '1271030853', '497688347', '1117979751', '423725039', '423725039', '2695611575', '1233833708', '1140341822', '2487424745', '2155701614', '261674136', '134193016', '2663907001', '2695611575', '1478398256', '4142663097', '2376382098', '2348881191', '2110742437', '2484453271', '2487424745', '2505971401', '2650223890', '2155701614', '586638664', '1462656821', '1005756958', '3117610635', '2663907001', '883482547', '1233833708', '1462656821', '2487424745', '1271030853', '2487424745', '1233833708', '423725039', '3702001629', '2031327464', '2031327464', '51506836', '1271030853', '3378712515', '1609060617', '3989008654', '4023861240', '325142416', '1462656821', '127297539', '3325710106', '2688605418', '2155701614', '3336454548', '3026014945', '2376382098', '127297539', '3026014945', '1117979751', '2031327464', '809013380', '2155701614', '2500783281', '3702001629', '1271030853', '1462656821', '3129499595', '3026014945', '3462882033', '2695611575', '1196156254', '1842679196', '3180318393', '809013380', '1196156254', '2376382098', '3026014945', '2348881191', '1005756958', '1669695324', '2083971310', '586638664', '1654129794', '809013380', '3378712515', '127297539', '809013380', '1005756958', '3151318058', '3989008654', '3026014945', '3026014945', '2348881191', '1892177589', '2142601169', '3325710106', '3716701010', '3904958894', '4142663097', '511326734', '3378712515', '809013380', '72755508', '1499065773', '3249305314', '527400765', '2695611575', '1147642491', '809013380', '3180318393', '127297539', '1271030853', '134833760', '1790886359', '3336454548', '3336454548', '1654129794', '4142663097', '1617121891', '2695611575', '1646621553', '1196156254', '51506836', '1117979751', '2695611575', '134193016', '1196156254', '3462882033', '2031327464', '2317998716', '4123612273', '3462882033', '1462656821', '3142625864', '2487424745', '2376382098', '2370108457', '2505971401', '2630892467', '3716701010', '809013380', '3716701010', '2695611575', '3026014945', '2376382098', '2178051368', '1196156254', '2487424745', '2376382098', '3129499595', '2688605418', '1005756958', '3716701010', '3716701010', '2348881191', '2487424745', '51506836', '3142625864', '3026014945', '2487424745', '443776336', '3142625864', '1196156254', '2487424745', '1614226872', '164374203', '2283904812', '3180318393', '537508723', '3336454548', '55310383', '443776336', '72755508', '1140341822', '2142601169', '3904958894', '2142601169', '51506836', '1117979751', '134193016', '2688605418', '1271030853', '1928710999', '2500783281', '2630892467', '3026014945', '3180318393', '326006476', '3336454548', '511326734', '3142625864', '164374203', '51506836', '2178051368', '325142416', '4123612273', '1005756958', '1478398256', '3904958894', '2487424745', '261674136', '51506836', '1196156254', '164374203', '443776336', '1005756958', '3904958894', '3255104878', '1646621553', '1842679196', '3249305314', '2695611575', '3904958894', '1609060617', '1005756958', '2487424745', '1842679196', '3174332735', '1233833708', '1196156254', '1117979751', '164374203', '1646621553', '2650223890', '3142625864', '2142601169', '2178051368', '1271030853', '1388323263', '1617121891', '164374203', '2317998716', '2630892467', '2738291516', '3142625864', '51506836', '3180318393', '51506836', '2376382098', '423725039', '55310383', '325142416', '586638664', '1790886359', '2484453271', '3378712515', '55310383', '2142601169', '443776336', '2695611575', '51506836', '2317998716', '2500783281', '3026014945', '3151318058', '3716701010', '325142416', '2142601169', '2348881191', '3180318393', '4142663097', '3716701010', '883482547', '2142601169', '2695611575', '809013380', '1646621553', '1790886359', '261674136', '1654129794', '2688605418', '2178051368', '72755508', '2142601169', '1790886359', '3142625864', '2688605418', '1816693151', '2695611575', '325142416', '3336454548', '2110742437', '2348881191', '3180318393', '2487424745', '2317998716', '2695611575', '1669695324', '2031327464', '497688347', '1669695324', '2155701614', '3174332735', '2178051368', '443776336', '1388323263', '4123612273', '134833760', '1669695324', '443776336', '3026014945', '72755508', '2178051368', '4123612273', '4123612273', '1669695324', '1196156254', '325142416', '325142416', '2178051368', '1842679196', '3378712515', '3026014945', '2650223890', '2178051368', '2688605418', '4023861240', '3026014945', '3716701010', '1604596597', '1617121891', '4142663097', '3117610635', '1433879684', '2348881191', '2630892467', '2688605418', '3174332735', '3716701010', '3026014945', '1005756958', '3702001629', '1654129794', '3378712515', '3336454548', '51506836', '1646183815', '1892177589', '527400765', '537508723', '2688605418', '134833760', '2738291516', '2484453271', '3904958894', '3378712515', '51506836', '4023861240', '1790886359', '2688605418', '3431016847', '1617121891', '3180318393', '2695611575', '2083971310', '1842679196', '1790886359', '1233833708', '1614226872', '497688347', '3117610635', '3026014945', '1790886359', '2142601169', '3462882033', '127297539', '2059096722', '134833760', '3201519139', '55310383', '1147642491', '325142416', '883482547', '1892177589', '3180318393', '3702001629', '3989008654', '4142663097', '497688347', '72755508', '3142625864', '3716701010', '883482547', '3904958894', '51506836', '55310383', '1462656821', '1604596597', '527400765', '2819545904', '2142601169', '2142601169', '2370108457', '883482547', '3026014945', '2688605418', '164374203', '164374203', '3336454548', '3255104878', '1892177589', '3151318058', '1646621553', '3462882033', '4023861240', '2688605418', '127297539', '164374203', '134833760', '3462882033', '1220154422', '1896554896', '2031327464', '331942311', '1005756958', '3026014945', '3142625864', '127297539', '2376382098', '3117610635', '2688605418', '2142601169', '55310383', '3026014945', '537508723', '325142416', '1433879684', '3201519139', '1842679196', '1654129794', '1604596597', '51506836', '3142625864', '883482547', '2376382098', '2487424745', '2487424745', '2663907001', '3431016847', '2695611575', '3989008654', '809013380', '537508723', '3142625864', '586638664', '2110742437', '2487424745', '2487424745', '1147642491', '2688605418', '1646621553', '2178051368', '2083971310', '3431016847', '880898248', '3378712515', '809013380', '164374203', '1928710999', '51506836', '2178051368', '3117610635', '2688605418', '880898248', '1147642491', '134193016', '2348881191', '2599279756', '3117610635', '3249305314', '2142601169', '2142601169', '3462882033', '325142416', '164374203', '127297539', '4023861240', '537508723', '1196156254', '127297539', '2695611575', '537508723', '2142601169', '164374203', '1654129794', '1669695324', '2505971401', '325142416', '809013380', '3431016847', '2738291516', '809013380', '1117979751', '1499065773', '1816693151', '423725039', '586638664', '2487424745', '2738291516', '51506836', '2178051368', '2487424745', '51506836', '1478398256', '1896554896', '2155701614', '2650223890', '1196156254', '3142625864', '3180318393', '2178051368', '3142625864', '51506836', '1140341822', '2031327464', '2059096722', '2663907001', '423725039', '127297539', '127297539', '127297539', '1499065773', '2370108457', '2738291516', '134833760', '3117610635', '3026014945', '2059096722', '2487424745', '1220154422', '443776336', '134193016', '1433879684', '2206365095', '2650223890', '55310383', '1196156254', '127297539', '2317998716', '2650223890', '1646621553', '3026014945', '1842679196', '2487424745', '1896554896', '1896554896', '3336454548', '325142416', '3174332735', '2178051368', '1614226872', '127297539', '1646183815', '2083971310', '2317998716', '860700529', '1196156254', '1646621553', '2487424745', '2487424745', '2487424745', '3026014945', '1896554896', '127297539', '3174332735', '3026014945', '1896554896', '2059096722', '2178051368', '3716701010', '1614226872', '3325710106', '1433879684', '3716701010', '1614226872', '497688347', '1196156254', '2348881191', '2142601169', '1433879684', '72755508', '1117979751', '1669695324', '1816693151', '2695611575', '3142625864', '127297539', '1005756958', '2059096722', '2695611575', '3026014945', '51506836', '2083971310', '2206365095', '2500783281', '3151318058', '1842679196', '1462656821', '1614226872', '443776336', '497688347', '3142625864', '2695611575', '1646621553', '2142601169', '3716701010', '3117610635', '2083971310', '51506836', '4023861240', '1005756958', '1896554896', '586638664', '2142601169', '1928710999', '2487424745', '1614226872', '3142625864', '1005756958', '2083971310', '1614226872', '3378712515', '3702001629', '2487424745', '2695611575', '51506836', '51506836', '2031327464', '3395687666', '127297539', '3129499595', '51506836', '2142601169', '1896554896', '2688605418', '2688605418', '1117979751', '127297539', '2819545904', '3336454548', '1614226872', '4023861240', '3026014945', '1896554896', '2142601169', '3129499595', '1896554896', '164374203', '586638664', '443776336', '1669695324', '2487424745', '443776336', '1005756958', '1388323263', '3336454548', '1896554896', '127297539', '1117979751', '4023861240', '2376382098', '2142601169', '3026014945', '4142663097', '2178051368', '1433879684', '4142663097', '261674136', '2487424745', '1433879684', '4023861240', '3180318393', '2487424745', '2487424745', '443776336', '3378712515', '2819545904', '537508723', '1005756958', '164374203', '1005756958', '1117979751', '1499065773', '3174332735', '2178051368', '4142663097', '537508723', '537508723', '537508723', '3174332735', '164374203', '3378712515', '3716701010', '809013380', '2178051368', '164374203', '3142625864', '1614226872', '3378712515', '3378712515', '3142625864', '1478398256', '1892177589', '2370108457', '3716701010', '809013380', '1896554896', '443776336', '2819545904', '1892177589', '3378712515', '51506836', '127297539', '3142625864', '2283904812', '3378712515', '1117979751', '3462882033', '1196156254', '2695611575', '3378712515', '3180318393', '1196156254', '1654129794', '495599312', '1499065773', '1816693151', '1005756958', '3325710106', '51506836', '1478398256', '2283904812', '1117979751', '3142625864', '3249305314', '511326734', '2178051368', '1117979751', '3142625864', '2819545904', '809013380', '2487424745', '1669695324', '497688347', '809013380', '3378712515', '2059096722', '883482547', '2142601169', '443776336', '127297539', '883482547', '2142601169', '2695611575', '809013380', '2663907001', '2688605418', '3142625864', '3255104878', '4023861240', '883482547', '809013380', '2178051368', '1433879684', '537508723', '443776336', '2142601169', '2487424745', '1196156254', '2487424745', '2142601169', '2487424745', '3336454548', '2487424745', '4142663097', '1617121891', '2487424745', '1617121891', '2695611575', '2178051368', '883482547', '2738291516', '2487424745', '423725039', '2487424745', '423725039', '497688347', '809013380', '3026014945', '127297539', '2083971310', '1388323263', '1617121891', '2500783281', '3336454548', '3378712515', '2487424745', '2738291516', '1617121891', '261674136', '511326734', '2487424745', '1892177589', '2487424745', '2178051368', '2487424745', '3702001629', '423725039', '55310383', '809013380', '1669695324', '880898248', '1842679196', '2142601169', '1478398256', '1433879684', '1196156254', '883482547', '2031327464', '1433879684', '2142601169', '1117979751', '4142663097', '134833760', '325142416', '134833760', '809013380', '3378712515', '3151318058', '1117979751', '1790886359', '1928710999', '809013380', '1140341822', '1271030853', '2283904812', '2650223890', '537508723', '527400765', '883482547', '3174332735', '51506836', '527400765', '55310383', '2348881191', '3129499595', '497688347', '2630892467', '497688347', '1196156254', '423725039', '809013380', '2738291516', '1614226872', '1196156254', '3026014945', '3026014945', '1617121891', '3378712515', '2142601169', '3129499595', '537508723', '1896554896', '586638664', '2178051368', '1147642491', '1147642491', '1609060617', '1614226872', '2819545904', '3249305314', '331942311', '3378712515', '3026014945', '1790886359', '2484453271', '2650223890', '2487424745', '3129499595', '3174332735', '2083971310', '3142625864', '3180318393', '3255104878', '3378712515', '443776336', '495599312', '809013380', '423725039', '1117979751', '2031327464', '2663907001', '3117610635', '511326734', '55310383', '2487424745', '2178051368', '164374203', '1271030853', '2500783281', '55310383', '2487424745', '164374203', '3378712515', '2688605418', '1609060617', '1816693151', '1928710999', '2663907001', '3378712515', '883482547', '3716701010', '2599279756', '51506836', '3336454548', '4023861240', '127297539', '1388323263', '2819545904', '3702001629', '3142625864', '3026014945', '1614226872', '4142663097', '1614226872', '2142601169', '3129499595', '809013380', '443776336', '2688605418', '2819545904', '2819545904', '1646621553', '3174332735', '3201519139', '880898248', '1614226872', '809013380', '1614226872', '1790886359', '2487424745', '423725039', '2155701614', '261674136', '134193016', '2663907001', '2142601169', '1478398256', '325142416', '4142663097', '2376382098', '3201519139', '883482547', '3716701010', '2110742437', '2484453271', '2487424745', '1614226872', '1196156254', '2155701614', '2738291516', '1896554896', '3117610635', '2283904812', '2663907001', '883482547', '809013380', '423725039', '2142601169', '4023861240', '1433879684', '443776336', '2178051368', '1462656821', '2487424745', '537508723', '1928710999', '2142601169', '1147642491', '1433879684', '3336454548', '2487424745', '443776336', '134833760', '883482547', '1196156254', '883482547', '2155701614', '2142601169', '51506836', '4023861240', '325142416', '51506836', '3378712515', '127297539', '1388323263', '2155701614', '3117610635', '1433879684', '883482547', '1614226872', '3129499595', '3201519139', '3395687666', '3462882033', '3129499595', '1669695324', '1196156254', '1842679196', '3180318393', '809013380', '1892177589', '1478398256', '2083971310', '325142416', '1669695324', '3129499595', '3117610635', '1617121891', '325142416', '3180318393', '1005756958', '3989008654', '3336454548', '3129499595', '2206365095', '1005756958', '134833760', '1892177589', '2142601169', '2206365095', '3325710106', '3716701010', '3904958894', '511326734', '1614226872', '3378712515', '1617121891', '1499065773', '3249305314', '527400765', '164374203', '127297539', '1896554896', '1147642491', '134833760', '1790886359', '1842679196', '1896554896', '2505971401', '443776336', '1617121891', '164374203', '3174332735', '3180318393', '2487424745', '1117979751', '1842679196', '3716701010', '1617121891', '527400765', '527400765', '586638664', '3117610635', '1147642491', '1896554896', '3336454548', '4142663097', '3026014945', '1617121891', '2487424745', '2031327464', '2317998716', '4123612273', '1462656821', '3142625864', '1117979751', '3378712515', '2370108457', '2630892467', '3716701010', '4142663097', '2487424745', '331942311', '1147642491', '127297539', '2376382098', '3129499595', '2348881191', '3336454548', '3026014945', '1842679196', '1928710999', '2487424745', '511326734', '2487424745', '127297539', '1892177589', '2487424745', '164374203', '261674136', '1614226872', '164374203', '2283904812', '3180318393', '537508723', '1617121891', '164374203', '511326734', '2487424745', '1462656821', '2688605418', '2819545904', '1433879684', '1147642491', '3026014945', '1892177589', '1433879684', '1271030853', '2500783281', '2630892467', '3026014945', '326006476', '880898248', '511326734', '880898248', '1433879684', '2178051368', '4123612273', '1892177589', '1896554896', '3026014945', '2487424745', '261674136', '3378712515', '3180318393', '2348881191', '2695611575', '3378712515', '2142601169', '586638664', '1842679196', '3249305314', '2695611575', '325142416', '2142601169', '3378712515', '3716701010', '2487424745', '2142601169', '3378712515', '1433879684', '4142663097', '1117979751', '1196156254', '164374203', '1646621553', '495599312', '1196156254', '2178051368', '127297539', '1928710999', '4142663097', '1271030853', '1388323263', '1617121891', '164374203', '1790886359', '2630892467', '1147642491', '2487424745', '134833760', '809013380', '3026014945', '2487424745', '423725039', '3117610635', '1892177589', '1790886359', '2487424745', '2487424745', '2487424745', '1669695324', '2487424745', '2317998716', '2500783281', '3026014945', '3151318058', '1147642491', '1896554896', '2348881191', '3180318393', '1669695324', '809013380', '134833760', '883482547', '1669695324', '3117610635', '1646621553', '1790886359', '261674136', '3026014945', '2348881191', '3462882033', '3378712515', '2695611575', '1928710999', '2819545904', '127297539', '3142625864', '1816693151', '2695611575', '2110742437', '2348881191', '2695611575', '1196156254', '2317998716', '2695611575', '134833760', '1669695324', '497688347', '2695611575', '2155701614', '3174332735', '3174332735', '4123612273', '3716701010', '537508723', '537508723', '3117610635', '3026014945', '1196156254', '1196156254', '325142416', '3378712515', '3336454548', '2348881191', '2819545904', '3026014945', '4142663097', '3117610635', '134833760', '1842679196', '1196156254', '2110742437', '134833760', '1433879684', '2630892467', '2688605418', '3716701010', '127297539', '537508723', '1896554896', '537508723', '2695611575', '127297539', '1462656821', '1646183815', '527400765', '537508723', '3117610635', '3026014945', '1433879684', '3117610635', '2283904812', '2484453271', '1892177589', '1433879684', '261674136', '1790886359', '860700529', '1892177589', '51506836', '127297539', '4142663097', '1388323263', '1669695324', '1233833708', '1614226872', '880898248', '2142601169', '3378712515', '497688347', '1196156254', '1462656821', '51506836', '2142601169', '2142601169', '3336454548', '3026014945', '51506836', '2599279756', '3201519139', '2505971401', '2142601169', '325142416', '3026014945', '1892177589', '127297539', '3026014945', '1892177589', '3180318393', '3462882033', '4142663097', '72755508', '2142601169', '2142601169', '51506836', '261674136', '1892177589', '1462656821', '1604596597', '527400765', '1892177589', '1646621553', '325142416', '2142601169', '2370108457', '4023861240', '3716701010', '3129499595', '3716701010', '1117979751', '443776336', '1892177589', '72755508', '1433879684', '1220154422', '4023861240', '3378712515', '134833760', '4023861240', '134833760', '2142601169', '1220154422', '1896554896', '331942311', '3378712515', '1196156254', '3336454548', '2376382098', '2738291516', '3117610635', '4023861240', '443776336', '2142601169', '443776336', '511326734', '2487424745', '1478398256', '3378712515', '2142601169', '325142416', '1892177589', '1892177589', '1604596597', '51506836', '3142625864', '883482547', '2695611575', '3129499595', '1196156254', '2663907001', '3989008654', '809013380', '1388323263', '3142625864', '134833760', '809013380', '2142601169', '497688347', '1654129794', '325142416', '325142416', '3180318393', '511326734', '3431016847', '3142625864', '1842679196', '1196156254', '2487424745', '511326734', '3117610635', '2487424745', '2178051368', '1433879684', '134193016', '2348881191', '2599279756', '3249305314', '2487424745', '1117979751', '3325710106', '809013380', '325142416', '2487424745', '1147642491', '1478398256', '1196156254', '127297539', '2695611575', '2178051368', '3378712515', '4023861240', '134193016', '134833760', '1654129794', '1669695324', '2505971401', '325142416', '3117610635', '3431016847', '3142625864', '1499065773', '1816693151', '2977593493', '809013380', '127297539', '3180318393', '527400765', '3378712515', '127297539', '3026014945', '809013380', '325142416', '3395687666', '3117610635', '1271030853', '1196156254', '127297539', '443776336', '1220154422', '2031327464', '2059096722', '2663907001', '423725039', '3378712515', '127297539', '3026014945', '4142663097', '325142416', '1617121891', '2738291516', '537508723', '4142663097', '2110742437', '3026014945', '809013380', '537508723', '134193016', '1433879684', '2206365095', '3026014945', '1928710999', '1196156254', '127297539', '2317998716', '2650223890', '127297539', '3325710106', '443776336', '497688347', '4142663097', '2178051368', '3336454548', '1271030853', '3378712515', '3180318393', '127297539', '3142625864', '1271030853', '809013380', '127297539', '1646183815', '2083971310', '2317998716', '860700529', '3180318393', '3431016847', '809013380', '1842679196', '809013380', '1928710999', '860700529', '3129499595', '860700529', '4142663097', '1271030853', '1196156254', '3325710106', '2110742437', '3325710106', '2083971310', '860700529', '1433879684', '1462656821', '331942311', '860700529', '2155701614', '2110742437', '860700529', '511326734', '2083971310', '1433879684', '1669695324', '2688605418', '2178051368', '3325710106', '1271030853', '2178051368', '2059096722', '4142663097', '1896554896', '2083971310', '2206365095', '2500783281', '3151318058', '3325710106', '1462656821', '1896554896', '1462656821', '1928710999', '3462882033', '1271030853', '3325710106', '2178051368', '3026014945', '3325710106', '1271030853', '3129499595', '3904958894', '586638664', '1928710999', '3325710106', '443776336', '3180318393', '127297539', '1196156254', '1617121891', '2083971310', '1896554896', '1892177589', '1892177589', '127297539', '127297539', '3462882033', '4023861240', '4142663097', '3395687666', '527400765', '1196156254', '1117979751', '3336454548', '4142663097', '1896554896', '1388323263', '1433879684', '127297539', '3336454548', '3395687666', '1478398256', '1928710999', '2348881191', '3026014945', '511326734', '127297539', '2083971310', '2142601169', '1478398256', '3325710106', '3026014945', '1896554896', '3378712515', '1388323263', '3336454548', '809013380', '2142601169', '3129499595', '4023861240', '4142663097', '809013380', '2142601169', '809013380', '3336454548', '127297539', '511326734', '2178051368', '527400765', '4142663097', '1220154422', '1140341822', '4142663097', '2487424745', '511326734', '443776336', '261674136', '325142416', '3378712515', '3462882033', '809013380', '4142663097', '261674136', '809013380', '2487424745', '3129499595', '127297539', '1896554896', '1499065773', '2487424745', '2178051368', '3180318393', '443776336', '3026014945', '2487424745', '3325710106', '860700529', '2376382098', '883482547', '3716701010', '2376382098', '4142663097', '883482547', '1478398256', '164374203', '2155701614', '127297539', '2178051368', '2155701614', '511326734', '1233833708', '2370108457', '3716701010', '860700529', '1617121891', '127297539', '1617121891', '860700529', '2178051368', '4023861240', '860700529', '2178051368', '2283904812', '3336454548', '3462882033', '127297539', '3378712515', '2487424745', '4142663097', '1196156254', '1654129794', '2487424745', '1816693151', '3325710106', '4123612273', '127297539', '2083971310', '2283904812', '261674136', '586638664', '1233833708', '2178051368', '3117610635', '127297539', '2348881191', '1271030853', '3117610635', '2487424745', '2083971310', '3336454548', '1233833708', '4023861240', '4142663097', '2059096722', '1220154422', '2487424745', '2977593493', '1271030853', '2142601169', '2348881191', '2487424745', '2178051368', '2695611575', '2663907001', '3142625864', '3255104878', '4023861240', '1196156254', '2695611575', '1928710999', '443776336', '1617121891', '809013380', '809013380', '443776336', '325142416', '2110742437', '1617121891', '1462656821', '1928710999', '443776336', '2142601169', '2142601169', '3336454548', '1617121891', '2178051368', '809013380', '809013380', '883482547', '3117610635', '127297539', '3462882033', '2083971310', '1388323263', '127297539', '1928710999', '1147642491', '1462656821', '497688347', '127297539', '2317998716', '1654129794', '3462882033', '2083971310', '809013380', '1617121891', '325142416', '2500783281', '3336454548', '127297539', '1896554896', '1892177589', '1196156254', '1271030853', '261674136', '3431016847', '511326734', '1388323263', '511326734', '2206365095', '261674136', '527400765', '3129499595', '1892177589', '3462882033', '3702001629', '1669695324', '3431016847', '1220154422', '511326734', '1896554896', '3249305314', '2348881191', '2695611575', '1669695324', '2505971401', '2031327464', '2348881191', '3174332735', '3462882033', '2317998716', '2348881191', '1928710999', '2142601169', '443776336', '3378712515', '883482547', '2695611575', '1790886359', '1928710999', '809013380', '1271030853', '2663907001', '2283904812', '2487424745', '2650223890', '3462882033', '1816693151', '1896554896', '2505971401', '3180318393', '527400765', '1669695324', '2142601169', '325142416', '51506836', '883482547', '1196156254', '1271030853', '2376382098', '443776336', '3249305314', '1196156254', '1478398256', '860700529', '261674136', '1617121891', '2738291516', '2083971310', '860700529', '1140341822', '1220154422', '1140341822', '1669695324', '1669695324', '1669695324', '1117979751', '1147642491', '1147642491', '1609060617', '1614226872', '2155701614', '261674136', '3249305314', '527400765', '537508723', '1842679196', '325142416', '1271030853', '2650223890', '3378712515', '2317998716', '809013380', '2819545904', '3142625864', '3180318393', '3255104878', '3378712515', '443776336', '809013380', '2348881191', '4142663097', '1117979751', '2031327464', '2663907001', '55310383', '1669695324', '3180318393', '1271030853', '127297539', '2500783281', '2059096722', '2142601169', '164374203', '2819545904', '1196156254', '3129499595', '1220154422', '1928710999', '3378712515', '4023861240', '883482547', '860700529', '2142601169', '3431016847', '1842679196', '3336454548', '3378712515', '3378712515', '1388323263', '2819545904', '3702001629', '1196156254', '1140341822', '2376382098', '2083971310', '127297539', '2348881191', '2376382098', '1617121891', '1617121891', '443776336', '3378712515', '1617121891', '3129499595', '880898248', '860700529', '3325710106', '1617121891', '2487424745', '51506836', '3249305314', '2155701614', '261674136', '1005756958', '134193016', '2663907001', '883482547', '3142625864', '1478398256', '3989008654', '4142663097', '4023861240', '1928710999', '2376382098', '2110742437', '2484453271', '2487424745', '1196156254', '2155701614', '2059096722', '3142625864', '3336454548', '51506836', '3180318393', '2663907001', '883482547', '2376382098', '1388323263', '127297539', '1654129794', '1478398256', '2650223890', '2376382098', '3129499595', '325142416', '1140341822', '2283904812', '1462656821', '1388323263', '511326734', '4123612273', '1478398256', '3431016847', '134833760', '2155701614', '3336454548', '1196156254', '2650223890', '2695611575', '1669695324', '127297539', '2142601169', '2283904812', '1388323263', '2155701614', '1220154422', '4023861240', '2083971310', '3129499595', '2688605418', '2142601169', '1388323263', '1196156254', '1842679196', '3180318393', '809013380', '2059096722', '325142416', '1388323263', '2142601169', '1669695324', '1478398256', '1669695324', '2695611575', '1433879684', '2695611575', '1790886359', '1604596597', '1669695324', '1005756958', '2819545904', '3151318058', '3989008654', '1433879684', '3431016847', '3431016847', '1892177589', '2142601169', '261674136', '3174332735', '3325710106', '3716701010', '3904958894', '4142663097', '511326734', '4123612273', '1604596597', '1669695324', '1646621553', '1499065773', '3249305314', '527400765', '1433879684', '2376382098', '1654129794', '1669695324', '2688605418', '134833760', '1790886359', '2206365095', '1896554896', '1646621553', '127297539', '1604596597', '3395687666', '2376382098', '1617121891', '4123612273', '1669695324', '2688605418', '3378712515', '4023861240', '1220154422', '1790886359', '1896554896', '2155701614', '1617121891', '2487424745', '3249305314', '1609060617', '2031327464', '2317998716', '4123612273', '1842679196', '1462656821', '3142625864', '51506836', '2370108457', '2630892467', '3716701010', '3142625864', '497688347', '1617121891', '1617121891', '586638664', '3142625864', '2283904812', '2376382098', '3129499595', '3129499595', '2142601169', '1790886359', '880898248', '1896554896', '3378712515', '2695611575', '2376382098', '3378712515', '3180318393', '3142625864', '527400765', '2487424745', '1646621553', '1614226872', '1433879684', '1669695324', '1614226872', '164374203', '2283904812', '3180318393', '537508723', '1478398256', '1433879684', '4123612273', '2178051368', '1609060617', '4123612273', '860700529', '2738291516', '2487424745', '1196156254', '1147642491', '3174332735', '1604596597', '2695611575', '1928710999', '2500783281', '2630892467', '3026014945', '326006476', '1614226872', '860700529', '2487424745', '134833760', '2178051368', '325142416', '4123612273', '3702001629', '4023861240', '3702001629', '2487424745', '261674136', '1669695324', '2206365095', '2688605418', '880898248', '1614226872', '4142663097', '1842679196', '3249305314', '3117610635', '443776336', '586638664', '1196156254', '1147642491', '2487424745', '1433879684', '127297539', '1669695324', '1117979751', '164374203', '1646621553', '2142601169', '1614226872', '1669695324', '443776336', '1271030853', '1388323263', '1617121891', '164374203', '2317998716', '2630892467', '2283904812', '1196156254', '51506836', '3336454548', '331942311', '4123612273', '423725039', '1478398256', '3336454548', '1790886359', '1617121891', '1196156254', '3702001629', '1617121891', '325142416', '1617121891', '2317998716', '2500783281', '3026014945', '3151318058', '51506836', '443776336', '2348881191', '3180318393', '1896554896', '1896554896', '3378712515', '883482547', '2142601169', '2487424745', '1646621553', '1790886359', '261674136', '2663907001', '586638664', '1271030853', '2688605418', '527400765', '3336454548', '3378712515', '1816693151', '3142625864', '3249305314', '4142663097', '1816693151', '2695611575', '1388323263', '2031327464', '2110742437', '2348881191', '2695611575', '1614226872', '860700529', '2317998716', '2695611575', '1669695324', '497688347', '2487424745', '2155701614', '3174332735', '2688605418', '4123612273', '2487424745', '51506836', '1433879684', '3117610635', '1646621553', '3378712515', '1669695324', '1196156254', '325142416', '527400765', '2142601169', '1669695324', '1896554896', '325142416', '2695611575', '3117610635', '2059096722', '1462656821', '2505971401', '3716701010', '1669695324', '3142625864', '1646621553', '325142416', '2505971401', '1669695324', '1614226872', '1433879684', '2348881191', '2630892467', '2688605418', '3174332735', '3716701010', '1896554896', '1196156254', '1478398256', '3142625864', '2738291516', '860700529', '860700529', '1462656821', '1646183815', '1892177589', '527400765', '537508723', '3716701010', '527400765', '2487424745', '2484453271', '3904958894', '1220154422', '1614226872', '2695611575', '1790886359', '2688605418', '3431016847', '1614226872', '4142663097', '326006476', '3431016847', '586638664', '1462656821', '2487424745', '1233833708', '1614226872', '1669695324', '1669695324', '1462656821', '880898248', '2487424745', '2178051368', '2487424745', '3716701010', '1654129794', '2977593493', '3201519139', '860700529', '1220154422', '331942311', '1892177589', '2110742437', '2663907001', '3180318393', '3702001629', '3989008654', '4142663097', '72755508', '1462656821', '1433879684', '2695611575', '4142663097', '1896554896', '1462656821', '1604596597', '527400765', '2348881191', '1654129794', '2376382098', '2142601169', '2370108457', '3716701010', '2695611575', '51506836', '1117979751', '1499065773', '1892177589', '2083971310', '3180318393', '3716701010', '4023861240', '2155701614', '3431016847', '2178051368', '51506836', '3702001629', '1220154422', '1896554896', '2650223890', '3249305314', '331942311', '2487424745', '586638664', '2376382098', '3117610635', '1462656821', '2110742437', '2155701614', '1478398256', '880898248', '860700529', '860700529', '1433879684', '1604596597', '51506836', '3142625864', '883482547', '51506836', '2155701614', '326006476', '1614226872', '2663907001', '3989008654', '809013380', '331942311', '3142625864', '1617121891', '3117610635', '3378712515', '3117610635', '1614226872', '325142416', '2376382098', '586638664', '883482547', '527400765', '3117610635', '3431016847', '3431016847', '2695611575', '3117610635', '1196156254', '326006476', '4023861240', '1614226872', '3117610635', '51506836', '527400765', '3026014945', '134193016', '2348881191', '2599279756', '3249305314', '1669695324', '2505971401', '4023861240', '527400765', '2376382098', '325142416', '1220154422', '2695611575', '1196156254', '127297539', '2695611575', '2142601169', '51506836', '1896554896', '3431016847', '1654129794', '1669695324', '2505971401', '325142416', '527400765', '3716701010', '2142601169', '1499065773', '1816693151', '586638664', '443776336', '3336454548', '51506836', '3431016847', '2695611575', '1617121891', '1478398256', '1896554896', '51506836', '1609060617', '2376382098', '1614226872', '443776336', '1617121891', '2487424745', '1433879684', '1140341822', '2031327464', '2059096722', '2663907001', '423725039', '1614226872', '2688605418', '4023861240', '51506836', '1271030853', '1499065773', '2370108457', '2738291516', '1614226872', '4142663097', '2142601169', '527400765', '134193016', '1433879684', '2206365095', '1614226872', '2487424745', '4142663097', '1196156254', '127297539', '2317998716', '2650223890', '1609060617', '331942311', '1614226872', '3336454548', '325142416', '1669695324', '3336454548', '72755508', '3180318393', '2487424745', '1388323263', '2487424745', '3716701010', '2487424745', '127297539', '1646183815', '2083971310', '2317998716', '326006476', '860700529', '2487424745', '1433879684', '1790886359', '1499065773', '880898248', '1117979751', '1790886359', '4023861240', '586638664', '2059096722', '2505971401', '3378712515', '1614226872', '2487424745', '1433879684', '51506836', '2206365095', '1609060617', '2083971310', '2487424745', '3180318393', '2155701614', '3174332735', '1669695324', '3180318393', '2487424745', '2059096722', '325142416', '2155701614', '1462656821', '2083971310', '2206365095', '2500783281', '3151318058', '1842679196', '1892177589', '3431016847', '1896554896', '1478398256', '809013380', '2505971401', '4123612273', '3129499595', '4142663097', '2206365095', '1669695324', '4123612273', '3702001629', '2370108457', '1614226872', '1896554896', '2283904812', '586638664', '809013380', '3129499595', '1220154422', '1790886359', '1388323263', '2083971310', '2083971310', '3336454548', '2155701614', '1617121891', '2206365095', '1654129794', '1669695324', '2370108457', '1617121891', '3378712515', '3395687666', '809013380', '51506836', '586638664', '1896554896', '2487424745', '2142601169', '2487424745', '3336454548', '809013380', '1196156254', '1614226872', '2370108457', '3716701010', '3129499595', '1669695324', '51506836', '1478398256', '1654129794', '443776336', '527400765', '1388323263', '3336454548', '2142601169', '2110742437', '443776336', '2977593493', '2663907001', '4023861240', '1790886359', '1614226872', '443776336', '1614226872', '3117610635', '4142663097', '586638664', '164374203', '3325710106', '2695611575', '3026014945', '1669695324', '1614226872', '326006476', '3378712515', '3117610635', '1117979751', '3129499595', '3325710106', '1499065773', '3117610635', '3174332735', '1896554896', '3325710106', '1499065773', '164374203', '51506836', '3716701010', '3129499595', '2487424745', '3249305314', '2695611575', '1842679196', '2695611575', '1196156254', '134833760', '2083971310', '164374203', '3255104878', '1654129794', '1654129794', '2695611575', '2695611575', '1117979751', '2370108457', '3716701010', '511326734', '2819545904', '2206365095', '1433879684', '2487424745', '2695611575', '2695611575', '2283904812', '3395687666', '3904958894', '2487424745', '2059096722', '2505971401', '3462882033', '3378712515', '3180318393', '1896554896', '1196156254', '1654129794', '1892177589', '3026014945', '1816693151', '3325710106', '1790886359', '2283904812', '2206365095', '2695611575', '1614226872', '331942311', '2505971401', '3325710106', '1433879684', '1614226872', '1614226872', '511326734', '1896554896', '586638664', '164374203', '2505971401', '2695611575', '2059096722', '3117610635', '1669695324', '1196156254', '2142601169', '2206365095', '2487424745', '2695611575', '2487424745', '2663907001', '3142625864', '3255104878', '4023861240', '3129499595', '3378712515', '2487424745', '3716701010', '1499065773', '2663907001', '2738291516', '443776336', '3026014945', '527400765', '4142663097', '3378712515', '443776336', '1388323263', '2977593493', '3336454548', '1478398256', '3378712515', '1669695324', '3462882033', '3325710106', '3255104878', '511326734', '4142663097', '1928710999', '1196156254', '2487424745', '3378712515', '1790886359', '497688347', '497688347', '3378712515', '1433879684', '51506836', '2083971310', '2688605418', '2487424745', '164374203', '2500783281', '3336454548', '3180318393', '1433879684', '3026014945', '261674136', '511326734', '2487424745', '134833760', '2376382098', '72755508', '3026014945', '51506836', '2059096722', '1816693151', '3702001629', '443776336', '4023861240', '2059096722', '1499065773', '2695611575', '4142663097', '1790886359', '325142416', '51506836', '1892177589', '2031327464', '2819545904', '3129499595', '1388323263', '2695611575', '2695611575', '1499065773', '3129499595', '3129499595', '495599312', '1196156254', '1790886359', '1928710999', '1271030853', '2283904812', '2650223890', '511326734', '527400765', '1896554896', '1669695324', '331942311', '51506836', '2695611575', '586638664', '331942311', '325142416', '3129499595', '860700529', '3378712515', '3129499595', '2688605418', '2206365095', '443776336', '1196156254', '2487424745', '1896554896', '2505971401', '1669695324', '1196156254', '3378712515', '1005756958', '497688347', '3026014945', '443776336', '1147642491', '1147642491', '1609060617', '1614226872', '3249305314', '331942311', '3026014945', '1842679196', '2484453271', '2650223890', '3026014945', '2688605418', '443776336', '2083971310', '3142625864', '3180318393', '3255104878', '3378712515', '443776336', '586638664', '325142416', '511326734', '1117979751', '134833760', '2031327464', '2663907001', '3129499595', '55310383', '3026014945', '1196156254', '1271030853', '2500783281', '331942311', '2487424745', '3026014945', '2738291516', '127297539', '2376382098', '1609060617', '1928710999', '2663907001', '3378712515', '860700529', '1196156254', '1646621553', '1604596597', '2695611575', '3336454548', '3378712515', '1388323263', '2819545904', '3702001629', '4023861240', '3462882033', '2487424745', '4142663097', '2599279756', '127297539', '3026014945', '3026014945', '2695611575', '2695611575', '443776336', '3026014945', '4142663097', '880898248', '51506836', '1196156254', '2376382098', '2487424745', '3336454548', '2155701614', '261674136', '134193016', '2663907001', '331942311', '1433879684', '1478398256', '3129499595', '4142663097', '2599279756', '2376382098', '1220154422', '2110742437', '2155701614', '2484453271', '2487424745', '1388323263', '2155701614', '2376382098', '1896554896', '2487424745', '3378712515', '1271030853', '2663907001', '883482547', '1196156254', '1433879684', '164374203', '2155701614', '2487424745', '325142416', '2487424745', '2487424745', '72755508', '1790886359', '2206365095', '2370108457', '2487424745', '809013380', '1896554896', '2206365095', '2155701614', '1462656821', '860700529', '1462656821', '2206365095', '2059096722', '1462656821', '2155701614', '3117610635', '3395687666', '1604596597', '2206365095', '1790886359', '3129499595', '3395687666', '2487424745', '3255104878', '2206365095', '1196156254', '1842679196', '3180318393', '809013380', '2487424745', '1604596597', '2376382098', '1669695324', '2083971310', '1005756958', '1896554896', '51506836', '51506836', '3142625864', '1614226872', '325142416', '1005756958', '3989008654', '860700529', '3378712515', '1609060617', '1892177589', '2142601169', '2206365095', '3325710106', '3716701010', '3904958894', '511326734', '443776336', '2206365095', '1609060617', '1499065773', '3249305314', '527400765', '1005756958', '443776336', '3431016847', '1614226872', '325142416', '860700529', '134833760', '134833760', '1790886359', '1478398256', '1614226872', '4023861240', '3378712515', '809013380', '127297539', '4142663097', '586638664', '1147642491', '1617121891', '3378712515', '4142663097', '127297539', '1388323263', '1609060617', '4123612273', '3462882033', '127297539', '1462656821', '2031327464', '2317998716', '3142625864', '4123612273', '164374203', '1462656821', '3142625864', '511326734', '2370108457', '2630892467', '2977593493', '3716701010', '4023861240', '4123612273', '2599279756', '497688347', '2110742437', '1005756958', '2487424745', '2376382098', '3129499595', '497688347', '3462882033', '4142663097', '2505971401', '3378712515', '2487424745', '497688347', '2206365095', '860700529', '3255104878', '497688347', '2599279756', '2142601169', '3378712515', '2487424745', '1790886359', '1614226872', '164374203', '2283904812', '3180318393', '537508723', '4142663097', '3378712515', '164374203', '1462656821', '1609060617', '1005756958', '164374203', '1147642491', '2376382098', '2206365095', '1928710999', '72755508', '2599279756', '443776336', '2500783281', '2599279756', '2630892467', '3026014945', '326006476', '2487424745', '2206365095', '325142416', '1433879684', '4123612273', '2487424745', '3378712515', '1928710999', '2487424745', '261674136', '2505971401', '1196156254', '261674136', '860700529', '2487424745', '325142416', '1842679196', '2376382098', '3249305314', '3180318393', '1433879684', '2505971401', '2206365095', '3180318393', '2484453271', '2142601169', '443776336', '1388323263', '1117979751', '1196156254', '164374203', '1646621553', '2031327464', '2370108457', '495599312', '261674136', '325142416', '1147642491', '2206365095', '1271030853', '1388323263', '1617121891', '164374203', '1790886359', '2630892467', '1928710999', '2206365095', '2142601169', '511326734', '1669695324', '423725039', '261674136', '2142601169', '1790886359', '1928710999', '4123612273', '127297539', '3180318393', '1196156254', '3026014945', '127297539', '2317998716', '2500783281', '3026014945', '3151318058', '164374203', '1196156254', '2348881191', '3180318393', '134833760', '860700529', '3026014945', '883482547', '2206365095', '537508723', '1646621553', '1790886359', '261674136', '261674136', '1928710999', '1928710999', '1617121891', '2487424745', '2484453271', '325142416', '3142625864', '3325710106', '1816693151', '2695611575', '2110742437', '2348881191', '1617121891', '2484453271', '2317998716', '2695611575', '1147642491', '1654129794', '1669695324', '2688605418', '497688347', '2155701614', '2650223890', '3174332735', '3716701010', '1433879684', '4123612273', '537508723', '2484453271', '2599279756', '2484453271', '3378712515', '1617121891', '3702001629', '1196156254', '2500783281', '325142416', '3395687666', '3904958894', '511326734', '2142601169', '1928710999', '3378712515', '325142416', '164374203', '127297539', '325142416', '3716701010', '3378712515', '2142601169', '134833760', '860700529', '1005756958', '860700529', '537508723', '860700529', '2142601169', '1147642491', '1433879684', '2630892467', '2688605418', '3716701010', '2599279756', '2142601169', '3129499595', '1478398256', '2142601169', '2695611575', '2695611575', '1646183815', '2505971401', '527400765', '537508723', '2599279756', '2663907001', '1140341822', '2283904812', '2484453271', '3026014945', '860700529', '1609060617', '2487424745', '1790886359', '2283904812', '860700529', '2487424745', '883482547', '261674136', '2487424745', '2487424745', '2599279756', '1233833708', '1614226872', '880898248', '1928710999', '1654129794', '860700529', '3026014945', '2599279756', '860700529', '1614226872', '2599279756', '3201519139', '1433879684', '1614226872', '3180318393', '2487424745', '1892177589', '2370108457', '3180318393', '3462882033', '4142663097', '72755508', '331942311', '4142663097', '164374203', '860700529', '127297539', '1462656821', '1604596597', '527400765', '511326734', '1654129794', '325142416', '1646621553', '2142601169', '2370108457', '1433879684', '2206365095', '2206365095', '2155701614', '325142416', '1478398256', '1892177589', '3026014945', '1462656821', '537508723', '4023861240', '537508723', '537508723', '1462656821', '2155701614', '1220154422', '1896554896', '331942311', '4023861240', '1842679196', '2059096722', '883482547', '860700529', '2376382098', '3117610635', '883482547', '883482547', '4023861240', '3129499595', '3180318393', '860700529', '511326734', '3249305314', '2348881191', '4023861240', '1147642491', '1604596597', '1617121891', '497688347', '51506836', '2650223890', '3142625864', '3142625864', '55310383', '883482547', '860700529', '3180318393', '2663907001', '2059096722', '3989008654', '809013380', '1790886359', '3142625864', '2142601169', '127297539', '860700529', '883482547', '860700529', '527400765', '1816693151', '1842679196', '127297539', '3129499595', '860700529', '127297539', '883482547', '3904958894', '860700529', '1617121891', '2142601169', '3117610635', '860700529', '51506836', '1220154422', '1147642491', '134193016', '2348881191', '2599279756', '3249305314', '1617121891', '2487424745', '3026014945', '2599279756', '3129499595', '2487424745', '443776336', '1196156254', '127297539', '2695611575', '527400765', '860700529', '3026014945', '1614226872', '134193016', '134833760', '1654129794', '1669695324', '2505971401', '2599279756', '325142416', '72755508', '860700529', '860700529', '1499065773', '1816693151', '2977593493', '3180318393', '2487424745', '4142663097', '2142601169', '2206365095', '1147642491', '860700529', '2376382098', '2376382098', '3026014945', '261674136', '860700529', '3180318393', '2487424745', '1147642491', '2487424745', '3026014945', '1220154422', '2031327464', '2059096722', '2663907001', '423725039', '4023861240', '1669695324', '3026014945', '1669695324', '1617121891', '2738291516', '537508723', '860700529', '883482547', '1790886359', '3129499595', '860700529', '511326734', '134193016', '1433879684', '2206365095', '51506836', '860700529', '1196156254', '127297539', '2317998716', '2650223890', '880898248', '1478398256', '4023861240', '1790886359', '51506836', '3026014945', '2317998716', '261674136', '3336454548', '860700529', '2142601169', '261674136', '1196156254', '860700529', '331942311', '261674136', '127297539', '1646183815', '2083971310', '2317998716', '860700529', '2487424745', '2487424745', '331942311', '2505971401', '2083971310', '2487424745', '2487424745', '2487424745', '3129499595', '1609060617', '3026014945', '127297539', '860700529', '1433879684', '1928710999', '261674136', '2487424745', '860700529', '331942311', '1433879684', '51506836', '2206365095', '1669695324', '2505971401', '2376382098', '1433879684', '2059096722', '1196156254', '2348881191', '2083971310', '2206365095', '2500783281', '3151318058', '4023861240', '3989008654', '495599312', '1614226872', '127297539', '2206365095', '3904958894', '2083971310', '3904958894', '443776336', '127297539', '3904958894', '3462882033', '1117979751', '3142625864', '586638664', '1617121891', '127297539', '1220154422', '4023861240', '2376382098', '2487424745', '1617121891', '2083971310', '2650223890', '127297539', '1614226872', '127297539', '3378712515', '1478398256', '2206365095', '2376382098', '3395687666', '1614226872', '1196156254', '1896554896', '3026014945', '4023861240', '3702001629', '325142416', '3336454548', '1499065773', '3026014945', '1499065773', '4142663097', '3378712515', '2376382098', '261674136', '325142416', '3702001629', '1147642491', '2206365095', '497688347', '1388323263', '3336454548', '3702001629', '2650223890', '2650223890', '3026014945', '1928710999', '4023861240', '3026014945', '1499065773', '3026014945', '586638664', '2650223890', '2650223890', '880898248', '1892177589', '4142663097', '1433879684', '1140341822', '2688605418', '2650223890', '2650223890', '443776336', '3462882033', '3378712515', '527400765', '527400765', '2487424745', '1816693151', '3462882033', '2487424745', '51506836', '3026014945', '1499065773', '3702001629', '3378712515', '883482547', '1147642491', '3702001629', '3378712515', '1433879684', '1147642491', '1147642491', '443776336', '164374203', '527400765', '3462882033', '325142416', '1478398256', '3462882033', '2663907001', '1896554896', '2370108457', '2376382098', '3716701010', '883482547', '3702001629', '2376382098', '1896554896', '1478398256', '3702001629', '51506836', '880898248', '2283904812', '3378712515', '3462882033', '51506836', '3378712515', '1196156254', '1196156254', '1654129794', '527400765', '1816693151', '2819545904', '3325710106', '443776336', '2283904812', '261674136', '1140341822', '586638664', '1928710999', '2688605418', '443776336', '1614226872', '1896554896', '2650223890', '2059096722', '3378712515', '883482547', '1140341822', '443776336', '2283904812', '883482547', '1196156254', '497688347', '2650223890', '443776336', '2663907001', '3142625864', '3255104878', '4023861240', '1433879684', '883482547', '2599279756', '497688347', '2599279756', '1614226872', '883482547', '443776336', '325142416', '443776336', '55310383', '2487424745', '883482547', '51506836', '3325710106', '2487424745', '1617121891', '3336454548', '860700529', '2977593493', '2695611575', '3716701010', '2487424745', '2487424745', '1614226872', '2663907001', '1196156254', '2695611575', '3249305314', '527400765', '2487424745', '497688347', '2317998716', '2630892467', '497688347', '2487424745', '51506836', '1462656821', '4023861240', '2083971310', '2487424745', '51506836', '1220154422', '2500783281', '3336454548', '443776336', '325142416', '1147642491', '261674136', '511326734', '3716701010', '497688347', '3142625864', '2663907001', '2695611575', '2376382098', '2695611575', '3702001629', '1604596597', '4142663097', '2688605418', '1604596597', '1609060617', '2688605418', '586638664', '51506836', '2031327464', '2487424745', '1433879684', '325142416', '134193016', '127297539', '1196156254', '2487424745', '3142625864', '1614226872', '1604596597', '2031327464', '2083971310', '3378712515', '537508723', '1790886359', '1928710999', '1271030853', '2283904812', '1233833708', '2650223890', '2487424745', '1462656821', '1609060617', '527400765', '2487424745', '1196156254', '51506836', '883482547', '586638664', '1220154422', '1614226872', '883482547', '1196156254', '537508723', '1614226872', '2688605418', '2695611575', '3325710106', '1614226872', '72755508', '51506836', '880898248', '1117979751', '1147642491', '1147642491', '1609060617', '1614226872', '261674136', '3142625864', '3249305314', '527400765', '3026014945', '1790886359', '1614226872', '883482547', '326006476', '880898248', '2650223890', '883482547', '537508723', '883482547', '2376382098', '2819545904', '3142625864', '3180318393', '3255104878', '3378712515', '443776336', '495599312', '2663907001', '2487424745', '1117979751', '2031327464', '2663907001', '3904958894', '55310383', '883482547', '2695611575', '1271030853', '164374203', '2500783281', '4142663097', '1499065773', '1604596597', '2663907001', '1478398256', '3142625864', '1147642491', '1928710999', '2663907001', '3378712515', '4023861240', '883482547', '127297539', '883482547', '2059096722', '127297539', '883482547', '1271030853', '3336454548', '51506836', '127297539', '1388323263', '2650223890', '2819545904', '3702001629', '3142625864', '2487424745', '2599279756', '3325710106', '2487424745', '2977593493', '1271030853', '2650223890', '443776336', '511326734', '1928710999', '1433879684', '3026014945', '880898248', '3325710106', '883482547', '880898248', '3462882033', '2487424745', '2738291516', '2155701614', '261674136', '134193016', '2663907001', '3180318393', '1478398256', '4142663097', '2376382098', '3325710106', '2110742437', '2484453271', '2484453271', '2487424745', '3026014945', '2487424745', '2155701614', '2650223890', '3325710106', '883482547', '3325710106', '2663907001', '331942311', '883482547', '3142625864', '2283904812', '2650223890', '883482547', '3462882033', '2487424745', '3462882033', '1617121891', '1220154422', '331942311', '2650223890', '1271030853', '1433879684', '127297539', '3325710106', '3462882033', '443776336', '2487424745', '1196156254', '2155701614', '3336454548', '325142416', '2487424745', '2695611575', '497688347', '326006476', '2487424745', '3026014945', '2083971310', '2283904812', '860700529', '2155701614', '127297539', '3462882033', '2317998716', '3129499595', '511326734', '3026014945', '3325710106', '1196156254', '1842679196', '3180318393', '809013380', '4023861240', '2487424745', '497688347', '2487424745', '3129499595', '1604596597', '1604596597', '1669695324', '2500783281', '3462882033', '586638664', '51506836', '3462882033', '1005756958', '2031327464', '3151318058', '3989008654', '3904958894', '3378712515', '3462882033', '1892177589', '2142601169', '3174332735', '3325710106', '3716701010', '3904958894', '4142663097', '511326734', '537508723', '127297539', '1478398256', '3904958894', '1499065773', '3249305314', '527400765', '3378712515', '497688347', '3129499595', '1433879684', '497688347', '134833760', '1790886359', '51506836', '51506836', '497688347', '2142601169', '2142601169', '586638664', '3462882033', '2487424745', '1617121891', '1617121891', '2487424745', '2376382098', '2599279756', '2487424745', '51506836', '1433879684', '2110742437', '2376382098', '2083971310', '1499065773', '527400765', '2031327464', '2317998716', '3117610635', '4123612273', '2142601169', '1462656821', '3142625864', '3989008654', '497688347', '2688605418', '2370108457', '2630892467', '3716701010', '3026014945', '3249305314', '3249305314', '2142601169', '1896554896', '586638664', '2142601169', '2376382098', '3129499595', '127297539', '1220154422', '3026014945', '1896554896', '4142663097', '1617121891', '1271030853', '1271030853', '2142601169', '4023861240', '2110742437', '134833760', '1614226872', '164374203', '2283904812', '3180318393', '537508723', '1271030853', '1928710999', '2688605418', '537508723', '537508723', '537508723', '3026014945', '51506836', '2688605418', '2142601169', '1896554896', '537508723', '3026014945', '537508723', '1220154422', '1604596597', '1928710999', '2500783281', '2630892467', '3026014945', '326006476', '2283904812', '2142601169', '1271030853', '1646183815', '2500783281', '3249305314', '325142416', '4123612273', '1617121891', '4142663097', '51506836', '2059096722', '2487424745', '261674136', '1928710999', '3129499595', '1617121891', '4023861240', '51506836', '1478398256', '1842679196', '3249305314', '4142663097', '537508723', '586638664', '2155701614', '860700529', '860700529', '1196156254', '51506836', '1604596597', '3462882033', '4142663097', '1117979751', '164374203', '1646621553', '3129499595', '2688605418', '3026014945', '1790886359', '1271030853', '1388323263', '1617121891', '164374203', '2317998716', '2630892467', '51506836', '1433879684', '3378712515', '2688605418', '3336454548', '2505971401', '423725039', '2283904812', '860700529', '1790886359', '2688605418', '2142601169', '4023861240', '1196156254', '2317998716', '2500783281', '3026014945', '3151318058', '860700529', '2142601169', '2348881191', '3180318393', '2142601169', '3026014945', '326006476', '883482547', '511326734', '325142416', '860700529', '1646621553', '1790886359', '261674136', '2688605418', '3336454548', '51506836', '325142416', '2155701614', '511326734', '1604596597', '3142625864', '1816693151', '2695611575', '2110742437', '2348881191', '495599312', '2110742437', '3325710106', '1646183815', '2317998716', '2695611575', '1669695324', '497688347', '325142416', '2155701614', '3174332735', '1196156254', '4123612273', '3142625864', '3180318393', '1896554896', '1140341822', '3180318393', '1433879684', '2083971310', '2505971401', '1196156254', '325142416', '2505971401', '3129499595', '1896554896', '537508723', '3129499595', '511326734', '2083971310', '3129499595', '2083971310', '809013380', '3026014945', '443776336', '3336454548', '1140341822', '2688605418', '1433879684', '2348881191', '2630892467', '2688605418', '3174332735', '3716701010', '2083971310', '3026014945', '3325710106', '3129499595', '1604596597', '1928710999', '2142601169', '1646183815', '1892177589', '527400765', '537508723', '2142601169', '1433879684', '4142663097', '1816693151', '2484453271', '3904958894', '497688347', '1140341822', '1928710999', '1896554896', '1790886359', '2688605418', '3431016847', '2977593493', '3378712515', '325142416', '4023861240', '2977593493', '1233833708', '1614226872', '1928710999', '2599279756', '1669695324', '2142601169', '1896554896', '1896554896', '2142601169', '3325710106', '3201519139', '1892177589', '4142663097', '326006476', '1892177589', '3180318393', '3702001629', '3989008654', '4142663097', '72755508', '3325710106', '1892177589', '527400765', '1196156254', '2142601169', '3325710106', '1462656821', '1604596597', '527400765', '4142663097', '2977593493', '3378712515', '1117979751', '2142601169', '2370108457', '1196156254', '1604596597', '1669695324', '2142601169', '2977593493', '1892177589', '3129499595', '2688605418', '3336454548', '4023861240', '2738291516', '1892177589', '2505971401', '331942311', '1220154422', '1462656821', '1896554896', '331942311', '1669695324', '1604596597', '809013380', '1669695324', '2376382098', '3117610635', '1928710999', '2688605418', '3325710106', '1604596597', '1196156254', '1669695324', '2083971310', '1140341822', '809013380', '3129499595', '1604596597', '51506836', '2142601169', '3142625864', '883482547', '1433879684', '1892177589', '860700529', '2663907001', '2142601169', '3989008654', '809013380', '3325710106', '2505971401', '3142625864', '1614226872', '586638664', '1140341822', '2505971401', '511326734', '1892177589', '3325710106', '1646621553', '1614226872', '2348881191', '326006476', '1892177589', '1271030853', '1614226872', '1790886359', '2142601169', '1790886359', '3117610635', '3989008654', '1614226872', '3336454548', '2348881191', '2083971310', '134193016', '2348881191', '2599279756', '3249305314', '809013380', '2142601169', '809013380', '1614226872', '325142416', '2505971401', '3249305314', '3325710106', '1196156254', '127297539', '2500783281', '2695611575', '1614226872', '3325710106', '1614226872', '1654129794', '1669695324', '2505971401', '325142416', '3716701010', '2688605418', '4023861240', '1196156254', '586638664', '1499065773', '1816693151', '586638664', '1604596597', '1433879684', '331942311', '3378712515', '4023861240', '4023861240', '2142601169', '1005756958', '1478398256', '1896554896', '1433879684', '127297539', '2083971310', '2738291516', '1892177589', '326006476', '3378712515', '1140341822', '2031327464', '2059096722', '2663907001', '423725039', '325142416', '3249305314', '326006476', '1499065773', '2370108457', '2738291516', '2142601169', '2599279756', '1196156254', '586638664', '3378712515', '1196156254', '3336454548', '134193016', '1433879684', '2206365095', '2142601169', '1604596597', '3378712515', '1196156254', '127297539', '2317998716', '2650223890', '809013380', '1433879684', '2650223890', '860700529', '1790886359', '1646621553', '2599279756', '3336454548', '1604596597', '1604596597', '443776336', '2650223890', '2348881191', '2110742437', '127297539', '1646183815', '2083971310', '2317998716', '860700529', '3378712515', '586638664', '3142625864', '1196156254', '127297539', '443776336', '4023861240', '1842679196', '1147642491', '3142625864', '2348881191', '326006476', '1147642491', '51506836', '325142416', '1499065773', '1433879684', '1646621553', '326006476', '1388323263', '586638664', '326006476', '1196156254', '1433879684', '1433879684', '326006476', '1669695324', '1220154422', '1433879684', '134193016', '1646621553', '2059096722', '2348881191', '1614226872', '2505971401', '2083971310', '2206365095', '2500783281', '3151318058', '2695611575', '3129499595', '1220154422', '2505971401', '127297539', '2142601169', '1196156254', '2142601169', '2695611575', '2142601169', '3142625864', '51506836', '2599279756', '3026014945', '2142601169', '586638664', '2142601169', '2487424745', '51506836', '2487424745', '51506836', '1140341822', '2083971310', '2695611575', '2695611575', '1220154422', '2487424745', '51506836', '2487424745', '2695611575', '3129499595', '3180318393', '3336454548', '3395687666', '511326734', '2695611575', '3142625864', '2487424745', '2487424745', '1896554896', '860700529', '860700529', '3325710106', '3336454548', '51506836', '2819545904', '1614226872', '1140341822', '860700529', '3026014945', '127297539', '127297539', '2487424745', '1478398256', '2599279756', '1842679196', '3431016847', '1388323263', '3336454548', '3431016847', '2599279756', '2650223890', '1220154422', '2738291516', '4023861240', '127297539', '3026014945', '1147642491', '3431016847', '1669695324', '3325710106', '4142663097', '55310383', '2487424745', '860700529', '2484453271', '3117610635', '511326734', '2487424745', '1614226872', '2599279756', '2142601169', '3378712515', '3716701010', '1790886359', '3180318393', '51506836', '3702001629', '1433879684', '1499065773', '2599279756', '3325710106', '2695611575', '4023861240', '1842679196', '2487424745', '1478398256', '3249305314', '586638664', '2688605418', '164374203', '1614226872', '3180318393', '2487424745', '1196156254', '164374203', '2487424745', '586638664', '1842679196', '1196156254', '3129499595', '3026014945', '1896554896', '2370108457', '3716701010', '51506836', '4023861240', '2505971401', '1614226872', '860700529', '1196156254', '3702001629', '2283904812', '1604596597', '2695611575', '325142416', '3336454548', '3462882033', '511326734', '3378712515', '2505971401', '1196156254', '1654129794', '1816693151', '2031327464', '2317998716', '3325710106', '3325710106', '1388323263', '2283904812', '3325710106', '3026014945', '3325710106', '3180318393', '2688605418', '511326734', '1140341822', '1147642491', '51506836', '1196156254', '2688605418', '1499065773', '3117610635', '1220154422', '1604596597', '2059096722', '511326734', '4142663097', '1140341822', '3117610635', '2819545904', '4142663097', '3117610635', '2663907001', '3142625864', '3255104878', '4023861240', '51506836', '3129499595', '511326734', '2599279756', '2487424745', '443776336', '2487424745', '3026014945', '497688347', '1842679196', '497688347', '1928710999', '3336454548', '3117610635', '2487424745', '3325710106', '1614226872', '2487424745', '2487424745', '1196156254', '1928710999', '1614226872', '3325710106', '2599279756', '2348881191', '497688347', '586638664', '1147642491', '2348881191', '511326734', '2083971310', '1790886359', '3336454548', '2500783281', '3336454548', '883482547', '2599279756', '2599279756', '1196156254', '3129499595', '261674136', '3151318058', '511326734', '51506836', '1928710999', '860700529', '3702001629', '2487424745', '860700529', '4142663097', '2487424745', '134833760', '2487424745', '3325710106', '1499065773', '2031327464', '2376382098', '1147642491', '2376382098', '51506836', '3026014945', '1147642491', '2487424745', '2487424745', '3336454548', '2376382098', '3180318393', '3026014945', '3201519139', '1790886359', '1928710999', '1271030853', '2283904812', '2650223890', '2695611575', '586638664', '2487424745', '527400765', '1196156254', '2487424745', '51506836', '3180318393', '2376382098', '2487424745', '1614226872', '1928710999', '1892177589', '3117610635', '3325710106', '3142625864', '2142601169', '331942311', '3336454548', '2695611575', '2695611575', '2083971310', '3142625864', '51506836', '2663907001', '2142601169', '3142625864', '1147642491', '1147642491', '1609060617', '1614226872', '3117610635', '3249305314', '331942311', '2376382098', '1842679196', '1614226872', '2484453271', '2650223890', '3716701010', '1140341822', '2505971401', '2083971310', '3142625864', '3180318393', '3255104878', '3378712515', '443776336', '51506836', '2487424745', '1147642491', '1117979751', '1117979751', '2031327464', '2663907001', '423725039', '55310383', '1433879684', '2695611575', '1271030853', '2155701614', '2500783281', '2688605418', '3336454548', '511326734', '3142625864', '3142625864', '1609060617', '1928710999', '2663907001', '3378712515', '2142601169', '3336454548', '2142601169', '2738291516', '3336454548', '3702001629', '2599279756', '1388323263', '2819545904', '3702001629', '1147642491', '2695611575', '2142601169', '3142625864', '3325710106', '443776336', '2695611575', '3117610635', '860700529', '860700529', '3026014945', '880898248', '1928710999', '3026014945', '1614226872', '1117979751', '1816693151', '2487424745', '2155701614', '261674136', '1005756958', '134193016', '2663907001', '2487424745', '1478398256', '4142663097', '1462656821', '2376382098', '1433879684', '2110742437', '2484453271', '2487424745', '860700529', '2155701614', '1196156254', '4023861240', '3180318393', '2663907001', '3716701010', '883482547', '3336454548', '3336454548', '1196156254', '1220154422', '2142601169', '127297539', '1892177589', '2695611575', '4023861240', '497688347', '127297539', '497688347', '1478398256', '2155701614', '2142601169', '1196156254', '860700529', '3117610635', '2695611575', '1928710999', '2059096722', '2155701614', '2695611575', '3325710106', '2376382098', '1499065773', '2142601169', '2695611575', '1196156254', '2031327464', '2155701614', '3117610635', '497688347', '1614226872', '3129499595', '3395687666', '2083971310', '3336454548', '325142416', '1196156254', '1842679196', '3180318393', '809013380', '1614226872', '1388323263', '2977593493', '2695611575', '164374203', '1669695324', '2376382098', '3117610635', '1614226872', '127297539', '2695611575', '2977593493', '1614226872', '1005756958', '3989008654', '1388323263', '2059096722', '1892177589', '2142601169', '2206365095', '3325710106', '3716701010', '3904958894', '511326734', '1614226872', '3117610635', '1499065773', '1499065773', '3249305314', '527400765', '1892177589', '1147642491', '3325710106', '3180318393', '127297539', '134833760', '1790886359', '2695611575', '1462656821', '3702001629', '1147642491', '2059096722', '1147642491', '1462656821', '1617121891', '1462656821', '4142663097', '2663907001', '1462656821', '1196156254', '2059096722', '1117979751', '2695611575', '51506836', '1196156254', '495599312', '1499065773', '2031327464', '2317998716', '4123612273', '127297539', '1462656821', '3142625864', '3325710106', '1478398256', '2370108457', '2630892467', '3716701010', '3117610635', '325142416', '1892177589', '2599279756', '3142625864', '1892177589', '2376382098', '3129499595', '3249305314', '134193016', '1388323263', '2142601169', '3142625864', '1196156254', '1669695324', '3325710106', '3325710106', '2059096722', '1669695324', '51506836', '1892177589', '127297539', '527400765', '1614226872', '164374203', '2283904812', '3180318393', '537508723', '2142601169', '134193016', '2142601169', '883482547', '527400765', '1462656821', '2688605418', '325142416', '72755508', '127297539', '1614226872', '2376382098', '1614226872', '3325710106', '2142601169', '2500783281', '2630892467', '3026014945', '326006476', '2695611575', '1614226872', '2142601169', '1433879684', '1739931018', '4123612273', '2083971310', '1462656821', '1271030853', '2487424745', '261674136', '1220154422', '1271030853', '1892177589', '3325710106', '1271030853', '1842679196', '2178051368', '3249305314', '3378712515', '423725039', '1669695324', '127297539', '2142601169', '2599279756', '1669695324', '2599279756', '4142663097', '2484453271', '1117979751', '1196156254', '164374203', '1646621553', '495599312', '2599279756', '4023861240', '2083971310', '1271030853', '1388323263', '1617121891', '164374203', '1790886359', '2630892467', '1271030853', '3378712515', '1669695324', '2599279756', '51506836', '423725039', '1433879684', '4142663097', '1790886359', '1669695324', '3117610635', '51506836', '1669695324', '2695611575', '2317998716', '2500783281', '3026014945', '3151318058', '2599279756', '1669695324', '164374203', '2348881191', '3180318393', '423725039', '55310383', '1928710999', '1669695324', '883482547', '1433879684', '2695611575', '1646621553', '1790886359', '261674136', '2599279756', '1271030853', '2376382098', '134833760', '4142663097', '1220154422', '1271030853', '2487424745', '3142625864', '3151318058', '3378712515', '1117979751', '1816693151', '2695611575', '809013380', '1140341822', '2110742437', '2348881191', '55310383', '527400765', '860700529', '2317998716', '2695611575', '1669695324', '497688347', '261674136', '2155701614', '3174332735', '2599279756', '1614226872', '4123612273', '1388323263', '2348881191', '2599279756', '2599279756', '3117610635', '2059096722', '1669695324', '1196156254', '325142416', '527400765', '2695611575', '2059096722', '1196156254', '1669695324', '1117979751', '2059096722', '2283904812', '2178051368', '1669695324', '883482547', '1669695324', '883482547', '2487424745', '1669695324', '3026014945', '527400765', '2142601169', '883482547', '1388323263', '1433879684', '2630892467', '2688605418', '2819545904', '3716701010', '1669695324', '2487424745', '423725039', '1896554896', '2142601169', '1433879684', '2031327464', '1646183815', '1790886359', '527400765', '537508723', '1271030853', '1271030853', '527400765', '2283904812', '2484453271', '495599312', '2663907001', '134833760', '4142663097', '1790886359', '3117610635', '511326734', '860700529', '2178051368', '1433879684', '860700529', '2031327464', '261674136', '2487424745', '860700529', '1233833708', '1614226872', '880898248', '325142416', '2142601169', '3117610635', '860700529', '2376382098', '2059096722', '2599279756', '3201519139', '1896554896', '51506836', '2663907001', '1892177589', '1816693151', '1892177589', '3180318393', '3462882033', '4142663097', '72755508', '860700529', '2059096722', '1196156254', '3702001629', '3026014945', '1462656821', '1604596597', '2599279756', '527400765', '3702001629', '1433879684', '1928710999', '2142601169', '2370108457', '2142601169', '1892177589', '586638664', '527400765', '1892177589', '4023861240', '1892177589', '1388323263', '1892177589', '4023861240', '4142663097', '2487424745', '1196156254', '3378712515', '1892177589', '1220154422', '1896554896', '331942311', '1433879684', '1928710999', '3026014945', '2663907001', '1646621553', '2376382098', '3117610635', '3174332735', '3201519139', '2487424745', '4023861240', '2487424745', '1669695324', '1433879684', '1892177589', '883482547', '1433879684', '1892177589', '4023861240', '1790886359', '1196156254', '3325710106', '1604596597', '51506836', '3142625864', '883482547', '2487424745', '2487424745', '3431016847', '2663907001', '325142416', '3201519139', '3989008654', '809013380', '883482547', '883482547', '3142625864', '1614226872', '883482547', '1196156254', '2738291516', '2142601169', '4023861240', '3117610635', '134833760', '2487424745', '1196156254', '2283904812', '2487424745', '2142601169', '2487424745', '1220154422', '2348881191', '2663907001', '2487424745', '1669695324', '3142625864', '127297539', '2487424745', '3117610635', '3431016847', '134833760', '2487424745', '134193016', '2348881191', '2599279756', '3249305314', '134833760', '2695611575', '2178051368', '325142416', '1220154422', '3431016847', '2487424745', '2695611575', '1196156254', '127297539', '1388323263', '2695611575', '2688605418', '2487424745', '2487424745', '2031327464', '134193016', '134833760', '1654129794', '1669695324', '2505971401', '3201519139', '325142416', '2487424745', '3026014945', '2695611575', '4142663097', '1499065773', '1816693151', '2977593493', '3026014945', '127297539', '3325710106', '1646621553', '127297539', '586638664', '1462656821', '3026014945', '3117610635', '2178051368', '1478398256', '2206365095', '3026014945', '883482547', '1220154422', '2031327464', '2059096722', '2663907001', '423725039', '2142601169', '3462882033', '2487424745', '1196156254', '1005756958', '134833760', '1617121891', '2738291516', '537508723', '1669695324', '2487424745', '2178051368', '1196156254', '883482547', '3026014945', '1669695324', '134193016', '1433879684', '2206365095', '3325710106', '3325710106', '1196156254', '127297539', '2317998716', '2650223890', '4142663097', '4023861240', '2487424745', '1196156254', '2487424745', '2695611575', '2487424745', '1842679196', '1896554896', '2505971401', '3336454548', '1388323263', '2031327464', '127297539', '1646183815', '2083971310', '2317998716', '3174332735', '3180318393', '860700529', '2376382098', '3026014945', '2695611575', '2663907001', '537508723', '3026014945', '2688605418', '2206365095', '2142601169', '3026014945', '2977593493', '2663907001', '72755508', '2487424745', '4023861240', '2487424745', '1433879684', '527400765', '527400765', '164374203', '2663907001', '2206365095', '537508723', '497688347', '2688605418', '537508723', '164374203', '325142416', '1816693151', '537508723', '2206365095', '537508723', '1669695324', '586638664', '2663907001', '127297539', '1816693151', '2059096722', '2487424745', '1117979751', '2083971310', '2206365095', '2500783281', '3151318058', '3117610635', '1499065773', '860700529', '860700529', '4142663097', '1117979751', '2083971310', '4142663097', '2487424745', '497688347', '809013380', '1614226872', '1614226872', '497688347', '586638664', '809013380', '1388323263', '2178051368', '325142416', '2142601169', '2487424745', '2083971310', '1462656821', '2178051368', '2206365095', '2487424745', '2348881191', '72755508', '1614226872', '860700529', '2487424745', '3395687666', '2487424745', '3026014945', '127297539', '134833760', '1896554896', '2178051368', '3180318393', '883482547', '2695611575', '3336454548', '2738291516', '2178051368', '3129499595', '2206365095', '860700529', '1614226872', '2142601169', '860700529', '527400765', '2206365095', '1271030853', '4142663097', '537508723', '1388323263', '3336454548', '2283904812', '586638664', '2376382098', '1499065773', '4023861240', '2487424745', '2487424745', '51506836', '325142416', '2487424745', '3117610635', '4142663097', '527400765', '1271030853', '2142601169', '2487424745', '1614226872', '527400765', '2142601169', '1271030853', '1646621553', '3378712515', '809013380', '2059096722', '1499065773', '809013380', '2663907001', '3117610635', '809013380', '527400765', '134833760', '537508723', '2487424745', '2283904812', '809013380', '2487424745', '164374203', '3180318393', '2695611575', '527400765', '2688605418', '2142601169', '527400765', '1614226872', '809013380', '527400765', '3325710106', '2370108457', '3716701010', '3378712515', '1646621553', '860700529', '325142416', '1388323263', '3129499595', '3325710106', '2206365095', '2599279756', '1117979751', '1646621553', '2283904812', '51506836', '4023861240', '3462882033', '2206365095', '3378712515', '2142601169', '1196156254', '1654129794', '1816693151', '1478398256', '3325710106', '4142663097', '2283904812', '127297539', '3378712515', '2738291516', '537508723', '164374203', '325142416', '4142663097', '1614226872', '3117610635', '2178051368', '2695611575', '164374203', '2059096722', '2206365095', '325142416', '2059096722', '537508723', '1617121891', '2599279756', '51506836', '809013380', '4142663097', '2663907001', '3142625864', '3255104878', '4023861240', '164374203', '2178051368', '2599279756', '3142625864', '4023861240', '2178051368', '443776336', '3117610635', '325142416', '164374203', '1614226872', '164374203', '3325710106', '3336454548', '1614226872', '1271030853', '3026014945', '164374203', '2206365095', '3462882033', '3026014945', '1842679196', '325142416', '3117610635', '1646621553', '2487424745', '497688347', '2487424745', '1433879684', '1614226872', '1614226872', '2083971310', '164374203', '1617121891', '2500783281', '3336454548', '2059096722', '1617121891', '1147642491', '261674136', '511326734', '3378712515', '1614226872', '3702001629', '3142625864', '1478398256', '2487424745', '2142601169', '2142601169', '1892177589', '1892177589', '2487424745', '2031327464', '2487424745', '3395687666', '1816693151', '1614226872', '2348881191', '1614226872', '1433879684', '1614226872', '2695611575', '1614226872', '1842679196', '2142601169', '2142601169', '2688605418', '4142663097', '1790886359', '1928710999', '1271030853', '2283904812', '2650223890', '2142601169', '527400765', '1271030853', '1478398256', '2663907001', '51506836', '72755508', '55310383', '537508723', '72755508', '2110742437', '2738291516', '164374203', '537508723', '2695611575', '3026014945', '2178051368', '72755508', '3904958894', '1816693151', '1196156254', '3117610635', '2599279756', '1614226872', '1617121891', '51506836', '1617121891', '1117979751', '1117979751', '1147642491', '1147642491', '1609060617', '1614226872', '1617121891', '261674136', '3249305314', '527400765', '2599279756', '2738291516', '2178051368', '2650223890', '527400765', '2376382098', '586638664', '2819545904', '3142625864', '3180318393', '3255104878', '3378712515', '443776336', '1816693151', '2142601169', '3026014945', '1117979751', '2031327464', '2663907001', '55310383', '860700529', '51506836', '1271030853', '2500783281', '1196156254', '860700529', '2059096722', '537508723', '1928710999', '3378712515', '4023861240', '4142663097', '883482547', '443776336', '3431016847', '537508723', '3336454548', '2083971310', '1388323263', '2819545904', '325142416', '3702001629', '2695611575', '3462882033', '537508723', '261674136', '3026014945', '3378712515', '443776336', '3026014945', '2695611575', '1617121891', '537508723', '1233833708', '1739931018', '880898248', '1646621553', '1646621553', '164374203', '1669695324', '2142601169', '2487424745', '1617121891', '51506836', '2155701614', '261674136', '134193016', '2663907001', '1433879684', '1816693151', '1478398256', '3325710106', '4142663097', '2376382098', '2283904812', '2110742437', '2484453271', '2487424745', '4123612273', '2155701614', '261674136', '586638664', '2695611575', '3395687666', '1669695324', '2663907001', '883482547', '72755508', '2142601169', '1816693151', '2695611575', '51506836', '3378712515', '3378712515', '1669695324', '51506836', '1669695324', '2142601169', '2487424745', '1669695324', '2142601169', '1604596597', '2317998716', '2487424745', '1614226872', '2178051368', '2487424745', '2155701614', '3336454548', '1614226872', '1669695324', '2142601169', '51506836', '3026014945', '1609060617', '2376382098', '2155701614', '443776336', '1147642491', '1462656821', '3129499595', '1604596597', '2599279756', '527400765', '1196156254', '1842679196', '3180318393', '809013380', '134193016', '1609060617', '3378712515', '2142601169', '1609060617', '1669695324', '2695611575', '527400765', '1669695324', '51506836', '1609060617', '134193016', '1005756958', '3151318058', '3989008654', '537508723', '2487424745', '860700529', '2206365095', '1147642491', '1462656821', '1892177589', '2142601169', '3325710106', '3716701010', '3904958894', '4142663097', '511326734', '1609060617', '860700529', '4023861240', '1499065773', '3249305314', '527400765', '809013380', '3026014945', '1842679196', '443776336', '860700529', '134833760', '1790886359', '3431016847', '2695611575', '3462882033', '860700529', '4142663097', '2348881191', '3174332735', '443776336', '1654129794', '883482547', '1617121891', '2142601169', '1604596597', '883482547', '1654129794', '2487424745', '1646621553', '2487424745', '2663907001', '527400765', '1842679196', '2031327464', '2317998716', '2487424745', '3462882033', '4123612273', '51506836', '1462656821', '1816693151', '1896554896', '3142625864', '3378712515', '2370108457', '2630892467', '3180318393', '3716701010', '2663907001', '443776336', '3026014945', '2487424745', '2376382098', '3129499595', '2663907001', '261674136', '2738291516', '1271030853', '2083971310', '261674136', '2317998716', '2663907001', '51506836', '4142663097', '2283904812', '2142601169', '4023861240', '2487424745', '2688605418', '261674136', '1614226872', '164374203', '2283904812', '3180318393', '537508723', '1433879684', '4023861240', '2142601169', '2348881191', '3117610635', '2487424745', '2487424745', '2155701614', '537508723', '3117610635', '2348881191', '261674136', '2083971310', '1617121891', '2142601169', '3378712515', '55310383', '527400765', '1271030853', '164374203', '1928710999', '2500783281', '2630892467', '3026014945', '326006476', '2348881191', '2487424745', '2083971310', '2487424745', '2178051368', '325142416', '4123612273', '2142601169', '1147642491', '527400765', '2487424745', '261674136', '2663907001', '2142601169', '72755508', '1478398256', '443776336', '1433879684', '883482547', '3702001629', '164374203', '127297539', '1842679196', '3249305314', '860700529', '860700529', '3378712515', '443776336', '3026014945', '3702001629', '443776336', '883482547', '1478398256', '1220154422', '1117979751', '164374203', '1646621553', '2819545904', '883482547', '325142416', '261674136', '1220154422', '1271030853', '1388323263', '1617121891', '164374203', '2317998716', '2630892467', '3702001629', '2487424745', '3026014945', '2695611575', '2317998716', '423725039', '2059096722', '3702001629', '1790886359', '2487424745', '3026014945', '2487424745', '3702001629', '3431016847', '51506836', '2317998716', '2500783281', '3026014945', '3151318058', '3702001629', '1654129794', '2083971310', '2348881191', '3180318393', '325142416', '809013380', '1654129794', '883482547', '325142416', '2695611575', '1646621553', '1790886359', '261674136', '527400765', '2695611575', '3026014945', '2283904812', '1220154422', '3026014945', '2487424745', '3142625864', '51506836', '1617121891', '1816693151', '2695611575', '1005756958', '2110742437', '2348881191', '860700529', '2487424745', '2317998716', '2695611575', '3989008654', '2110742437', '1669695324', '1928710999', '497688347', '2155701614', '3174332735', '1433879684', '1816693151', '4123612273', '1609060617', '127297539', '1617121891', '1196156254', '325142416', '860700529', '2083971310', '2348881191', '1669695324', '1669695324', '51506836', '443776336', '2663907001', '1654129794', '511326734', '1196156254', '1646621553', '3431016847', '1614226872', '4142663097', '586638664', '1617121891', '1614226872', '2487424745', '3431016847', '2487424745', '1892177589', '134833760', '1433879684', '2348881191', '2630892467', '2688605418', '3174332735', '3716701010', '2487424745', '1614226872', '883482547', '2487424745', '1739931018', '443776336', '1604596597', '1646183815', '1892177589', '527400765', '537508723', '2487424745', '1842679196', '1617121891', '1614226872', '2484453271', '3904958894', '2348881191', '2317998716', '1614226872', '1790886359', '2688605418', '3431016847', '860700529', '261674136', '860700529', '1646621553', '1739931018', '2487424745', '3129499595', '1233833708', '1478398256', '1614226872', '860700529', '1646621553', '1196156254', '1604596597', '497688347', '1739931018', '1646621553', '860700529', '3395687666', '2819545904', '3201519139', '1614226872', '4142663097', '2738291516', '3378712515', '1892177589', '261674136', '3174332735', '3180318393', '3702001629', '3989008654', '4142663097', '72755508', '1604596597', '3378712515', '4142663097', '1604596597', '2348881191', '1462656821', '1604596597', '527400765', '2695611575', '2695611575', '134193016', '2142601169', '2370108457', '1842679196', '2178051368', '3378712515', '1739931018', '325142416', '511326734', '1892177589', '1646621553', '1892177589', '860700529', '2695611575', '4023861240', '2178051368', '860700529', '511326734', '1614226872', '72755508', '1220154422', '1896554896', '331942311', '1196156254', '860700529', '1614226872', '2376382098', '2376382098', '3117610635', '1614226872', '2663907001', '72755508', '2505971401', '2695611575', '4142663097', '164374203', '1117979751', '1790886359', '2142601169', '164374203', '1604596597', '2155701614', '51506836', '1196156254', '3142625864', '883482547', '2663907001', '2142601169', '511326734', '2663907001', '3249305314', '1609060617', '3989008654', '809013380', '883482547', '3142625864', '4142663097', '1669695324', '2031327464', '164374203', '1147642491', '1604596597', '2283904812', '3129499595', '4142663097', '164374203', '1669695324', '1614226872', '511326734', '4123612273', '883482547', '1117979751', '4142663097', '4123612273', '3117610635', '1669695324', '511326734', '1892177589', '527400765', '1669695324', '134193016', '1609060617', '2348881191', '2599279756', '3249305314', '1478398256', '1604596597', '2487424745', '1604596597', '2487424745', '586638664', '2505971401', '134193016', '1196156254', '127297539', '2695611575', '1614226872', '1614226872', '2142601169', '1614226872', '134833760', '1654129794', '1669695324', '2505971401', '325142416', '4142663097', '527400765', '883482547', '1499065773', '1816693151', '586638664', '2487424745', '860700529', '2142601169', '1147642491', '527400765', '2505971401', '1478398256', '1478398256', '1896554896', '2348881191', '2695611575', '2142601169', '3026014945', '2142601169', '3117610635', '2487424745', '1140341822', '2031327464', '2059096722', '2663907001', '423725039', '1140341822', '2487424745', '2695611575', '443776336', '1499065773', '2110742437', '2110742437', '2370108457', '2738291516', '2142601169', '527400765', '51506836', '1604596597', '2317998716', '3117610635', '134193016', '1433879684', '1739931018', '2206365095', '331942311', '4123612273', '2487424745', '2505971401', '2142601169', '1196156254', '127297539', '2317998716', '2650223890', '2738291516', '3117610635', '1614226872', '2487424745', '2487424745', '2142601169', '3336454548', '1433879684', '1140341822', '1614226872', '2487424745', '2206365095', '2738291516', '127297539', '1646183815', '2083971310', '2317998716', '860700529', '55310383', '1842679196', '325142416', '1147642491', '1646621553', '2178051368', '2487424745', '2505971401', '860700529', '4142663097', '1604596597', '2738291516', '1140341822', '4023861240', '1433879684', '2505971401', '1433879684', '2663907001', '3117610635', '51506836', '2487424745', '2738291516', '2505971401', '3026014945', '1614226872', '1147642491', '443776336', '1669695324', '1816693151', '3249305314', '4023861240', '1233833708', '2083971310', '1614226872', '1388323263', '2031327464', '2059096722', '51506836', '2178051368', '3904958894', '2083971310', '2206365095', '2500783281', '3151318058', '1892177589', '1790886359', '2142601169', '1614226872', '3702001629', '3702001629', '443776336', '2487424745', '537508723', '3378712515', '1478398256', '586638664', '1790886359', '2487424745', '2142601169', '1646621553', '2083971310', '2487424745', '3378712515', '3129499595', '1816693151', '55310383', '3904958894', '1233833708', '51506836', '1462656821', '3395687666', '3904958894', '3129499595', '443776336', '1669695324', '1896554896', '537508723', '3378712515', '3904958894', '3336454548', '3702001629', '3702001629', '51506836', '3378712515', '2142601169', '51506836', '2206365095', '1669695324', '1669695324', '3026014945', '4123612273', '3129499595', '51506836', '3462882033', '1388323263', '3336454548', '537508723', '51506836', '3904958894', '2663907001', '4023861240', '3117610635', '2348881191', '3117610635', '1646621553', '4123612273', '2487424745', '4142663097', '1147642491', '1669695324', '1117979751', '537508723', '1220154422', '261674136', '3431016847', '3117610635', '3378712515', '1233833708', '1604596597', '3904958894', '1233833708', '3325710106', '2206365095', '2206365095', '2487424745', '1499065773', '1790886359', '1233833708', '1147642491', '4023861240', '3026014945', '3325710106', '1433879684', '1614226872', '3702001629', '1669695324', '1609060617', '1478398256', '164374203', '3249305314', '3026014945', '3129499595', '2688605418', '2142601169', '1669695324', '2142601169', '1646621553', '2370108457', '3716701010', '1609060617', '261674136', '1609060617', '1617121891', '1614226872', '2348881191', '1388323263', '2283904812', '860700529', '537508723', '51506836', '3462882033', '2348881191', '3378712515', '1646621553', '1196156254', '1654129794', '1816693151', '3026014945', '3325710106', '3378712515', '2283904812', '1614226872', '2487424745', '883482547', '1617121891', '3904958894', '1654129794', '3904958894', '51506836', '2059096722', '2487424745', '2487424745', '51506836', '1842679196', '2487424745', '4023861240', '2663907001', '3142625864', '3255104878', '4023861240', '1928710999', '1654129794', '1646621553', '2110742437', '2206365095', '497688347', '443776336', '261674136', '527400765', '1614226872', '1928710999', '2317998716', '4023861240', '2178051368', '3336454548', '1646621553', '134193016', '1669695324', '1928710999', '134193016', '1669695324', '3431016847', '1117979751', '2487424745', '3378712515', '2688605418', '1478398256', '1271030853', '497688347', '2487424745', '3904958894', '51506836', '2083971310', '1646621553', '511326734', '2142601169', '2500783281', '3336454548', '1928710999', '1433879684', '1117979751', '261674136', '511326734', '1669695324', '1669695324', '880898248', '3026014945', '2487424745', '2376382098', '326006476', '3702001629', '2178051368', '2376382098', '3026014945', '1614226872', '1196156254', '880898248', '1669695324', '1614226872', '1117979751', '2031327464', '2059096722', '511326734', '3249305314', '2487424745', '1196156254', '2484453271', '3904958894', '2487424745', '3026014945', '1790886359', '1928710999', '1271030853', '3702001629', '2283904812', '1892177589', '2650223890', '1614226872', '1478398256', '527400765', '134833760', '880898248', '2487424745', '4142663097', '51506836', '3904958894', '3378712515', '2142601169', '3378712515', '134833760', '537508723', '3378712515', '1646621553', '4023861240', '2487424745', '1669695324', '2487424745', '1147642491', '1147642491', '1609060617', '1614226872', '3249305314', '331942311', '2487424745', '3904958894', '2487424745', '1617121891', '2484453271', '2650223890', '3378712515', '1646621553', '495599312', '2083971310', '3142625864', '3180318393', '3255104878', '3378712515', '443776336', '511326734', '3378712515', '3026014945', '1117979751', '2031327464', '2663907001', '55310383', '2142601169', '1196156254', '1271030853', '2500783281', '2487424745', '537508723', '3026014945', '3026014945', '1609060617', '1928710999', '2663907001', '2663907001', '3378712515', '2487424745', '1928710999', '3431016847', '3904958894', '3336454548', '537508723', '1388323263', '2819545904', '326006476', '3702001629', '3026014945', '1433879684', '3904958894', '3325710106', '537508723', '2059096722', '2348881191', '3378712515', '2487424745', '443776336', '3325710106', '51506836', '1433879684', '1739931018', '880898248', '3325710106', '3904958894', '3325710106', '2487424745', '3395687666', '3904958894', '2155701614', '2505971401', '261674136', '134193016', '2663907001', '2487424745', '1478398256', '4142663097', '2376382098', '2110742437', '2484453271', '2487424745', '51506836', '2155701614', '4023861240', '3026014945', '880898248', '2663907001', '331942311', '883482547', '3117610635', '880898248', '1609060617', '2695611575', '3378712515', '883482547', '1233833708', '3117610635', '3325710106', '1196156254', '3325710106', '2155701614', '3117610635', '1233833708', '1604596597', '3904958894', '586638664', '1433879684', '1196156254', '2155701614', '2663907001', '2738291516', '3117610635', '2083971310', '2142601169', '3378712515', '3129499595', '3395687666', '2142601169', '1790886359', '1196156254', '1842679196', '2977593493', '3180318393', '809013380', '2178051368', '2083971310', '3026014945', '1196156254', '1669695324', '3255104878', '1604596597', '527400765', '883482547', '495599312', '2348881191', '1005756958', '2487424745', '3989008654', '1196156254', '2031327464', '3117610635', '1892177589', '2142601169', '2206365095', '3325710106', '3716701010', '3904958894', '511326734', '72755508', '127297539', '443776336', '527400765', '1499065773', '3249305314', '527400765', '51506836', '423725039', '164374203', '443776336', '2487424745', '3117610635', '134833760', '1790886359', '3026014945', '883482547', '1816693151', '537508723', '1196156254', '2738291516', '1892177589', '2819545904', '2348881191', '1617121891', '2695611575', '3026014945', '72755508', '880898248', '127297539', '2738291516', '495599312', '1816693151', '1196156254', '2206365095', '2348881191', '860700529', '2031327464', '2317998716', '4123612273', '1462656821', '3142625864', '2206365095', '2370108457', '2630892467', '3716701010', '497688347', '2206365095', '1669695324', '1669695324', '586638664', '1478398256', '1669695324', '2376382098', '3129499595', '2031327464', '511326734', '2031327464', '2178051368', '2206365095', '2663907001', '2487424745', '1669695324', '1196156254', '2031327464', '51506836', '72755508', '2031327464', '1816693151', '1614226872', '164374203', '2283904812', '2505971401', '3180318393', '537508723', '1604596597', '1892177589', '1462656821', '2663907001', '4023861240', '2663907001', '1604596597', '2484453271', '2178051368', '3117610635', '2376382098', '1220154422', '883482547', '2500783281', '2630892467', '3026014945', '326006476', '1604596597', '1478398256', '1646621553', '1433879684', '2178051368', '2178051368', '4123612273', '1790886359', '3378712515', '883482547', '2487424745', '261674136', '3129499595', '1790886359', '880898248', '883482547', '3026014945', '1928710999', '2738291516', '1842679196', '3249305314', '1220154422', '1604596597', '1196156254', '1928710999', '1233833708', '883482547', '261674136', '2487424745', '2487424745', '2317998716', '1117979751', '1196156254', '164374203', '1646621553', '495599312', '3117610635', '2178051368', '2206365095', '1271030853', '1388323263', '1617121891', '164374203', '1790886359', '2630892467', '2487424745', '1842679196', '1604596597', '2487424745', '2142601169', '1646621553', '423725039', '3026014945', '2695611575', '1790886359', '1614226872', '2487424745', '1614226872', '3026014945', '2317998716', '2500783281', '3026014945', '3151318058', '4023861240', '1614226872', '1196156254', '2348881191', '3180318393', '2142601169', '127297539', '495599312', '2142601169', '497688347', '883482547', '880898248', '1892177589', '1646621553', '1790886359', '261674136', '2178051368', '1892177589', '2505971401', '127297539', '2142601169', '1140341822', '3142625864', '3336454548', '127297539', '1816693151', '2695611575', '2110742437', '2348881191', '331942311', '511326734', '325142416', '2317998716', '2695611575', '3129499595', '1669695324', '497688347', '1220154422', '2155701614', '2155701614', '3174332735', '2695611575', '4142663097', '4123612273', '261674136', '2142601169', '2142601169', '1604596597', '1233833708', '880898248', '2695611575', '1654129794', '1196156254', '1196156254', '1271030853', '325142416', '883482547', '883482547', '2487424745', '2487424745', '127297539', '2695611575', '331942311', '1271030853', '1654129794', '3378712515', '1842679196', '860700529', '1669695324', '880898248', '1896554896', '1433879684', '2630892467', '2688605418', '3716701010', '1140341822', '4142663097', '423725039', '2484453271', '860700529', '586638664', '1646183815', '3395687666', '527400765', '537508723', '3378712515', '127297539', '331942311', '1790886359', '2283904812', '2484453271', '1896554896', '2348881191', '2505971401', '1790886359', '860700529', '2484453271', '3117610635', '527400765', '4023861240', '4142663097', '511326734', '1233833708', '1614226872', '2083971310', '880898248', '164374203', '4142663097', '4142663097', '1842679196', '1892177589', '1117979751', '51506836', '3117610635', '2599279756', '3201519139', '127297539', '261674136', '4023861240', '3702001629', '1892177589', '3180318393', '3462882033', '4142663097', '72755508', '2505971401', '55310383', '1892177589', '1140341822', '1462656821', '1604596597', '527400765', '3117610635', '1928710999', '1604596597', '2142601169', '2370108457', '3431016847', '1614226872', '3702001629', '2487424745', '1433879684', '1478398256', '134833760', '1892177589', '55310383', '3702001629', '2487424745', '4023861240', '4023861240', '2206365095', '1669695324', '1892177589', '1220154422', '1896554896', '331942311', '4142663097', '127297539', '127297539', '2376382098', '3117610635', '3142625864', '1196156254', '1433879684', '883482547', '3026014945', '3431016847', '2376382098', '3142625864', '3431016847', '1604596597', '51506836', '3142625864', '883482547', '1433879684', '3026014945', '2663907001', '51506836', '1462656821', '2178051368', '3142625864', '3989008654', '809013380', '3142625864', '2695611575', '1433879684', '2977593493', '3702001629', '3142625864', '3026014945', '2695611575', '1654129794', '883482547', '1842679196', '1117979751', '423725039', '1654129794', '2487424745', '331942311', '3026014945', '2487424745', '1220154422', '4023861240', '3702001629', '511326734', '3702001629', '325142416', '3117610635', '2487424745', '527400765', '134193016', '1609060617', '2348881191', '2599279756', '3249305314', '3026014945', '1196156254', '423725039', '2688605418', '1842679196', '3904958894', '51506836', '1196156254', '127297539', '2599279756', '2695611575', '164374203', '1654129794', '883482547', '883482547', '134193016', '134833760', '1654129794', '1669695324', '2505971401', '325142416', '2663907001', '1739931018', '1140341822', '1499065773', '1816693151', '2977593493', '2688605418', '3129499595', '1654129794', '2695611575', '55310383', '2695611575', '2376382098', '3026014945', '2487424745', '1654129794', '1196156254', '2688605418', '1614226872', '1196156254', '1220154422', '2031327464', '2031327464', '2059096722', '2370108457', '2663907001', '423725039', '883482547', '3702001629', '2977593493', '1140341822', '1617121891', '2738291516', '537508723', '2487424745', '2487424745', '127297539', '511326734', '1842679196', '134193016', '1433879684', '1669695324', '2206365095', '2688605418', '2977593493', '1196156254', '127297539', '2317998716', '2650223890', '4123612273', '1140341822', '2695611575', '325142416', '1654129794', '2505971401', '3431016847', '3336454548', '331942311', '72755508', '2688605418', '1220154422', '127297539', '1646183815', '2083971310', '2317998716', '860700529', '1233833708', '2695611575', '883482547', '3378712515', '2487424745', '1196156254', '1739931018', '2487424745', '2083971310', '2487424745', '1614226872', '3378712515', '1433879684', '2487424745', '331942311', '2688605418', '2688605418', '1196156254', '2178051368', '1669695324', '3325710106', '2487424745', '2083971310', '2663907001', '3378712515', '2059096722', '127297539', '2505971401', '127297539', '527400765', '2083971310', '2206365095', '2500783281', '3151318058', '1654129794', '2688605418', '1604596597', '2650223890', '164374203', '331942311', '2695611575', '527400765', '2487424745', '51506836', '2500783281', '3249305314', '3904958894', '1604596597', '2206365095', '72755508', '586638664', '1842679196', '1739931018', '127297539', '537508723', '586638664', '3378712515', '72755508', '2487424745', '1147642491', '2083971310', '527400765', '1646621553', '2487424745', '3378712515', '2487424745', '860700529', '586638664', '2505971401', '3395687666', '2083971310', '4023861240', '1842679196', '127297539', '1896554896', '3201519139', '3201519139', '1233833708', '3336454548', '3201519139', '3201519139', '1233833708', '537508723', '55310383', '1196156254', '2695611575', '4142663097', '860700529', '51506836', '860700529', '164374203', '1271030853', '2487424745', '1388323263', '3336454548', '1892177589', '2206365095', '1147642491', '4023861240', '1614226872', '1196156254', '2083971310', '527400765', '511326734', '2695611575', '4142663097', '1669695324', '3201519139', '1669695324', '1646621553', '1147642491', '2695611575', '2487424745', '1147642491', '2977593493', '2487424745', '2688605418', '3378712515', '4023861240', '527400765', '164374203', '164374203', '2178051368', '2487424745', '1614226872', '2599279756', '2487424745', '1499065773', '1614226872', '3129499595', '4142663097', '2370108457', '2487424745', '51506836', '2695611575', '495599312', '2206365095', '527400765', '2487424745', '1646621553', '3129499595', '2487424745', '164374203', '4023861240', '127297539', '2977593493', '1614226872', '443776336', '2370108457', '3716701010', '3249305314', '2206365095', '860700529', '860700529', '127297539', '1669695324', '51506836', '1196156254', '2283904812', '4142663097', '1147642491', '1617121891', '3462882033', '497688347', '1604596597', '2650223890', '3142625864', '3378712515', '443776336', '2663907001', '1196156254', '1654129794', '2283904812', '1816693151', '3325710106', '1646621553', '164374203', '527400765', '2283904812', '2083971310', '1604596597', '860700529', '1896554896', '586638664', '1140341822', '2370108457', '1646621553', '2206365095', '2663907001', '2059096722', '1271030853', '1669695324', '55310383', '2977593493', '1196156254', '1147642491', '2663907001', '3142625864', '3255104878', '4023861240', '2688605418', '2031327464', '1669695324', '2031327464', '1739931018', '860700529', '3325710106', '2663907001', '443776336', '2688605418', '443776336', '2376382098', '2599279756', '2178051368', '2206365095', '3395687666', '2142601169', '3336454548', '2031327464', '55310383', '1669695324', '860700529', '261674136', '1928710999', '1928710999', '2663907001', '2663907001', '1739931018', '3395687666', '2376382098', '261674136', '1604596597', '3249305314', '164374203', '443776336', '497688347', '2031327464', '3129499595', '1739931018', '3325710106', '1196156254', '2142601169', '2083971310', '586638664', '1604596597', '2031327464', '2500783281', '3336454548', '880898248', '1604596597', '1433879684', '164374203', '1196156254', '860700529', '261674136', '511326734', '860700529', '1196156254', '51506836', '1842679196', '2142601169', '860700529', '860700529', '2688605418', '1928710999', '1669695324', '3702001629', '883482547', '1669695324', '1604596597', '860700529', '3378712515', '2663907001', '1433879684', '1654129794', '2142601169', '2663907001', '3336454548', '1928710999', '1433879684', '2031327464', '2155701614', '3395687666', '3249305314', '3462882033', '860700529', '1928710999', '3378712515', '164374203', '1896554896', '860700529', '1271030853', '1654129794', '1790886359', '1928710999', '1271030853', '2283904812', '2650223890', '3989008654', '495599312', '511326734', '127297539', '527400765', '2142601169', '2650223890', '3336454548', '1271030853', '1140341822', '51506836', '261674136', '3142625864', '2487424745', '1271030853', '1604596597', '2487424745', '2688605418', '3129499595', '586638664', '2283904812', '3142625864', '1896554896', '2688605418', '2283904812', '2142601169', '883482547', '2487424745', '1646621553', '1271030853', '1117979751', '1147642491', '1147642491', '1609060617', '1614226872', '261674136', '3249305314', '527400765', '2487424745', '1388323263', '883482547', '2650223890', '3129499595', '2487424745', '261674136', '2819545904', '3142625864', '3180318393', '3255104878', '3378712515', '443776336', '164374203', '72755508', '2142601169', '1117979751', '2031327464', '2663907001', '55310383', '1896554896', '883482547', '2487424745', '1271030853', '2376382098', '2376382098', '2500783281', '261674136', '2487424745', '164374203', '3702001629', '1928710999', '2688605418', '1928710999', '3378712515', '4023861240', '883482547', '1896554896', '2142601169', '1892177589', '261674136', '325142416', '3336454548', '2695611575', '1928710999', '1388323263', '2819545904', '3702001629', '2487424745', '2487424745', '325142416', '586638664', '3378712515', '2487424745', '2142601169', '4023861240', '1646621553', '1928710999', '2487424745', '1433879684', '443776336', '3378712515', '2206365095', '1739931018', '2376382098', '880898248', '2059096722', '261674136', '2487424745', '2155701614', '261674136', '134193016', '2663907001', '2142601169', '1478398256', '4142663097', '2206365095', '2376382098', '2110742437', '2484453271', '2487424745', '2819545904', '2155701614', '261674136', '1388323263', '164374203', '2487424745', '1478398256', '3378712515', '2663907001', '883482547', '1654129794', '164374203', '51506836', '1928710999', '3325710106', '586638664', '1646621553', '4023861240', '2663907001', '2663907001', '2206365095', '2031327464', '2663907001', '2059096722', '2142601169', '51506836', '2155701614', '3336454548', '1646621553', '3129499595', '2155701614', '55310383', '1196156254', '2206365095', '331942311', '3129499595', '1614226872', '1614226872', '1196156254', '1842679196', '3180318393', '809013380', '860700529', '1196156254', '860700529', '1669695324', '2206365095', '2695611575', '2695611575', '1005756958', '3151318058', '3249305314', '3989008654', '527400765', '2370108457', '1892177589', '1892177589', '2142601169', '2630892467', '3325710106', '3716701010', '3904958894', '4142663097', '511326734', '1928710999', '261674136', '1499065773', '3249305314', '527400765', '1669695324', '1220154422', '1739931018', '261674136', '3716701010', '1147642491', '134833760', '1790886359', '3378712515', '2031327464', '2695611575', '3026014945', '1140341822', '3129499595', '1140341822', '2663907001', '1196156254', '1617121891', '1388323263', '1140341822', '3026014945', '860700529', '1604596597', '2031327464', '2083971310', '3378712515', '164374203', '2178051368', '1140341822', '1233833708', '2031327464', '2317998716', '4123612273', '1654129794', '1462656821', '1462656821', '1609060617', '3142625864', '2142601169', '2370108457', '2630892467', '3716701010', '2663907001', '1604596597', '261674136', '3716701010', '2206365095', '2142601169', '2376382098', '3129499595', '1646621553', '4023861240', '1669695324', '51506836', '3462882033', '860700529', '860700529', '2370108457', '164374203', '1604596597', '4023861240', '2142601169', '1669695324', '1614226872', '164374203', '2283904812', '3180318393', '537508723', '261674136', '1604596597', '1614226872', '860700529', '2142601169', '2059096722', '3249305314', '51506836', '1669695324', '2142601169', '2599279756', '1896554896', '1842679196', '164374203', '2142601169', '4023861240', '1928710999', '2500783281', '2630892467', '3026014945', '326006476', '1892177589', '443776336', '164374203', '3716701010', '2178051368', '2376382098', '325142416', '4123612273', '495599312', '1388323263', '4142663097', '2142601169', '2487424745', '261674136', '3904958894', '443776336', '3716701010', '261674136', '2142601169', '3462882033', '880898248', '1892177589', '2059096722', '2819545904', '164374203', '1842679196', '3249305314', '4142663097', '860700529', '3904958894', '2059096722', '860700529', '860700529', '1928710999', '883482547', '2695611575', '1669695324', '1646621553', '1117979751', '164374203', '1646621553', '880898248', '2110742437', '423725039', '1147642491', '1271030853', '1388323263', '1617121891', '164374203', '2317998716', '2630892467', '2663907001', '880898248', '4023861240', '3395687666', '1614226872', '51506836', '2059096722', '423725039', '3142625864', '423725039', '1271030853', '1790886359', '4023861240', '51506836', '1646621553', '2142601169', '4142663097', '2317998716', '2500783281', '2650223890', '3026014945', '3151318058', '127297539', '1892177589', '2348881191', '3180318393', '51506836', '2695611575', '423725039', '860700529', '511326734', '883482547', '2059096722', '2178051368', '1646621553', '1790886359', '261674136', '3026014945', '2487424745', '2695611575', '2487424745', '1609060617', '164374203', '2178051368', '2738291516', '3142625864', '2688605418', '1816693151', '2695611575', '2110742437', '2348881191', '2370108457', '1669695324', '2487424745', '2317998716', '2695611575', '1669695324', '497688347', '2487424745', '2155701614', '2484453271', '3026014945', '3174332735', '2487424745', '4123612273', '1669695324', '3142625864', '423725039', '2178051368', '4023861240', '1892177589', '2599279756', '1892177589', '1196156254', '325142416', '331942311', '2178051368', '1892177589', '1669695324', '1842679196', '2695611575', '1433879684', '2599279756', '860700529', '1654129794', '2599279756', '3129499595', '2599279756', '2283904812', '331942311', '51506836', '2178051368', '860700529', '2695611575', '1196156254', '1433879684', '2348881191', '2630892467', '2688605418', '3174332735', '3716701010', '1842679196', '586638664', '2695611575', '883482547', '1654129794', '1462656821', '51506836', '1646183815', '1892177589', '527400765', '537508723', '2059096722', '3142625864', '586638664', '2484453271', '3904958894', '511326734', '443776336', '261674136', '1790886359', '2688605418', '3431016847', '2142601169', '2599279756', '2142601169', '1646621553', '2178051368', '880898248', '1233833708', '1604596597', '1604596597', '1614226872', '2500783281', '3142625864', '4023861240', '860700529', '1388323263', '3026014945', '1790886359', '1842679196', '1140341822', '2031327464', '3201519139', '2505971401', '880898248', '586638664', '51506836', '1892177589', '3174332735', '3180318393', '3702001629', '3989008654', '4142663097', '72755508', '3129499595', '1790886359', '2688605418', '2059096722', '1462656821', '1604596597', '527400765', '3026014945', '2370108457', '2110742437', '2142601169', '2370108457', '2059096722', '1928710999', '2505971401', '1842679196', '1790886359', '1892177589', '1140341822', '423725039', '4023861240', '2663907001', '2663907001', '1842679196', '1140341822', '1220154422', '1896554896', '331942311', '3462882033', '2178051368', '72755508', '1654129794', '2376382098', '3117610635', '2142601169', '2142601169', '1928710999', '880898248', '1433879684', '51506836', '880898248', '1140341822', '1604596597', '51506836', '3142625864', '883482547', '1614226872', '51506836', '1928710999', '1499065773', '2663907001', '527400765', '3117610635', '3989008654', '809013380', '1646621553', '3142625864', '3989008654', '497688347', '1614226872', '2487424745', '2505971401', '880898248', '72755508', '4023861240', '880898248', '2110742437', '1147642491', '497688347', '51506836', '3249305314', '1928710999', '2487424745', '2487424745', '1614226872', '860700529', '1928710999', '2487424745', '1896554896', '1614226872', '1614226872', '1604596597', '3117610635', '51506836', '3378712515', '1896554896', '134193016', '2348881191', '2599279756', '3249305314', '3129499595', '1604596597', '1896554896', '3378712515', '1271030853', '2142601169', '1646621553', '1196156254', '127297539', '2695611575', '1140341822', '3378712515', '860700529', '1646183815', '1654129794', '1669695324', '1816693151', '1816693151', '2500783281', '2505971401', '3249305314', '325142416', '1271030853', '51506836', '1499065773', '1499065773', '1816693151', '2059096722', '586638664', '1896554896', '2487424745', '1220154422', '2142601169', '1140341822', '4023861240', '3249305314', '1478398256', '1896554896', '1896554896', '2155701614', '2110742437', '1604596597', '2505971401', '1220154422', '1140341822', '2031327464', '2059096722', '2663907001', '3129499595', '423725039', '4023861240', '2487424745', '2977593493', '1499065773', '2370108457', '2738291516', '2487424745', '1790886359', '1790886359', '3716701010', '860700529', '3142625864', '134193016', '1433879684', '2206365095', '2505971401', '3249305314', '1654129794', '51506836', '1196156254', '127297539', '2317998716', '2650223890', '1842679196', '3378712515', '1499065773', '860700529', '4023861240', '1388323263', '3336454548', '3129499595', '1271030853', '3378712515', '586638664', '127297539', '1646183815', '2083971310', '2317998716', '860700529', '860700529', '1462656821', '2663907001', '860700529', '2650223890', '2283904812', '3716701010', '2031327464', '326006476', '2663907001', '1147642491', '3378712515', '1433879684', '1499065773', '3378712515', '1790886359', '3378712515', '1140341822', '1896554896', '1669695324', '1140341822', '3026014945', '1604596597', '2688605418', '2059096722', '1462656821', '261674136', '1462656821', '3716701010', '1646183815', '2083971310', '2206365095', '2500783281', '3151318058', '261674136', '1147642491', '51506836', '1388323263', '3026014945', '1654129794', '2977593493', '3378712515', '1147642491', '261674136', '1604596597', '2487424745', '1462656821', '883482547', '2487424745', '586638664', '2487424745', '1388323263', '2083971310', '3378712515', '2142601169', '527400765', '2599279756', '527400765', '2977593493', '3378712515', '1147642491', '3395687666', '2663907001', '1462656821', '51506836', '1896554896', '261674136', '3129499595', '2142601169', '3026014945', '3336454548', '495599312', '2142601169', '127297539', '3026014945', '3378712515', '3026014945', '1609060617', '3378712515', '1609060617', '1271030853', '1928710999', '1654129794', '1646621553', '1388323263', '3336454548', '2487424745', '1604596597', '1140341822', '3129499595', '4023861240', '2487424745', '2487424745', '127297539', '1499065773', '2487424745', '4142663097', '4023861240', '2487424745', '1388323263', '1646621553', '127297539', '3716701010', '2977593493', '2487424745', '2819545904', '3378712515', '1140341822', '1790886359', '3129499595', '1147642491', '2487424745', '423725039', '2688605418', '2819545904', '3378712515', '1499065773', '423725039', '2370108457', '1147642491', '3716701010', '2688605418', '860700529', '860700529', '4023861240', '1478398256', '1790886359', '261674136', '261674136', '1739931018', '3026014945', '164374203', '1646621553', '134193016', '2599279756', '2370108457', '3716701010', '860700529', '3325710106', '586638664', '1654129794', '2487424745', '860700529', '1388323263', '2738291516', '1140341822', '2283904812', '2487424745', '2317998716', '3462882033', '3026014945', '1271030853', '3378712515', '2487424745', '3129499595', '3325710106', '1196156254', '1654129794', '1816693151', '2688605418', '2505971401', '3325710106', '51506836', '1609060617', '2283904812', '586638664', '2155701614', '127297539', '2738291516', '2599279756', '497688347', '2487424745', '2695611575', '3378712515', '2695611575', '3026014945', '2059096722', '3989008654', '3378712515', '2155701614', '2695611575', '1604596597', '1478398256', '2663907001', '3142625864', '3255104878', '4023861240', '3026014945', '1462656821', '1462656821', '3325710106', '2688605418', '1896554896', '2819545904', '2500783281', '443776336', '586638664', '1604596597', '537508723', '537508723', '2142601169', '537508723', '3336454548', '1220154422', '2083971310', '3026014945', '423725039', '2370108457', '3702001629', '1271030853', '423725039', '1005756958', '511326734', '2370108457', '2487424745', '527400765', '1220154422', '586638664', '1147642491', '3026014945', '2487424745', '497688347', '1609060617', '127297539', '1896554896', '527400765', '1842679196', '2083971310', '2083971310', '3142625864', '2487424745', '1499065773', '2083971310', '2500783281', '3336454548', '809013380', '2487424745', '860700529', '2487424745', '3989008654', '1614226872', '261674136', '511326734', '3378712515', '55310383', '3989008654', '1614226872', '3989008654', '331942311', '1646621553', '2083971310', '51506836', '3702001629', '55310383', '3378712515', '2155701614', '586638664', '1614226872', '3026014945', '3378712515', '1646621553', '51506836', '3378712515', '2083971310', '3249305314', '3378712515', '2031327464', '331942311', '51506836', '1614226872', '1614226872', '3378712515', '1433879684', '2348881191', '2487424745', '127297539', '3142625864', '134193016', '1790886359', '1928710999', '1271030853', '2283904812', '2650223890', '1220154422', '2505971401', '527400765', '2599279756', '2487424745', '51506836', '2487424745', '2178051368', '2599279756', '1842679196', '4142663097', '497688347', '1271030853', '1669695324', '2738291516', '55310383', '1669695324', '2083971310', '51506836', '1614226872', '4142663097', '1669695324', '2819545904', '2738291516', '2142601169', '2031327464', '1669695324', '1140341822', '1147642491', '1147642491', '1609060617', '1614226872', '3249305314', '331942311', '2178051368', '1614226872', '2348881191', '2484453271', '2650223890', '3180318393', '3336454548', '511326734', '497688347', '2819545904', '2083971310', '3142625864', '3180318393', '3255104878', '3378712515', '443776336', '325142416', '1147642491', '1669695324', '1117979751', '2031327464', '2663907001', '51506836', '55310383', '55310383', '1462656821', '3904958894', '1271030853', '2500783281', '3180318393', '2083971310', '164374203', '2317998716', '1609060617', '1928710999', '2663907001', '2738291516', '3378712515', '2178051368', '1614226872', '55310383', '1790886359', '3129499595', '2484453271', '3336454548', '2487424745', '2178051368', '1388323263', '2819545904', '3702001629', '3716701010', '2487424745', '860700529', '3904958894', '1790886359', '1654129794', '261674136', '51506836', '2059096722', '2688605418', '3378712515', '4142663097', '2487424745', '443776336', '51506836', '331942311', '1739931018', '880898248', '164374203', '2487424745', '2155701614', '261674136', '325142416', '3336454548', '134193016', '2663907001', '127297539', '1478398256', '4142663097', '2031327464', '2376382098', '2487424745', '2110742437', '2484453271', '2487424745', '1388323263', '2155701614', '1462656821', '2663907001', '883482547', '127297539', '1609060617', '3129499595', '1790886359', '1609060617', '3026014945', '2348881191', '2487424745', '2977593493', '3325710106', '331942311', '497688347', '2487424745', '860700529', '1669695324', '1604596597', '1790886359', '443776336', '3378712515', '443776336', '2155701614', '261674136', '1669695324', '2155701614', '3117610635', '423725039', '3026014945', '3129499595', '3395687666', '127297539', '51506836', '1842679196', '1196156254', '1842679196', '3180318393', '809013380', '3026014945', '1609060617', '1669695324', '2487424745', '3026014945', '3904958894', '1005756958', '3989008654', '127297539', '3378712515', '1892177589', '2142601169', '2206365095', '3325710106', '3431016847', '3716701010', '3904958894', '497688347', '511326734', '3142625864', '2142601169', '1499065773', '3249305314', '527400765', '127297539', '883482547', '1790886359', '134833760', '1790886359', '3151318058', '443776336', '3142625864', '3904958894', '2059096722', '3378712515', '1842679196', '3904958894', '586638664', '1617121891', '261674136', '2977593493', '2487424745', '2370108457', '3201519139', '1614226872', '51506836', '2487424745', '537508723', '1739931018', '2031327464', '2317998716', '2695611575', '4123612273', '1462656821', '3142625864', '586638664', '1609060617', '1609060617', '2370108457', '2630892467', '3716701010', '3129499595', '443776336', '1896554896', '2487424745', '2376382098', '3129499595', '860700529', '2370108457', '443776336', '860700529', '3142625864', '3325710106', '4142663097', '3026014945', '1147642491', '3378712515', '2738291516', '586638664', '2487424745', '1614226872', '164374203', '2283904812', '3180318393', '537508723', '2142601169', '860700529', '443776336', '2178051368', '325142416', '1462656821', '3117610635', '2376382098', '2738291516', '2738291516', '2178051368', '2650223890', '2487424745', '3904958894', '423725039', '423725039', '3989008654', '3249305314', '2500783281', '2630892467', '3026014945', '326006476', '164374203', '3026014945', '1147642491', '1433879684', '2178051368', '4123612273', '2738291516', '860700529', '164374203', '1117979751', '2487424745', '261674136', '423725039', '2178051368', '443776336', '164374203', '2695611575', '3249305314', '325142416', '1842679196', '2155701614', '3249305314', '2142601169', '127297539', '1140341822', '3249305314', '3989008654', '1140341822', '2031327464', '1604596597', '3026014945', '1609060617', '1117979751', '1196156254', '164374203', '1646621553', '495599312', '1140341822', '860700529', '2059096722', '1271030853', '1388323263', '1617121891', '164374203', '1790886359', '2630892467', '4142663097', '3129499595', '2376382098', '4023861240', '1790886359', '2484453271', '423725039', '2031327464', '2484453271', '1790886359', '164374203', '2695611575', '3026014945', '2031327464', '2317998716', '2500783281', '3026014945', '3151318058', '164374203', '3026014945', '2348881191', '3180318393', '1220154422', '3142625864', '2155701614', '2370108457', '883482547', '164374203', '325142416', '1646621553', '1790886359', '261674136', '2031327464', '3026014945', '4142663097', '2663907001', '2059096722', '2031327464', '1117979751', '1233833708', '1816693151', '3142625864', '1816693151', '2695611575', '1005756958', '2110742437', '2348881191', '1669695324', '2155701614', '2317998716', '2695611575', '1462656821', '1669695324', '497688347', '1609060617', '2155701614', '3174332735', '2031327464', '4123612273', '1669695324', '134833760', '1669695324', '423725039', '423725039', '527400765', '3026014945', '2819545904', '1196156254', '325142416', '3716701010', '134833760', '1220154422', '423725039', '423725039', '72755508', '4142663097', '2083971310', '527400765', '2376382098', '2695611575', '2819545904', '2348881191', '2695611575', '1669695324', '1609060617', '3026014945', '1433879684', '2630892467', '2688605418', '3716701010', '1646621553', '2083971310', '2663907001', '2348881191', '880898248', '261674136', '1646183815', '2031327464', '527400765', '537508723', '3026014945', '1790886359', '325142416', '2283904812', '2484453271', '2487424745', '2695611575', '3716701010', '1790886359', '860700529', '2487424745', '2695611575', '2487424745', '72755508', '3249305314', '1220154422', '1233833708', '1614226872', '164374203', '880898248', '3026014945', '4142663097', '2376382098', '2663907001', '2695611575', '1147642491', '2505971401', '2155701614', '2599279756', '3201519139', '134833760', '3129499595', '3336454548', '1892177589', '3180318393', '3462882033', '4142663097', '72755508', '3378712515', '164374203', '1614226872', '134833760', '3989008654', '1462656821', '1604596597', '527400765', '1478398256', '860700529', '2142601169', '2370108457', '72755508', '164374203', '164374203', '1499065773', '2695611575', '1614226872', '1892177589', '443776336', '3989008654', '4023861240', '880898248', '3026014945', '1614226872', '325142416', '1220154422', '1896554896', '331942311', '2663907001', '2142601169', '2376382098', '3117610635', '2178051368', '3336454548', '527400765', '2178051368', '860700529', '527400765', '3026014945', '3249305314', '3026014945', '1117979751', '1604596597', '51506836', '2695611575', '3142625864', '883482547', '1614226872', '2505971401', '2663907001', '495599312', '3378712515', '1499065773', '3989008654', '809013380', '3142625864', '164374203', '2348881191', '1478398256', '1646621553', '2484453271', '2178051368', '443776336', '2348881191', '325142416', '3336454548', '443776336', '2059096722', '3249305314', '164374203', '2487424745', '261674136', '2505971401', '2142601169', '3142625864', '586638664', '1147642491', '2487424745', '3378712515', '1140341822', '3378712515', '3117610635', '2977593493', '423725039', '2487424745', '134193016', '2348881191', '2599279756', '2688605418', '3249305314', '2487424745', '2487424745', '537508723', '443776336', '2505971401', '537508723', '537508723', '1196156254', '127297539', '2695611575', '4123612273', '1928710999', '3129499595', '134193016', '134833760', '1654129794', '1669695324', '1739931018', '2505971401', '325142416', '2487424745', '2376382098', '4123612273', '1499065773', '1816693151', '2977593493', '2695611575', '4123612273', '1478398256', '4123612273', '164374203', '4123612273', '4123612273', '2178051368', '3026014945', '127297539', '164374203', '527400765', '127297539', '4123612273', '1499065773', '1220154422', '2031327464', '2059096722', '2663907001', '423725039', '2142601169', '4123612273', '2178051368', '4123612273', '1617121891', '2738291516', '537508723', '3989008654', '3129499595', '4123612273', '51506836', '860700529', '3378712515', '134193016', '1433879684', '2206365095', '3325710106', '127297539', '4123612273', '1196156254', '127297539', '2317998716', '2650223890', '2487424745', '1790886359', '527400765', '3129499595', '2487424745', '4123612273', '3336454548', '1654129794', '2142601169', '4123612273', '51506836', '127297539', '1646183815', '2083971310', '2317998716', '423725039', '55310383', '860700529', '3142625864', '4123612273', '1928710999', '261674136', '164374203', '1499065773', '164374203', '1790886359', '2142601169', '2599279756', '1433879684', '2505971401', '2505971401', '2376382098', '325142416', '3129499595', '3142625864', '1140341822', '1669695324', '3151318058', '2142601169', '164374203', '1117979751', '51506836', '809013380', '2695611575', '1147642491', '1140341822', '2059096722', '2178051368', '3026014945', '1478398256', '2083971310', '2142601169', '2206365095', '2500783281', '3151318058', '1147642491', '883482547', '586638664', '2376382098', '127297539', '860700529', '1654129794', '1654129794', '3378712515', '3026014945', '2317998716', '51506836', '3026014945', '2505971401', '3026014945', '586638664', '537508723', '3336454548', '1140341822', '2083971310', '2819545904', '537508723', '2695611575', '2599279756', '2688605418', '1739931018', '3716701010', '2376382098', '1790886359', '3395687666', '2083971310', '1790886359', '3026014945', '883482547', '1896554896', '495599312', '2599279756', '2376382098', '1654129794', '3117610635', '3336454548', '511326734', '51506836', '4023861240', '51506836', '3702001629', '2599279756', '2695611575', '1140341822', '860700529', '860700529', '51506836', '325142416', '3249305314', '1388323263', '3336454548', '3716701010', '3129499595', '4142663097', '2505971401', '1816693151', '4023861240', '2819545904', '1499065773', '2059096722', '537508723', '2376382098', '3129499595', '2599279756', '4142663097', '2599279756', '3378712515', '3325710106', '2484453271', '3026014945', '3378712515', '2142601169', '3325710106', '3378712515', '2599279756', '3325710106', '3026014945', '1842679196', '3378712515', '4123612273', '2599279756', '4123612273', '2484453271', '1499065773', '4142663097', '1669695324', '2484453271', '1147642491', '4123612273', '2484453271', '2505971401', '2484453271', '4123612273', '2484453271', '3325710106', '4023861240', '51506836', '2505971401', '164374203', '586638664', '331942311', '1669695324', '3325710106', '2059096722', '1646621553', '2370108457', '3174332735', '3201519139', '3716701010', '3378712515', '2505971401', '3026014945', '1147642491', '3378712515', '2142601169', '2663907001', '1790886359', '2283904812', '537508723', '261674136', '537508723', '3462882033', '4123612273', '3378712515', '2487424745', '537508723', '1196156254', '1654129794', '2663907001', '325142416', '4123612273', '1816693151', '3201519139', '883482547', '3325710106', '1842679196', '883482547', '1196156254', '2283904812', '2738291516', '3026014945', '1499065773', '2695611575', '2283904812', '1604596597', '4123612273', '883482547', '1654129794', '2178051368', '2059096722', '51506836', '3989008654', '2487424745', '1117979751', '586638664', '51506836', '1669695324', '2663907001', '3142625864', '3255104878', '4023861240', '443776336', '164374203', '1147642491', '127297539', '3702001629', '1499065773', '164374203', '1388323263', '443776336', '1117979751', '2487424745', '1669695324', '3201519139', '1117979751', '1604596597', '2695611575', '2487424745', '3336454548', '3989008654', '2487424745', '3989008654', '1140341822', '3026014945', '537508723', '3129499595', '51506836', '3989008654', '537508723', '3026014945', '537508723', '2738291516', '2142601169', '2142601169', '1005756958', '134833760', '497688347', '2599279756', '3989008654', '1140341822', '51506836', '4123612273', '2599279756', '4123612273', '2083971310', '1140341822', '586638664', '2500783281', '3336454548', '1669695324', '4123612273', '809013380', '4123612273', '4123612273', '1842679196', '1896554896', '2505971401', '261674136', '511326734', '3129499595', '1842679196', '4123612273', '1117979751', '4123612273', '134833760', '4123612273', '4123612273', '1147642491', '3174332735', '3180318393', '3702001629', '4123612273', '4123612273', '331942311', '2142601169', '2487424745', '72755508', '1669695324', '2178051368', '51506836', '3026014945', '3129499595', '537508723', '1140341822', '2031327464', '2317998716', '860700529', '860700529', '325142416', '2487424745', '527400765', '527400765', '3129499595', '443776336', '2487424745', '2178051368', '1669695324', '1790886359', '1928710999', '1271030853', '2283904812', '2650223890', '1147642491', '527400765', '860700529', '1147642491', '261674136', '2599279756', '3378712515', '443776336', '51506836', '2695611575', '1499065773', '443776336', '1646621553', '261674136', '2695611575', '51506836', '2599279756', '1669695324', '883482547', '586638664', '1654129794', '2505971401', '3378712515', '1646621553', '2178051368', '3174332735', '423725039', '1117979751', '1147642491', '1147642491', '1609060617', '1614226872', '261674136', '3249305314', '527400765', '4123612273', '4123612273', '2650223890', '860700529', '883482547', '883482547', '2819545904', '3142625864', '3180318393', '3255104878', '3378712515', '443776336', '127297539', '2695611575', '2487424745', '1117979751', '2031327464', '2663907001', '55310383', '2487424745', '1669695324', '1271030853', '2500783281', '3174332735', '325142416', '527400765', '1646621553', '3702001629', '1928710999', '3378712515', '4023861240', '883482547', '3174332735', '2142601169', '2178051368', '51506836', '3336454548', '2738291516', '1388323263', '2819545904', '3702001629', '1433879684', '2487424745', '883482547', '3395687666', '3378712515', '4123612273', '2376382098', '4023861240', '2142601169', '1117979751', '3702001629', '325142416', '443776336', '1604596597', '860700529', '3026014945', '1739931018', '880898248', '2663907001', '1388323263', '2487424745', '2155701614', '261674136', '2738291516', '134193016', '2663907001', '1478398256', '4142663097', '2376382098', '2110742437', '2484453271', '2487424745', '2155701614', '1478398256', '2142601169', '2178051368', '4123612273', '1196156254', '2663907001', '883482547', '4123612273', '1117979751', '860700529', '511326734', '4123612273', '4123612273', '2348881191', '3026014945', '2178051368', '3378712515', '3026014945', '1604596597', '527400765', '4023861240', '860700529', '325142416', '2155701614', '3336454548', '2688605418', '860700529', '2155701614', '2688605418', '1147642491', '72755508', '3129499595', '2487424745', '860700529', '1196156254', '1842679196', '3180318393', '809013380', '1271030853', '443776336', '1669695324', '2487424745', '3026014945', '331942311', '1005756958', '3151318058', '3989008654', '2142601169', '1196156254', '1892177589', '2142601169', '3325710106', '3716701010', '3904958894', '4142663097', '511326734', '1196156254', '1140341822', '1499065773', '3249305314', '527400765', '2178051368', '2487424745', '495599312', '134833760', '1790886359', '4123612273', '2487424745', '3378712515', '261674136', '2059096722', '3378712515', '443776336', '1617121891', '2178051368', '3716701010', '1478398256', '495599312', '1271030853', '443776336', '2487424745', '2487424745', '2031327464', '2317998716', '4123612273', '1462656821', '3142625864', '3716701010', '4123612273', '2370108457', '2630892467', '3716701010', '527400765', '443776336', '1147642491', '1271030853', '1196156254', '2376382098', '3129499595', '4142663097', '4123612273', '4023861240', '2487424745', '4123612273', '4142663097', '4123612273', '4123612273', '325142416', '860700529', '1604596597', '1614226872', '164374203', '2283904812', '3180318393', '537508723', '1196156254', '2059096722', '2142601169', '2206365095', '2059096722', '2317998716', '2059096722', '2059096722', '1604596597', '443776336', '1140341822', '3716701010', '2059096722', '2487424745', '2695611575', '4142663097', '511326734', '3904958894', '1928710999', '2500783281', '2630892467', '3026014945', '326006476', '2317998716', '2487424745', '2487424745', '4023861240', '2178051368', '325142416', '4123612273', '1928710999', '1499065773', '3395687666', '2487424745', '261674136', '1478398256', '2142601169', '2376382098', '1928710999', '2487424745', '2178051368', '1842679196', '3249305314', '2487424745', '2487424745', '511326734', '2059096722', '443776336', '2487424745', '2695611575', '1271030853', '1117979751', '164374203', '1646621553', '2178051368', '2142601169', '134833760', '2688605418', '1271030853', '1388323263', '1617121891', '164374203', '2317998716', '2630892467', '443776336', '2142601169', '3716701010', '2142601169', '2083971310', '423725039', '3716701010', '2487424745', '1790886359', '2487424745', '443776336', '2487424745', '2178051368', '72755508', '2317998716', '2500783281', '3026014945', '3151318058', '2206365095', '55310383', '2348881191', '3180318393', '2487424745', '2206365095', '3129499595', '3129499595', '883482547', '2178051368', '325142416', '1646621553', '1790886359', '261674136', '55310383', '2688605418', '2663907001', '1388323263', '3129499595']\n"
          ],
          "name": "stdout"
        }
      ]
    },
    {
      "cell_type": "code",
      "metadata": {
        "id": "IY8CMBjJ1kZH",
        "colab_type": "code",
        "colab": {}
      },
      "source": [
        "df['customer_id'] = numbers"
      ],
      "execution_count": 0,
      "outputs": []
    },
    {
      "cell_type": "code",
      "metadata": {
        "id": "stWLC2uL1kSU",
        "colab_type": "code",
        "colab": {}
      },
      "source": [
        "df['customer_id'] = df['customer_id'].astype(int)"
      ],
      "execution_count": 0,
      "outputs": []
    },
    {
      "cell_type": "code",
      "metadata": {
        "id": "Lf1gGvM514aH",
        "colab_type": "code",
        "outputId": "2f7c8c9e-54cb-4241-d6c2-3db729c93d9d",
        "colab": {
          "base_uri": "https://localhost:8080/",
          "height": 537
        }
      },
      "source": [
        "df.head()"
      ],
      "execution_count": 0,
      "outputs": [
        {
          "output_type": "execute_result",
          "data": {
            "text/html": [
              "<div>\n",
              "<style scoped>\n",
              "    .dataframe tbody tr th:only-of-type {\n",
              "        vertical-align: middle;\n",
              "    }\n",
              "\n",
              "    .dataframe tbody tr th {\n",
              "        vertical-align: top;\n",
              "    }\n",
              "\n",
              "    .dataframe thead th {\n",
              "        text-align: right;\n",
              "    }\n",
              "</style>\n",
              "<table border=\"1\" class=\"dataframe\">\n",
              "  <thead>\n",
              "    <tr style=\"text-align: right;\">\n",
              "      <th></th>\n",
              "      <th>status</th>\n",
              "      <th>card_present_flag</th>\n",
              "      <th>bpay_biller_code</th>\n",
              "      <th>account</th>\n",
              "      <th>currency</th>\n",
              "      <th>long_lat</th>\n",
              "      <th>txn_description</th>\n",
              "      <th>merchant_id</th>\n",
              "      <th>merchant_code</th>\n",
              "      <th>first_name</th>\n",
              "      <th>balance</th>\n",
              "      <th>gender</th>\n",
              "      <th>age</th>\n",
              "      <th>merchant_suburb</th>\n",
              "      <th>merchant_state</th>\n",
              "      <th>extraction</th>\n",
              "      <th>amount</th>\n",
              "      <th>transaction_id</th>\n",
              "      <th>country</th>\n",
              "      <th>customer_id</th>\n",
              "      <th>merchant_long_lat</th>\n",
              "      <th>movement</th>\n",
              "      <th>month</th>\n",
              "      <th>day</th>\n",
              "    </tr>\n",
              "  </thead>\n",
              "  <tbody>\n",
              "    <tr>\n",
              "      <th>0</th>\n",
              "      <td>authorized</td>\n",
              "      <td>1.0</td>\n",
              "      <td>NaN</td>\n",
              "      <td>ACC-1598451071</td>\n",
              "      <td>AUD</td>\n",
              "      <td>153.41 -27.95</td>\n",
              "      <td>POS</td>\n",
              "      <td>81c48296-73be-44a7-befa-d053f48ce7cd</td>\n",
              "      <td>NaN</td>\n",
              "      <td>Diana</td>\n",
              "      <td>35.39</td>\n",
              "      <td>0</td>\n",
              "      <td>26</td>\n",
              "      <td>Ashmore</td>\n",
              "      <td>QLD</td>\n",
              "      <td>2018-08-01T01:01:15.000+0000</td>\n",
              "      <td>16.25</td>\n",
              "      <td>a623070bfead4541a6b0fff8a09e706c</td>\n",
              "      <td>Australia</td>\n",
              "      <td>2487424745</td>\n",
              "      <td>153.38 -27.99</td>\n",
              "      <td>debit</td>\n",
              "      <td>8</td>\n",
              "      <td>1</td>\n",
              "    </tr>\n",
              "    <tr>\n",
              "      <th>1</th>\n",
              "      <td>authorized</td>\n",
              "      <td>0.0</td>\n",
              "      <td>NaN</td>\n",
              "      <td>ACC-1598451071</td>\n",
              "      <td>AUD</td>\n",
              "      <td>153.41 -27.95</td>\n",
              "      <td>SALES-POS</td>\n",
              "      <td>830a451c-316e-4a6a-bf25-e37caedca49e</td>\n",
              "      <td>NaN</td>\n",
              "      <td>Diana</td>\n",
              "      <td>21.20</td>\n",
              "      <td>0</td>\n",
              "      <td>26</td>\n",
              "      <td>Sydney</td>\n",
              "      <td>NSW</td>\n",
              "      <td>2018-08-01T01:13:45.000+0000</td>\n",
              "      <td>14.19</td>\n",
              "      <td>13270a2a902145da9db4c951e04b51b9</td>\n",
              "      <td>Australia</td>\n",
              "      <td>2487424745</td>\n",
              "      <td>151.21 -33.87</td>\n",
              "      <td>debit</td>\n",
              "      <td>8</td>\n",
              "      <td>1</td>\n",
              "    </tr>\n",
              "    <tr>\n",
              "      <th>2</th>\n",
              "      <td>authorized</td>\n",
              "      <td>1.0</td>\n",
              "      <td>NaN</td>\n",
              "      <td>ACC-1222300524</td>\n",
              "      <td>AUD</td>\n",
              "      <td>151.23 -33.94</td>\n",
              "      <td>POS</td>\n",
              "      <td>835c231d-8cdf-4e96-859d-e9d571760cf0</td>\n",
              "      <td>NaN</td>\n",
              "      <td>Michael</td>\n",
              "      <td>5.71</td>\n",
              "      <td>1</td>\n",
              "      <td>38</td>\n",
              "      <td>Sydney</td>\n",
              "      <td>NSW</td>\n",
              "      <td>2018-08-01T01:26:15.000+0000</td>\n",
              "      <td>6.42</td>\n",
              "      <td>feb79e7ecd7048a5a36ec889d1a94270</td>\n",
              "      <td>Australia</td>\n",
              "      <td>2142601169</td>\n",
              "      <td>151.21 -33.87</td>\n",
              "      <td>debit</td>\n",
              "      <td>8</td>\n",
              "      <td>1</td>\n",
              "    </tr>\n",
              "    <tr>\n",
              "      <th>3</th>\n",
              "      <td>authorized</td>\n",
              "      <td>1.0</td>\n",
              "      <td>NaN</td>\n",
              "      <td>ACC-1037050564</td>\n",
              "      <td>AUD</td>\n",
              "      <td>153.10 -27.66</td>\n",
              "      <td>SALES-POS</td>\n",
              "      <td>48514682-c78a-4a88-b0da-2d6302e64673</td>\n",
              "      <td>NaN</td>\n",
              "      <td>Rhonda</td>\n",
              "      <td>2117.22</td>\n",
              "      <td>0</td>\n",
              "      <td>40</td>\n",
              "      <td>Buderim</td>\n",
              "      <td>QLD</td>\n",
              "      <td>2018-08-01T01:38:45.000+0000</td>\n",
              "      <td>40.90</td>\n",
              "      <td>2698170da3704fd981b15e64a006079e</td>\n",
              "      <td>Australia</td>\n",
              "      <td>1614226872</td>\n",
              "      <td>153.05 -26.68</td>\n",
              "      <td>debit</td>\n",
              "      <td>8</td>\n",
              "      <td>1</td>\n",
              "    </tr>\n",
              "    <tr>\n",
              "      <th>4</th>\n",
              "      <td>authorized</td>\n",
              "      <td>1.0</td>\n",
              "      <td>NaN</td>\n",
              "      <td>ACC-1598451071</td>\n",
              "      <td>AUD</td>\n",
              "      <td>153.41 -27.95</td>\n",
              "      <td>SALES-POS</td>\n",
              "      <td>b4e02c10-0852-4273-b8fd-7b3395e32eb0</td>\n",
              "      <td>NaN</td>\n",
              "      <td>Diana</td>\n",
              "      <td>17.95</td>\n",
              "      <td>0</td>\n",
              "      <td>26</td>\n",
              "      <td>Mermaid Beach</td>\n",
              "      <td>QLD</td>\n",
              "      <td>2018-08-01T01:51:15.000+0000</td>\n",
              "      <td>3.25</td>\n",
              "      <td>329adf79878c4cf0aeb4188b4691c266</td>\n",
              "      <td>Australia</td>\n",
              "      <td>2487424745</td>\n",
              "      <td>153.44 -28.06</td>\n",
              "      <td>debit</td>\n",
              "      <td>8</td>\n",
              "      <td>1</td>\n",
              "    </tr>\n",
              "  </tbody>\n",
              "</table>\n",
              "</div>"
            ],
            "text/plain": [
              "       status  card_present_flag bpay_biller_code  ... movement month day\n",
              "0  authorized                1.0              NaN  ...    debit     8   1\n",
              "1  authorized                0.0              NaN  ...    debit     8   1\n",
              "2  authorized                1.0              NaN  ...    debit     8   1\n",
              "3  authorized                1.0              NaN  ...    debit     8   1\n",
              "4  authorized                1.0              NaN  ...    debit     8   1\n",
              "\n",
              "[5 rows x 24 columns]"
            ]
          },
          "metadata": {
            "tags": []
          },
          "execution_count": 10
        }
      ]
    },
    {
      "cell_type": "markdown",
      "metadata": {
        "id": "IGxGsy4UG8uE",
        "colab_type": "text"
      },
      "source": [
        "**Getting the dataframe containing only the salary**"
      ]
    },
    {
      "cell_type": "code",
      "metadata": {
        "id": "Lb0BNj8enAMD",
        "colab_type": "code",
        "colab": {}
      },
      "source": [
        "salary = df[df['txn_description'] == 'PAY/SALARY']"
      ],
      "execution_count": 0,
      "outputs": []
    },
    {
      "cell_type": "code",
      "metadata": {
        "id": "PjOUkcaBpAAA",
        "colab_type": "code",
        "outputId": "a17f56f8-dc23-4851-d4e5-9aae1e59236b",
        "colab": {
          "base_uri": "https://localhost:8080/",
          "height": 317
        }
      },
      "source": [
        "salary.describe()"
      ],
      "execution_count": 0,
      "outputs": [
        {
          "output_type": "execute_result",
          "data": {
            "text/html": [
              "<div>\n",
              "<style scoped>\n",
              "    .dataframe tbody tr th:only-of-type {\n",
              "        vertical-align: middle;\n",
              "    }\n",
              "\n",
              "    .dataframe tbody tr th {\n",
              "        vertical-align: top;\n",
              "    }\n",
              "\n",
              "    .dataframe thead th {\n",
              "        text-align: right;\n",
              "    }\n",
              "</style>\n",
              "<table border=\"1\" class=\"dataframe\">\n",
              "  <thead>\n",
              "    <tr style=\"text-align: right;\">\n",
              "      <th></th>\n",
              "      <th>card_present_flag</th>\n",
              "      <th>merchant_code</th>\n",
              "      <th>balance</th>\n",
              "      <th>age</th>\n",
              "      <th>amount</th>\n",
              "    </tr>\n",
              "  </thead>\n",
              "  <tbody>\n",
              "    <tr>\n",
              "      <th>count</th>\n",
              "      <td>0.0</td>\n",
              "      <td>883.0</td>\n",
              "      <td>883.000000</td>\n",
              "      <td>883.000000</td>\n",
              "      <td>883.000000</td>\n",
              "    </tr>\n",
              "    <tr>\n",
              "      <th>mean</th>\n",
              "      <td>NaN</td>\n",
              "      <td>0.0</td>\n",
              "      <td>16242.859049</td>\n",
              "      <td>32.631937</td>\n",
              "      <td>1898.728029</td>\n",
              "    </tr>\n",
              "    <tr>\n",
              "      <th>std</th>\n",
              "      <td>NaN</td>\n",
              "      <td>0.0</td>\n",
              "      <td>30953.342656</td>\n",
              "      <td>12.276731</td>\n",
              "      <td>1150.364621</td>\n",
              "    </tr>\n",
              "    <tr>\n",
              "      <th>min</th>\n",
              "      <td>NaN</td>\n",
              "      <td>0.0</td>\n",
              "      <td>735.660000</td>\n",
              "      <td>18.000000</td>\n",
              "      <td>576.000000</td>\n",
              "    </tr>\n",
              "    <tr>\n",
              "      <th>25%</th>\n",
              "      <td>NaN</td>\n",
              "      <td>0.0</td>\n",
              "      <td>4309.995000</td>\n",
              "      <td>22.000000</td>\n",
              "      <td>1013.670000</td>\n",
              "    </tr>\n",
              "    <tr>\n",
              "      <th>50%</th>\n",
              "      <td>NaN</td>\n",
              "      <td>0.0</td>\n",
              "      <td>7532.540000</td>\n",
              "      <td>30.000000</td>\n",
              "      <td>1626.480000</td>\n",
              "    </tr>\n",
              "    <tr>\n",
              "      <th>75%</th>\n",
              "      <td>NaN</td>\n",
              "      <td>0.0</td>\n",
              "      <td>14370.765000</td>\n",
              "      <td>40.000000</td>\n",
              "      <td>2538.680000</td>\n",
              "    </tr>\n",
              "    <tr>\n",
              "      <th>max</th>\n",
              "      <td>NaN</td>\n",
              "      <td>0.0</td>\n",
              "      <td>267128.520000</td>\n",
              "      <td>78.000000</td>\n",
              "      <td>8835.980000</td>\n",
              "    </tr>\n",
              "  </tbody>\n",
              "</table>\n",
              "</div>"
            ],
            "text/plain": [
              "       card_present_flag  merchant_code        balance         age       amount\n",
              "count                0.0          883.0     883.000000  883.000000   883.000000\n",
              "mean                 NaN            0.0   16242.859049   32.631937  1898.728029\n",
              "std                  NaN            0.0   30953.342656   12.276731  1150.364621\n",
              "min                  NaN            0.0     735.660000   18.000000   576.000000\n",
              "25%                  NaN            0.0    4309.995000   22.000000  1013.670000\n",
              "50%                  NaN            0.0    7532.540000   30.000000  1626.480000\n",
              "75%                  NaN            0.0   14370.765000   40.000000  2538.680000\n",
              "max                  NaN            0.0  267128.520000   78.000000  8835.980000"
            ]
          },
          "metadata": {
            "tags": []
          },
          "execution_count": 88
        }
      ]
    },
    {
      "cell_type": "code",
      "metadata": {
        "id": "eD6j5egYrNyr",
        "colab_type": "code",
        "outputId": "e63f78ba-9fa7-4839-a561-e6f0e45a7099",
        "colab": {
          "base_uri": "https://localhost:8080/",
          "height": 382
        }
      },
      "source": [
        "salary.head()"
      ],
      "execution_count": 12,
      "outputs": [
        {
          "output_type": "execute_result",
          "data": {
            "text/html": [
              "<div>\n",
              "<style scoped>\n",
              "    .dataframe tbody tr th:only-of-type {\n",
              "        vertical-align: middle;\n",
              "    }\n",
              "\n",
              "    .dataframe tbody tr th {\n",
              "        vertical-align: top;\n",
              "    }\n",
              "\n",
              "    .dataframe thead th {\n",
              "        text-align: right;\n",
              "    }\n",
              "</style>\n",
              "<table border=\"1\" class=\"dataframe\">\n",
              "  <thead>\n",
              "    <tr style=\"text-align: right;\">\n",
              "      <th></th>\n",
              "      <th>status</th>\n",
              "      <th>card_present_flag</th>\n",
              "      <th>bpay_biller_code</th>\n",
              "      <th>account</th>\n",
              "      <th>currency</th>\n",
              "      <th>long_lat</th>\n",
              "      <th>txn_description</th>\n",
              "      <th>merchant_id</th>\n",
              "      <th>merchant_code</th>\n",
              "      <th>first_name</th>\n",
              "      <th>balance</th>\n",
              "      <th>gender</th>\n",
              "      <th>age</th>\n",
              "      <th>merchant_suburb</th>\n",
              "      <th>merchant_state</th>\n",
              "      <th>extraction</th>\n",
              "      <th>amount</th>\n",
              "      <th>transaction_id</th>\n",
              "      <th>country</th>\n",
              "      <th>customer_id</th>\n",
              "      <th>merchant_long_lat</th>\n",
              "      <th>movement</th>\n",
              "      <th>month</th>\n",
              "      <th>day</th>\n",
              "    </tr>\n",
              "  </thead>\n",
              "  <tbody>\n",
              "    <tr>\n",
              "      <th>50</th>\n",
              "      <td>posted</td>\n",
              "      <td>NaN</td>\n",
              "      <td>0</td>\n",
              "      <td>ACC-588564840</td>\n",
              "      <td>AUD</td>\n",
              "      <td>151.27 -33.76</td>\n",
              "      <td>PAY/SALARY</td>\n",
              "      <td>NaN</td>\n",
              "      <td>0.0</td>\n",
              "      <td>Isaiah</td>\n",
              "      <td>8342.11</td>\n",
              "      <td>1</td>\n",
              "      <td>23</td>\n",
              "      <td>NaN</td>\n",
              "      <td>NaN</td>\n",
              "      <td>2018-08-01T11:00:00.000+0000</td>\n",
              "      <td>3903.95</td>\n",
              "      <td>9ca281650e5d482d9e53f85e959baa66</td>\n",
              "      <td>Australia</td>\n",
              "      <td>1462656821</td>\n",
              "      <td>NaN</td>\n",
              "      <td>credit</td>\n",
              "      <td>8</td>\n",
              "      <td>1</td>\n",
              "    </tr>\n",
              "    <tr>\n",
              "      <th>61</th>\n",
              "      <td>posted</td>\n",
              "      <td>NaN</td>\n",
              "      <td>0</td>\n",
              "      <td>ACC-1650504218</td>\n",
              "      <td>AUD</td>\n",
              "      <td>145.01 -37.93</td>\n",
              "      <td>PAY/SALARY</td>\n",
              "      <td>NaN</td>\n",
              "      <td>0.0</td>\n",
              "      <td>Marissa</td>\n",
              "      <td>2040.58</td>\n",
              "      <td>0</td>\n",
              "      <td>23</td>\n",
              "      <td>NaN</td>\n",
              "      <td>NaN</td>\n",
              "      <td>2018-08-01T12:00:00.000+0000</td>\n",
              "      <td>1626.48</td>\n",
              "      <td>1822eb0e1bbe4c9e95ebbb0fa2cc4323</td>\n",
              "      <td>Australia</td>\n",
              "      <td>2500783281</td>\n",
              "      <td>NaN</td>\n",
              "      <td>credit</td>\n",
              "      <td>8</td>\n",
              "      <td>1</td>\n",
              "    </tr>\n",
              "    <tr>\n",
              "      <th>64</th>\n",
              "      <td>posted</td>\n",
              "      <td>NaN</td>\n",
              "      <td>0</td>\n",
              "      <td>ACC-3326339947</td>\n",
              "      <td>AUD</td>\n",
              "      <td>151.18 -33.80</td>\n",
              "      <td>PAY/SALARY</td>\n",
              "      <td>NaN</td>\n",
              "      <td>0.0</td>\n",
              "      <td>Eric</td>\n",
              "      <td>3158.51</td>\n",
              "      <td>1</td>\n",
              "      <td>22</td>\n",
              "      <td>NaN</td>\n",
              "      <td>NaN</td>\n",
              "      <td>2018-08-01T12:00:00.000+0000</td>\n",
              "      <td>983.36</td>\n",
              "      <td>bd62b1799a454cedbbb56364f7c40cbf</td>\n",
              "      <td>Australia</td>\n",
              "      <td>326006476</td>\n",
              "      <td>NaN</td>\n",
              "      <td>credit</td>\n",
              "      <td>8</td>\n",
              "      <td>1</td>\n",
              "    </tr>\n",
              "    <tr>\n",
              "      <th>68</th>\n",
              "      <td>posted</td>\n",
              "      <td>NaN</td>\n",
              "      <td>0</td>\n",
              "      <td>ACC-3541460373</td>\n",
              "      <td>AUD</td>\n",
              "      <td>145.00 -37.83</td>\n",
              "      <td>PAY/SALARY</td>\n",
              "      <td>NaN</td>\n",
              "      <td>0.0</td>\n",
              "      <td>Jeffrey</td>\n",
              "      <td>2517.66</td>\n",
              "      <td>1</td>\n",
              "      <td>24</td>\n",
              "      <td>NaN</td>\n",
              "      <td>NaN</td>\n",
              "      <td>2018-08-01T13:00:00.000+0000</td>\n",
              "      <td>1408.08</td>\n",
              "      <td>0d95c7c932bb48e5b44c2637bdd3efe9</td>\n",
              "      <td>Australia</td>\n",
              "      <td>1433879684</td>\n",
              "      <td>NaN</td>\n",
              "      <td>credit</td>\n",
              "      <td>8</td>\n",
              "      <td>1</td>\n",
              "    </tr>\n",
              "    <tr>\n",
              "      <th>70</th>\n",
              "      <td>posted</td>\n",
              "      <td>NaN</td>\n",
              "      <td>0</td>\n",
              "      <td>ACC-2776252858</td>\n",
              "      <td>AUD</td>\n",
              "      <td>144.95 -37.76</td>\n",
              "      <td>PAY/SALARY</td>\n",
              "      <td>NaN</td>\n",
              "      <td>0.0</td>\n",
              "      <td>Kristin</td>\n",
              "      <td>2271.79</td>\n",
              "      <td>0</td>\n",
              "      <td>43</td>\n",
              "      <td>NaN</td>\n",
              "      <td>NaN</td>\n",
              "      <td>2018-08-01T13:00:00.000+0000</td>\n",
              "      <td>1068.04</td>\n",
              "      <td>f50ccf1195214d14a0acbfcb5a265193</td>\n",
              "      <td>Australia</td>\n",
              "      <td>4123612273</td>\n",
              "      <td>NaN</td>\n",
              "      <td>credit</td>\n",
              "      <td>8</td>\n",
              "      <td>1</td>\n",
              "    </tr>\n",
              "  </tbody>\n",
              "</table>\n",
              "</div>"
            ],
            "text/plain": [
              "    status  card_present_flag bpay_biller_code  ... movement month day\n",
              "50  posted                NaN                0  ...   credit     8   1\n",
              "61  posted                NaN                0  ...   credit     8   1\n",
              "64  posted                NaN                0  ...   credit     8   1\n",
              "68  posted                NaN                0  ...   credit     8   1\n",
              "70  posted                NaN                0  ...   credit     8   1\n",
              "\n",
              "[5 rows x 24 columns]"
            ]
          },
          "metadata": {
            "tags": []
          },
          "execution_count": 12
        }
      ]
    },
    {
      "cell_type": "code",
      "metadata": {
        "id": "YW-8SSIIU37u",
        "colab_type": "code",
        "outputId": "430ea31f-f002-4bbe-e53e-055b8779fee3",
        "colab": {
          "base_uri": "https://localhost:8080/",
          "height": 496
        }
      },
      "source": [
        "salary.nunique()"
      ],
      "execution_count": 0,
      "outputs": [
        {
          "output_type": "execute_result",
          "data": {
            "text/plain": [
              "status                 1\n",
              "card_present_flag      0\n",
              "bpay_biller_code       1\n",
              "account              100\n",
              "currency               1\n",
              "long_lat             100\n",
              "txn_description        1\n",
              "merchant_id            0\n",
              "merchant_code          1\n",
              "first_name            80\n",
              "balance              883\n",
              "date                  65\n",
              "gender                 2\n",
              "age                   33\n",
              "merchant_suburb        0\n",
              "merchant_state         0\n",
              "extraction           394\n",
              "amount               100\n",
              "transaction_id       883\n",
              "country                1\n",
              "customer_id          100\n",
              "merchant_long_lat      0\n",
              "movement               1\n",
              "dtype: int64"
            ]
          },
          "metadata": {
            "tags": []
          },
          "execution_count": 7
        }
      ]
    },
    {
      "cell_type": "markdown",
      "metadata": {
        "id": "rQjtN0ufHc-Y",
        "colab_type": "text"
      },
      "source": [
        "**Removing  unwanted columns**"
      ]
    },
    {
      "cell_type": "code",
      "metadata": {
        "id": "vztGrUSkTmpQ",
        "colab_type": "code",
        "colab": {}
      },
      "source": [
        "salary_drop = salary.drop(['status','card_present_flag','bpay_biller_code','currency','long_lat','txn_description','merchant_id','merchant_code','first_name','merchant_suburb','merchant_state','extraction','transaction_id','country','merchant_long_lat','movement'],axis = 1)"
      ],
      "execution_count": 0,
      "outputs": []
    },
    {
      "cell_type": "code",
      "metadata": {
        "id": "VLIVeL2iXevQ",
        "colab_type": "code",
        "colab": {}
      },
      "source": [
        "salary_drop = salary_drop.drop('account',axis = 1)"
      ],
      "execution_count": 0,
      "outputs": []
    },
    {
      "cell_type": "code",
      "metadata": {
        "id": "HZUv14WeVEE_",
        "colab_type": "code",
        "outputId": "a1f5a618-abc6-4693-dd89-d243af98d794",
        "colab": {
          "base_uri": "https://localhost:8080/",
          "height": 242
        }
      },
      "source": [
        "salary_drop.head()"
      ],
      "execution_count": 15,
      "outputs": [
        {
          "output_type": "execute_result",
          "data": {
            "text/html": [
              "<div>\n",
              "<style scoped>\n",
              "    .dataframe tbody tr th:only-of-type {\n",
              "        vertical-align: middle;\n",
              "    }\n",
              "\n",
              "    .dataframe tbody tr th {\n",
              "        vertical-align: top;\n",
              "    }\n",
              "\n",
              "    .dataframe thead th {\n",
              "        text-align: right;\n",
              "    }\n",
              "</style>\n",
              "<table border=\"1\" class=\"dataframe\">\n",
              "  <thead>\n",
              "    <tr style=\"text-align: right;\">\n",
              "      <th></th>\n",
              "      <th>balance</th>\n",
              "      <th>gender</th>\n",
              "      <th>age</th>\n",
              "      <th>amount</th>\n",
              "      <th>customer_id</th>\n",
              "      <th>month</th>\n",
              "      <th>day</th>\n",
              "    </tr>\n",
              "  </thead>\n",
              "  <tbody>\n",
              "    <tr>\n",
              "      <th>50</th>\n",
              "      <td>8342.11</td>\n",
              "      <td>1</td>\n",
              "      <td>23</td>\n",
              "      <td>3903.95</td>\n",
              "      <td>1462656821</td>\n",
              "      <td>8</td>\n",
              "      <td>1</td>\n",
              "    </tr>\n",
              "    <tr>\n",
              "      <th>61</th>\n",
              "      <td>2040.58</td>\n",
              "      <td>0</td>\n",
              "      <td>23</td>\n",
              "      <td>1626.48</td>\n",
              "      <td>2500783281</td>\n",
              "      <td>8</td>\n",
              "      <td>1</td>\n",
              "    </tr>\n",
              "    <tr>\n",
              "      <th>64</th>\n",
              "      <td>3158.51</td>\n",
              "      <td>1</td>\n",
              "      <td>22</td>\n",
              "      <td>983.36</td>\n",
              "      <td>326006476</td>\n",
              "      <td>8</td>\n",
              "      <td>1</td>\n",
              "    </tr>\n",
              "    <tr>\n",
              "      <th>68</th>\n",
              "      <td>2517.66</td>\n",
              "      <td>1</td>\n",
              "      <td>24</td>\n",
              "      <td>1408.08</td>\n",
              "      <td>1433879684</td>\n",
              "      <td>8</td>\n",
              "      <td>1</td>\n",
              "    </tr>\n",
              "    <tr>\n",
              "      <th>70</th>\n",
              "      <td>2271.79</td>\n",
              "      <td>0</td>\n",
              "      <td>43</td>\n",
              "      <td>1068.04</td>\n",
              "      <td>4123612273</td>\n",
              "      <td>8</td>\n",
              "      <td>1</td>\n",
              "    </tr>\n",
              "  </tbody>\n",
              "</table>\n",
              "</div>"
            ],
            "text/plain": [
              "    balance  gender  age   amount  customer_id  month  day\n",
              "50  8342.11       1   23  3903.95   1462656821      8    1\n",
              "61  2040.58       0   23  1626.48   2500783281      8    1\n",
              "64  3158.51       1   22   983.36    326006476      8    1\n",
              "68  2517.66       1   24  1408.08   1433879684      8    1\n",
              "70  2271.79       0   43  1068.04   4123612273      8    1"
            ]
          },
          "metadata": {
            "tags": []
          },
          "execution_count": 15
        }
      ]
    },
    {
      "cell_type": "markdown",
      "metadata": {
        "id": "eNXsPztjfNj9",
        "colab_type": "text"
      },
      "source": [
        "# **Adding attributes**"
      ]
    },
    {
      "cell_type": "markdown",
      "metadata": {
        "id": "VQAMkIiKe_iV",
        "colab_type": "text"
      },
      "source": [
        "**--------------------------------------------------------**"
      ]
    },
    {
      "cell_type": "markdown",
      "metadata": {
        "id": "xHndwZdCHvtV",
        "colab_type": "text"
      },
      "source": [
        "**Annual Salary**"
      ]
    },
    {
      "cell_type": "code",
      "metadata": {
        "id": "MogZ0h_eXpdy",
        "colab_type": "code",
        "colab": {}
      },
      "source": [
        "annual_salary = salary_drop.groupby('customer_id')['amount'].sum()\n",
        "annual_salary = pd.DataFrame(annual_salary)"
      ],
      "execution_count": 0,
      "outputs": []
    },
    {
      "cell_type": "code",
      "metadata": {
        "id": "axwNAE_UYcmh",
        "colab_type": "code",
        "colab": {}
      },
      "source": [
        "annual_salary.columns = ['annual_salary']"
      ],
      "execution_count": 0,
      "outputs": []
    },
    {
      "cell_type": "code",
      "metadata": {
        "id": "V__L_2toZlJK",
        "colab_type": "code",
        "outputId": "6f7a155e-6ca6-44f7-d37c-b3f3c7d87682",
        "colab": {
          "base_uri": "https://localhost:8080/",
          "height": 280
        }
      },
      "source": [
        "annual_salary.head()"
      ],
      "execution_count": 23,
      "outputs": [
        {
          "output_type": "execute_result",
          "data": {
            "text/html": [
              "<div>\n",
              "<style scoped>\n",
              "    .dataframe tbody tr th:only-of-type {\n",
              "        vertical-align: middle;\n",
              "    }\n",
              "\n",
              "    .dataframe tbody tr th {\n",
              "        vertical-align: top;\n",
              "    }\n",
              "\n",
              "    .dataframe thead th {\n",
              "        text-align: right;\n",
              "    }\n",
              "</style>\n",
              "<table border=\"1\" class=\"dataframe\">\n",
              "  <thead>\n",
              "    <tr style=\"text-align: right;\">\n",
              "      <th></th>\n",
              "      <th>annual_salary</th>\n",
              "    </tr>\n",
              "    <tr>\n",
              "      <th>customer_id</th>\n",
              "      <th></th>\n",
              "    </tr>\n",
              "  </thead>\n",
              "  <tbody>\n",
              "    <tr>\n",
              "      <th>51506836</th>\n",
              "      <td>12048.98</td>\n",
              "    </tr>\n",
              "    <tr>\n",
              "      <th>55310383</th>\n",
              "      <td>21277.36</td>\n",
              "    </tr>\n",
              "    <tr>\n",
              "      <th>72755508</th>\n",
              "      <td>8703.84</td>\n",
              "    </tr>\n",
              "    <tr>\n",
              "      <th>127297539</th>\n",
              "      <td>14804.27</td>\n",
              "    </tr>\n",
              "    <tr>\n",
              "      <th>134193016</th>\n",
              "      <td>14165.76</td>\n",
              "    </tr>\n",
              "  </tbody>\n",
              "</table>\n",
              "</div>"
            ],
            "text/plain": [
              "             annual_salary\n",
              "customer_id               \n",
              "51506836          12048.98\n",
              "55310383          21277.36\n",
              "72755508           8703.84\n",
              "127297539         14804.27\n",
              "134193016         14165.76"
            ]
          },
          "metadata": {
            "tags": []
          },
          "execution_count": 23
        }
      ]
    },
    {
      "cell_type": "code",
      "metadata": {
        "id": "KMxhT9qPZzEm",
        "colab_type": "code",
        "outputId": "59e3893c-78f6-4a80-918e-d93f8c1ed344",
        "colab": {
          "base_uri": "https://localhost:8080/",
          "height": 36
        }
      },
      "source": [
        "annual_salary.shape"
      ],
      "execution_count": 0,
      "outputs": [
        {
          "output_type": "execute_result",
          "data": {
            "text/plain": [
              "(100, 1)"
            ]
          },
          "metadata": {
            "tags": []
          },
          "execution_count": 297
        }
      ]
    },
    {
      "cell_type": "markdown",
      "metadata": {
        "id": "SE4IseiLfGHK",
        "colab_type": "text"
      },
      "source": [
        "**---------------------------------------------------------**"
      ]
    },
    {
      "cell_type": "markdown",
      "metadata": {
        "id": "rY1UaCrWIEWY",
        "colab_type": "text"
      },
      "source": [
        "**No. of credit transactions**"
      ]
    },
    {
      "cell_type": "code",
      "metadata": {
        "id": "-9BaEnQ8dYQ6",
        "colab_type": "code",
        "colab": {}
      },
      "source": [
        "credit_df = df[df['movement'] == 'credit']"
      ],
      "execution_count": 0,
      "outputs": []
    },
    {
      "cell_type": "code",
      "metadata": {
        "id": "M1rhbG6vdYOR",
        "colab_type": "code",
        "colab": {}
      },
      "source": [
        "credit_df = credit_df.groupby('customer_id')['movement'].count()\n",
        "credit_df = pd.DataFrame(credit_df)\n",
        "credit_df.columns = ['credit_transactions']"
      ],
      "execution_count": 0,
      "outputs": []
    },
    {
      "cell_type": "code",
      "metadata": {
        "id": "JPy4VFNSdYLE",
        "colab_type": "code",
        "outputId": "ec01b612-5d7b-4f48-9c28-2b51d0e69ba8",
        "colab": {
          "base_uri": "https://localhost:8080/",
          "height": 280
        }
      },
      "source": [
        "credit_df.head()"
      ],
      "execution_count": 26,
      "outputs": [
        {
          "output_type": "execute_result",
          "data": {
            "text/html": [
              "<div>\n",
              "<style scoped>\n",
              "    .dataframe tbody tr th:only-of-type {\n",
              "        vertical-align: middle;\n",
              "    }\n",
              "\n",
              "    .dataframe tbody tr th {\n",
              "        vertical-align: top;\n",
              "    }\n",
              "\n",
              "    .dataframe thead th {\n",
              "        text-align: right;\n",
              "    }\n",
              "</style>\n",
              "<table border=\"1\" class=\"dataframe\">\n",
              "  <thead>\n",
              "    <tr style=\"text-align: right;\">\n",
              "      <th></th>\n",
              "      <th>credit_transactions</th>\n",
              "    </tr>\n",
              "    <tr>\n",
              "      <th>customer_id</th>\n",
              "      <th></th>\n",
              "    </tr>\n",
              "  </thead>\n",
              "  <tbody>\n",
              "    <tr>\n",
              "      <th>51506836</th>\n",
              "      <td>2</td>\n",
              "    </tr>\n",
              "    <tr>\n",
              "      <th>55310383</th>\n",
              "      <td>13</td>\n",
              "    </tr>\n",
              "    <tr>\n",
              "      <th>72755508</th>\n",
              "      <td>12</td>\n",
              "    </tr>\n",
              "    <tr>\n",
              "      <th>127297539</th>\n",
              "      <td>13</td>\n",
              "    </tr>\n",
              "    <tr>\n",
              "      <th>134193016</th>\n",
              "      <td>7</td>\n",
              "    </tr>\n",
              "  </tbody>\n",
              "</table>\n",
              "</div>"
            ],
            "text/plain": [
              "             credit_transactions\n",
              "customer_id                     \n",
              "51506836                       2\n",
              "55310383                      13\n",
              "72755508                      12\n",
              "127297539                     13\n",
              "134193016                      7"
            ]
          },
          "metadata": {
            "tags": []
          },
          "execution_count": 26
        }
      ]
    },
    {
      "cell_type": "markdown",
      "metadata": {
        "id": "dRtpM5qBf4l5",
        "colab_type": "text"
      },
      "source": [
        "**-------------------------------------------------------**"
      ]
    },
    {
      "cell_type": "markdown",
      "metadata": {
        "id": "lANiOuNOILDU",
        "colab_type": "text"
      },
      "source": [
        "**No. of debit transactions**"
      ]
    },
    {
      "cell_type": "code",
      "metadata": {
        "id": "V1F_u86TTY9S",
        "colab_type": "code",
        "colab": {}
      },
      "source": [
        "debit_df = df[df['movement'] == 'debit']"
      ],
      "execution_count": 0,
      "outputs": []
    },
    {
      "cell_type": "code",
      "metadata": {
        "id": "5nT4f8AZTY4b",
        "colab_type": "code",
        "colab": {}
      },
      "source": [
        "debit_df = debit_df.groupby('customer_id')['movement'].count()\n",
        "debit_df = pd.DataFrame(debit_df)\n",
        "debit_df.columns = ['debit_transactions']"
      ],
      "execution_count": 0,
      "outputs": []
    },
    {
      "cell_type": "code",
      "metadata": {
        "id": "hg7mVOsyTYyn",
        "colab_type": "code",
        "outputId": "230d57f9-ee8c-43f0-bbf1-691e95a11e8c",
        "colab": {
          "base_uri": "https://localhost:8080/",
          "height": 280
        }
      },
      "source": [
        "debit_df.head()"
      ],
      "execution_count": 29,
      "outputs": [
        {
          "output_type": "execute_result",
          "data": {
            "text/html": [
              "<div>\n",
              "<style scoped>\n",
              "    .dataframe tbody tr th:only-of-type {\n",
              "        vertical-align: middle;\n",
              "    }\n",
              "\n",
              "    .dataframe tbody tr th {\n",
              "        vertical-align: top;\n",
              "    }\n",
              "\n",
              "    .dataframe thead th {\n",
              "        text-align: right;\n",
              "    }\n",
              "</style>\n",
              "<table border=\"1\" class=\"dataframe\">\n",
              "  <thead>\n",
              "    <tr style=\"text-align: right;\">\n",
              "      <th></th>\n",
              "      <th>debit_transactions</th>\n",
              "    </tr>\n",
              "    <tr>\n",
              "      <th>customer_id</th>\n",
              "      <th></th>\n",
              "    </tr>\n",
              "  </thead>\n",
              "  <tbody>\n",
              "    <tr>\n",
              "      <th>51506836</th>\n",
              "      <td>237</td>\n",
              "    </tr>\n",
              "    <tr>\n",
              "      <th>55310383</th>\n",
              "      <td>44</td>\n",
              "    </tr>\n",
              "    <tr>\n",
              "      <th>72755508</th>\n",
              "      <td>46</td>\n",
              "    </tr>\n",
              "    <tr>\n",
              "      <th>127297539</th>\n",
              "      <td>186</td>\n",
              "    </tr>\n",
              "    <tr>\n",
              "      <th>134193016</th>\n",
              "      <td>69</td>\n",
              "    </tr>\n",
              "  </tbody>\n",
              "</table>\n",
              "</div>"
            ],
            "text/plain": [
              "             debit_transactions\n",
              "customer_id                    \n",
              "51506836                    237\n",
              "55310383                     44\n",
              "72755508                     46\n",
              "127297539                   186\n",
              "134193016                    69"
            ]
          },
          "metadata": {
            "tags": []
          },
          "execution_count": 29
        }
      ]
    },
    {
      "cell_type": "markdown",
      "metadata": {
        "id": "HymbfI6kISnl",
        "colab_type": "text"
      },
      "source": [
        "**-----------------------------------------------------------**"
      ]
    },
    {
      "cell_type": "markdown",
      "metadata": {
        "id": "VwOaZ1qJIslR",
        "colab_type": "text"
      },
      "source": [
        "**Average balance maintained**"
      ]
    },
    {
      "cell_type": "code",
      "metadata": {
        "id": "2jDaEhROdYIZ",
        "colab_type": "code",
        "colab": {}
      },
      "source": [
        "overall_average_balance = df.groupby('customer_id')['balance'].mean()"
      ],
      "execution_count": 0,
      "outputs": []
    },
    {
      "cell_type": "code",
      "metadata": {
        "id": "J46nn8EEdYEN",
        "colab_type": "code",
        "outputId": "27119c2e-5910-47fe-89b9-2a255549daa5",
        "colab": {
          "base_uri": "https://localhost:8080/",
          "height": 280
        }
      },
      "source": [
        "overall_average_balance = pd.DataFrame(overall_average_balance)\n",
        "overall_average_balance.columns = ['overall_average_balance']\n",
        "overall_average_balance.head()"
      ],
      "execution_count": 23,
      "outputs": [
        {
          "output_type": "execute_result",
          "data": {
            "text/html": [
              "<div>\n",
              "<style scoped>\n",
              "    .dataframe tbody tr th:only-of-type {\n",
              "        vertical-align: middle;\n",
              "    }\n",
              "\n",
              "    .dataframe tbody tr th {\n",
              "        vertical-align: top;\n",
              "    }\n",
              "\n",
              "    .dataframe thead th {\n",
              "        text-align: right;\n",
              "    }\n",
              "</style>\n",
              "<table border=\"1\" class=\"dataframe\">\n",
              "  <thead>\n",
              "    <tr style=\"text-align: right;\">\n",
              "      <th></th>\n",
              "      <th>overall_average_balance</th>\n",
              "    </tr>\n",
              "    <tr>\n",
              "      <th>customer_id</th>\n",
              "      <th></th>\n",
              "    </tr>\n",
              "  </thead>\n",
              "  <tbody>\n",
              "    <tr>\n",
              "      <th>51506836</th>\n",
              "      <td>16385.831632</td>\n",
              "    </tr>\n",
              "    <tr>\n",
              "      <th>55310383</th>\n",
              "      <td>7031.470175</td>\n",
              "    </tr>\n",
              "    <tr>\n",
              "      <th>72755508</th>\n",
              "      <td>4497.557069</td>\n",
              "    </tr>\n",
              "    <tr>\n",
              "      <th>127297539</th>\n",
              "      <td>5448.334573</td>\n",
              "    </tr>\n",
              "    <tr>\n",
              "      <th>134193016</th>\n",
              "      <td>5553.929474</td>\n",
              "    </tr>\n",
              "  </tbody>\n",
              "</table>\n",
              "</div>"
            ],
            "text/plain": [
              "             overall_average_balance\n",
              "customer_id                         \n",
              "51506836                16385.831632\n",
              "55310383                 7031.470175\n",
              "72755508                 4497.557069\n",
              "127297539                5448.334573\n",
              "134193016                5553.929474"
            ]
          },
          "metadata": {
            "tags": []
          },
          "execution_count": 23
        }
      ]
    },
    {
      "cell_type": "markdown",
      "metadata": {
        "id": "zuaXy3_Yh1JZ",
        "colab_type": "text"
      },
      "source": [
        "**-------------------------------------------------------**"
      ]
    },
    {
      "cell_type": "markdown",
      "metadata": {
        "id": "0BnOoCdMI-eW",
        "colab_type": "text"
      },
      "source": [
        "**Average amount transacted**\n",
        "\n"
      ]
    },
    {
      "cell_type": "code",
      "metadata": {
        "id": "cA8r2EGoEQUE",
        "colab_type": "code",
        "colab": {}
      },
      "source": [
        "overall_average_amount = df.groupby('customer_id')['amount'].mean()"
      ],
      "execution_count": 0,
      "outputs": []
    },
    {
      "cell_type": "code",
      "metadata": {
        "id": "CLJLrwDYEbw4",
        "colab_type": "code",
        "outputId": "29196799-c475-43fa-9712-fd9958427d0a",
        "colab": {
          "base_uri": "https://localhost:8080/",
          "height": 280
        }
      },
      "source": [
        "overall_average_amount = pd.DataFrame(overall_average_amount)\n",
        "overall_average_amount.columns = ['overall_average_amount']\n",
        "overall_average_amount.head()"
      ],
      "execution_count": 25,
      "outputs": [
        {
          "output_type": "execute_result",
          "data": {
            "text/html": [
              "<div>\n",
              "<style scoped>\n",
              "    .dataframe tbody tr th:only-of-type {\n",
              "        vertical-align: middle;\n",
              "    }\n",
              "\n",
              "    .dataframe tbody tr th {\n",
              "        vertical-align: top;\n",
              "    }\n",
              "\n",
              "    .dataframe thead th {\n",
              "        text-align: right;\n",
              "    }\n",
              "</style>\n",
              "<table border=\"1\" class=\"dataframe\">\n",
              "  <thead>\n",
              "    <tr style=\"text-align: right;\">\n",
              "      <th></th>\n",
              "      <th>overall_average_amount</th>\n",
              "    </tr>\n",
              "    <tr>\n",
              "      <th>customer_id</th>\n",
              "      <th></th>\n",
              "    </tr>\n",
              "  </thead>\n",
              "  <tbody>\n",
              "    <tr>\n",
              "      <th>51506836</th>\n",
              "      <td>100.839958</td>\n",
              "    </tr>\n",
              "    <tr>\n",
              "      <th>55310383</th>\n",
              "      <td>497.669474</td>\n",
              "    </tr>\n",
              "    <tr>\n",
              "      <th>72755508</th>\n",
              "      <td>197.213276</td>\n",
              "    </tr>\n",
              "    <tr>\n",
              "      <th>127297539</th>\n",
              "      <td>109.833216</td>\n",
              "    </tr>\n",
              "    <tr>\n",
              "      <th>134193016</th>\n",
              "      <td>226.721184</td>\n",
              "    </tr>\n",
              "  </tbody>\n",
              "</table>\n",
              "</div>"
            ],
            "text/plain": [
              "             overall_average_amount\n",
              "customer_id                        \n",
              "51506836                 100.839958\n",
              "55310383                 497.669474\n",
              "72755508                 197.213276\n",
              "127297539                109.833216\n",
              "134193016                226.721184"
            ]
          },
          "metadata": {
            "tags": []
          },
          "execution_count": 25
        }
      ]
    },
    {
      "cell_type": "markdown",
      "metadata": {
        "id": "UPtQetVYImJS",
        "colab_type": "text"
      },
      "source": [
        "**-------------------------------------------------------**"
      ]
    },
    {
      "cell_type": "markdown",
      "metadata": {
        "id": "vxGbZSTZJQu3",
        "colab_type": "text"
      },
      "source": [
        "**Average card present flag**"
      ]
    },
    {
      "cell_type": "code",
      "metadata": {
        "id": "8MWjSNQJIqUI",
        "colab_type": "code",
        "colab": {}
      },
      "source": [
        "overall_average_card = df.groupby('customer_id')['card_present_flag'].mean()"
      ],
      "execution_count": 0,
      "outputs": []
    },
    {
      "cell_type": "code",
      "metadata": {
        "id": "IgKneAQ4IqM6",
        "colab_type": "code",
        "outputId": "04297232-b8c2-40f4-e1b5-48a1eb05f330",
        "colab": {
          "base_uri": "https://localhost:8080/",
          "height": 280
        }
      },
      "source": [
        "overall_average_card = pd.DataFrame(overall_average_card)\n",
        "overall_average_card.columns = ['overall_average_card']\n",
        "overall_average_card.head()"
      ],
      "execution_count": 27,
      "outputs": [
        {
          "output_type": "execute_result",
          "data": {
            "text/html": [
              "<div>\n",
              "<style scoped>\n",
              "    .dataframe tbody tr th:only-of-type {\n",
              "        vertical-align: middle;\n",
              "    }\n",
              "\n",
              "    .dataframe tbody tr th {\n",
              "        vertical-align: top;\n",
              "    }\n",
              "\n",
              "    .dataframe thead th {\n",
              "        text-align: right;\n",
              "    }\n",
              "</style>\n",
              "<table border=\"1\" class=\"dataframe\">\n",
              "  <thead>\n",
              "    <tr style=\"text-align: right;\">\n",
              "      <th></th>\n",
              "      <th>overall_average_card</th>\n",
              "    </tr>\n",
              "    <tr>\n",
              "      <th>customer_id</th>\n",
              "      <th></th>\n",
              "    </tr>\n",
              "  </thead>\n",
              "  <tbody>\n",
              "    <tr>\n",
              "      <th>51506836</th>\n",
              "      <td>0.831683</td>\n",
              "    </tr>\n",
              "    <tr>\n",
              "      <th>55310383</th>\n",
              "      <td>0.735294</td>\n",
              "    </tr>\n",
              "    <tr>\n",
              "      <th>72755508</th>\n",
              "      <td>0.866667</td>\n",
              "    </tr>\n",
              "    <tr>\n",
              "      <th>127297539</th>\n",
              "      <td>0.824675</td>\n",
              "    </tr>\n",
              "    <tr>\n",
              "      <th>134193016</th>\n",
              "      <td>0.740741</td>\n",
              "    </tr>\n",
              "  </tbody>\n",
              "</table>\n",
              "</div>"
            ],
            "text/plain": [
              "             overall_average_card\n",
              "customer_id                      \n",
              "51506836                 0.831683\n",
              "55310383                 0.735294\n",
              "72755508                 0.866667\n",
              "127297539                0.824675\n",
              "134193016                0.740741"
            ]
          },
          "metadata": {
            "tags": []
          },
          "execution_count": 27
        }
      ]
    },
    {
      "cell_type": "markdown",
      "metadata": {
        "id": "9hik77D70-K0",
        "colab_type": "text"
      },
      "source": [
        "**-------------------------------------------------------**"
      ]
    },
    {
      "cell_type": "markdown",
      "metadata": {
        "id": "r5oPeYmUJj-O",
        "colab_type": "text"
      },
      "source": [
        "**Amount spent by each customer**"
      ]
    },
    {
      "cell_type": "code",
      "metadata": {
        "id": "hREnDqHs1CTV",
        "colab_type": "code",
        "colab": {}
      },
      "source": [
        "payment = df[(df['txn_description'] == 'POS') | (df['txn_description'] == 'SALES-POS')]"
      ],
      "execution_count": 0,
      "outputs": []
    },
    {
      "cell_type": "code",
      "metadata": {
        "id": "qxyMk0tM1COK",
        "colab_type": "code",
        "outputId": "947441f1-1a19-4bea-99b2-df3d0e38b6ed",
        "colab": {
          "base_uri": "https://localhost:8080/",
          "height": 622
        }
      },
      "source": [
        "payment.head()"
      ],
      "execution_count": 30,
      "outputs": [
        {
          "output_type": "execute_result",
          "data": {
            "text/html": [
              "<div>\n",
              "<style scoped>\n",
              "    .dataframe tbody tr th:only-of-type {\n",
              "        vertical-align: middle;\n",
              "    }\n",
              "\n",
              "    .dataframe tbody tr th {\n",
              "        vertical-align: top;\n",
              "    }\n",
              "\n",
              "    .dataframe thead th {\n",
              "        text-align: right;\n",
              "    }\n",
              "</style>\n",
              "<table border=\"1\" class=\"dataframe\">\n",
              "  <thead>\n",
              "    <tr style=\"text-align: right;\">\n",
              "      <th></th>\n",
              "      <th>status</th>\n",
              "      <th>card_present_flag</th>\n",
              "      <th>bpay_biller_code</th>\n",
              "      <th>account</th>\n",
              "      <th>currency</th>\n",
              "      <th>long_lat</th>\n",
              "      <th>txn_description</th>\n",
              "      <th>merchant_id</th>\n",
              "      <th>merchant_code</th>\n",
              "      <th>first_name</th>\n",
              "      <th>balance</th>\n",
              "      <th>gender</th>\n",
              "      <th>age</th>\n",
              "      <th>merchant_suburb</th>\n",
              "      <th>merchant_state</th>\n",
              "      <th>extraction</th>\n",
              "      <th>amount</th>\n",
              "      <th>transaction_id</th>\n",
              "      <th>country</th>\n",
              "      <th>customer_id</th>\n",
              "      <th>merchant_long_lat</th>\n",
              "      <th>movement</th>\n",
              "      <th>month</th>\n",
              "      <th>day</th>\n",
              "    </tr>\n",
              "  </thead>\n",
              "  <tbody>\n",
              "    <tr>\n",
              "      <th>0</th>\n",
              "      <td>authorized</td>\n",
              "      <td>1.0</td>\n",
              "      <td>NaN</td>\n",
              "      <td>ACC-1598451071</td>\n",
              "      <td>AUD</td>\n",
              "      <td>153.41 -27.95</td>\n",
              "      <td>POS</td>\n",
              "      <td>81c48296-73be-44a7-befa-d053f48ce7cd</td>\n",
              "      <td>NaN</td>\n",
              "      <td>Diana</td>\n",
              "      <td>35.39</td>\n",
              "      <td>0</td>\n",
              "      <td>26</td>\n",
              "      <td>Ashmore</td>\n",
              "      <td>QLD</td>\n",
              "      <td>2018-08-01T01:01:15.000+0000</td>\n",
              "      <td>16.25</td>\n",
              "      <td>a623070bfead4541a6b0fff8a09e706c</td>\n",
              "      <td>Australia</td>\n",
              "      <td>2487424745</td>\n",
              "      <td>153.38 -27.99</td>\n",
              "      <td>debit</td>\n",
              "      <td>8</td>\n",
              "      <td>1</td>\n",
              "    </tr>\n",
              "    <tr>\n",
              "      <th>1</th>\n",
              "      <td>authorized</td>\n",
              "      <td>0.0</td>\n",
              "      <td>NaN</td>\n",
              "      <td>ACC-1598451071</td>\n",
              "      <td>AUD</td>\n",
              "      <td>153.41 -27.95</td>\n",
              "      <td>SALES-POS</td>\n",
              "      <td>830a451c-316e-4a6a-bf25-e37caedca49e</td>\n",
              "      <td>NaN</td>\n",
              "      <td>Diana</td>\n",
              "      <td>21.20</td>\n",
              "      <td>0</td>\n",
              "      <td>26</td>\n",
              "      <td>Sydney</td>\n",
              "      <td>NSW</td>\n",
              "      <td>2018-08-01T01:13:45.000+0000</td>\n",
              "      <td>14.19</td>\n",
              "      <td>13270a2a902145da9db4c951e04b51b9</td>\n",
              "      <td>Australia</td>\n",
              "      <td>2487424745</td>\n",
              "      <td>151.21 -33.87</td>\n",
              "      <td>debit</td>\n",
              "      <td>8</td>\n",
              "      <td>1</td>\n",
              "    </tr>\n",
              "    <tr>\n",
              "      <th>2</th>\n",
              "      <td>authorized</td>\n",
              "      <td>1.0</td>\n",
              "      <td>NaN</td>\n",
              "      <td>ACC-1222300524</td>\n",
              "      <td>AUD</td>\n",
              "      <td>151.23 -33.94</td>\n",
              "      <td>POS</td>\n",
              "      <td>835c231d-8cdf-4e96-859d-e9d571760cf0</td>\n",
              "      <td>NaN</td>\n",
              "      <td>Michael</td>\n",
              "      <td>5.71</td>\n",
              "      <td>1</td>\n",
              "      <td>38</td>\n",
              "      <td>Sydney</td>\n",
              "      <td>NSW</td>\n",
              "      <td>2018-08-01T01:26:15.000+0000</td>\n",
              "      <td>6.42</td>\n",
              "      <td>feb79e7ecd7048a5a36ec889d1a94270</td>\n",
              "      <td>Australia</td>\n",
              "      <td>2142601169</td>\n",
              "      <td>151.21 -33.87</td>\n",
              "      <td>debit</td>\n",
              "      <td>8</td>\n",
              "      <td>1</td>\n",
              "    </tr>\n",
              "    <tr>\n",
              "      <th>3</th>\n",
              "      <td>authorized</td>\n",
              "      <td>1.0</td>\n",
              "      <td>NaN</td>\n",
              "      <td>ACC-1037050564</td>\n",
              "      <td>AUD</td>\n",
              "      <td>153.10 -27.66</td>\n",
              "      <td>SALES-POS</td>\n",
              "      <td>48514682-c78a-4a88-b0da-2d6302e64673</td>\n",
              "      <td>NaN</td>\n",
              "      <td>Rhonda</td>\n",
              "      <td>2117.22</td>\n",
              "      <td>0</td>\n",
              "      <td>40</td>\n",
              "      <td>Buderim</td>\n",
              "      <td>QLD</td>\n",
              "      <td>2018-08-01T01:38:45.000+0000</td>\n",
              "      <td>40.90</td>\n",
              "      <td>2698170da3704fd981b15e64a006079e</td>\n",
              "      <td>Australia</td>\n",
              "      <td>1614226872</td>\n",
              "      <td>153.05 -26.68</td>\n",
              "      <td>debit</td>\n",
              "      <td>8</td>\n",
              "      <td>1</td>\n",
              "    </tr>\n",
              "    <tr>\n",
              "      <th>4</th>\n",
              "      <td>authorized</td>\n",
              "      <td>1.0</td>\n",
              "      <td>NaN</td>\n",
              "      <td>ACC-1598451071</td>\n",
              "      <td>AUD</td>\n",
              "      <td>153.41 -27.95</td>\n",
              "      <td>SALES-POS</td>\n",
              "      <td>b4e02c10-0852-4273-b8fd-7b3395e32eb0</td>\n",
              "      <td>NaN</td>\n",
              "      <td>Diana</td>\n",
              "      <td>17.95</td>\n",
              "      <td>0</td>\n",
              "      <td>26</td>\n",
              "      <td>Mermaid Beach</td>\n",
              "      <td>QLD</td>\n",
              "      <td>2018-08-01T01:51:15.000+0000</td>\n",
              "      <td>3.25</td>\n",
              "      <td>329adf79878c4cf0aeb4188b4691c266</td>\n",
              "      <td>Australia</td>\n",
              "      <td>2487424745</td>\n",
              "      <td>153.44 -28.06</td>\n",
              "      <td>debit</td>\n",
              "      <td>8</td>\n",
              "      <td>1</td>\n",
              "    </tr>\n",
              "  </tbody>\n",
              "</table>\n",
              "</div>"
            ],
            "text/plain": [
              "       status  card_present_flag bpay_biller_code  ... movement month day\n",
              "0  authorized                1.0              NaN  ...    debit     8   1\n",
              "1  authorized                0.0              NaN  ...    debit     8   1\n",
              "2  authorized                1.0              NaN  ...    debit     8   1\n",
              "3  authorized                1.0              NaN  ...    debit     8   1\n",
              "4  authorized                1.0              NaN  ...    debit     8   1\n",
              "\n",
              "[5 rows x 24 columns]"
            ]
          },
          "metadata": {
            "tags": []
          },
          "execution_count": 30
        }
      ]
    },
    {
      "cell_type": "code",
      "metadata": {
        "id": "EYHPl8WZ1CI5",
        "colab_type": "code",
        "colab": {}
      },
      "source": [
        "amount_spent = payment.groupby('customer_id')['amount'].sum()"
      ],
      "execution_count": 0,
      "outputs": []
    },
    {
      "cell_type": "code",
      "metadata": {
        "id": "J9SmKfgT5TVN",
        "colab_type": "code",
        "outputId": "0ee8425e-a0af-4433-bda1-8feb1aa33041",
        "colab": {
          "base_uri": "https://localhost:8080/",
          "height": 280
        }
      },
      "source": [
        "amount_spent = pd.DataFrame(amount_spent)\n",
        "amount_spent.columns = ['amount_spent']\n",
        "amount_spent.head()"
      ],
      "execution_count": 30,
      "outputs": [
        {
          "output_type": "execute_result",
          "data": {
            "text/html": [
              "<div>\n",
              "<style scoped>\n",
              "    .dataframe tbody tr th:only-of-type {\n",
              "        vertical-align: middle;\n",
              "    }\n",
              "\n",
              "    .dataframe tbody tr th {\n",
              "        vertical-align: top;\n",
              "    }\n",
              "\n",
              "    .dataframe thead th {\n",
              "        text-align: right;\n",
              "    }\n",
              "</style>\n",
              "<table border=\"1\" class=\"dataframe\">\n",
              "  <thead>\n",
              "    <tr style=\"text-align: right;\">\n",
              "      <th></th>\n",
              "      <th>amount_spent</th>\n",
              "    </tr>\n",
              "    <tr>\n",
              "      <th>customer_id</th>\n",
              "      <th></th>\n",
              "    </tr>\n",
              "  </thead>\n",
              "  <tbody>\n",
              "    <tr>\n",
              "      <th>51506836</th>\n",
              "      <td>5719.77</td>\n",
              "    </tr>\n",
              "    <tr>\n",
              "      <th>55310383</th>\n",
              "      <td>2152.80</td>\n",
              "    </tr>\n",
              "    <tr>\n",
              "      <th>72755508</th>\n",
              "      <td>1554.53</td>\n",
              "    </tr>\n",
              "    <tr>\n",
              "      <th>127297539</th>\n",
              "      <td>4576.54</td>\n",
              "    </tr>\n",
              "    <tr>\n",
              "      <th>134193016</th>\n",
              "      <td>939.05</td>\n",
              "    </tr>\n",
              "  </tbody>\n",
              "</table>\n",
              "</div>"
            ],
            "text/plain": [
              "             amount_spent\n",
              "customer_id              \n",
              "51506836          5719.77\n",
              "55310383          2152.80\n",
              "72755508          1554.53\n",
              "127297539         4576.54\n",
              "134193016          939.05"
            ]
          },
          "metadata": {
            "tags": []
          },
          "execution_count": 30
        }
      ]
    },
    {
      "cell_type": "markdown",
      "metadata": {
        "id": "rYcCX0Ay5aEA",
        "colab_type": "text"
      },
      "source": [
        "**-------------------------------------------------------**"
      ]
    },
    {
      "cell_type": "markdown",
      "metadata": {
        "id": "wGNTHB7uJyq_",
        "colab_type": "text"
      },
      "source": [
        "**Annual savings of each customer**"
      ]
    },
    {
      "cell_type": "code",
      "metadata": {
        "id": "_sZYZTgS5TFv",
        "colab_type": "code",
        "colab": {}
      },
      "source": [
        "savings = annual_salary['annual_salary'] - amount_spent['amount_spent']"
      ],
      "execution_count": 0,
      "outputs": []
    },
    {
      "cell_type": "code",
      "metadata": {
        "id": "f_VVbNFw5S5O",
        "colab_type": "code",
        "outputId": "bcfcceff-34bf-4907-a4e6-44e14f75001b",
        "colab": {
          "base_uri": "https://localhost:8080/",
          "height": 280
        }
      },
      "source": [
        "savings = pd.DataFrame(savings)\n",
        "savings.columns = ['total_savings']\n",
        "savings.head()"
      ],
      "execution_count": 32,
      "outputs": [
        {
          "output_type": "execute_result",
          "data": {
            "text/html": [
              "<div>\n",
              "<style scoped>\n",
              "    .dataframe tbody tr th:only-of-type {\n",
              "        vertical-align: middle;\n",
              "    }\n",
              "\n",
              "    .dataframe tbody tr th {\n",
              "        vertical-align: top;\n",
              "    }\n",
              "\n",
              "    .dataframe thead th {\n",
              "        text-align: right;\n",
              "    }\n",
              "</style>\n",
              "<table border=\"1\" class=\"dataframe\">\n",
              "  <thead>\n",
              "    <tr style=\"text-align: right;\">\n",
              "      <th></th>\n",
              "      <th>total_savings</th>\n",
              "    </tr>\n",
              "    <tr>\n",
              "      <th>customer_id</th>\n",
              "      <th></th>\n",
              "    </tr>\n",
              "  </thead>\n",
              "  <tbody>\n",
              "    <tr>\n",
              "      <th>51506836</th>\n",
              "      <td>6329.21</td>\n",
              "    </tr>\n",
              "    <tr>\n",
              "      <th>55310383</th>\n",
              "      <td>19124.56</td>\n",
              "    </tr>\n",
              "    <tr>\n",
              "      <th>72755508</th>\n",
              "      <td>7149.31</td>\n",
              "    </tr>\n",
              "    <tr>\n",
              "      <th>127297539</th>\n",
              "      <td>10227.73</td>\n",
              "    </tr>\n",
              "    <tr>\n",
              "      <th>134193016</th>\n",
              "      <td>13226.71</td>\n",
              "    </tr>\n",
              "  </tbody>\n",
              "</table>\n",
              "</div>"
            ],
            "text/plain": [
              "             total_savings\n",
              "customer_id               \n",
              "51506836           6329.21\n",
              "55310383          19124.56\n",
              "72755508           7149.31\n",
              "127297539         10227.73\n",
              "134193016         13226.71"
            ]
          },
          "metadata": {
            "tags": []
          },
          "execution_count": 32
        }
      ]
    },
    {
      "cell_type": "markdown",
      "metadata": {
        "id": "hJNxT8449DKw",
        "colab_type": "text"
      },
      "source": [
        "**-------------------------------------------------------**"
      ]
    },
    {
      "cell_type": "markdown",
      "metadata": {
        "id": "La662lldKOdw",
        "colab_type": "text"
      },
      "source": [
        "**Highest amount transacted by each customer**"
      ]
    },
    {
      "cell_type": "code",
      "metadata": {
        "id": "m1mEbIEQ15JS",
        "colab_type": "code",
        "colab": {}
      },
      "source": [
        "high_amount = df.groupby('customer_id')['amount'].max()"
      ],
      "execution_count": 0,
      "outputs": []
    },
    {
      "cell_type": "code",
      "metadata": {
        "id": "9it1Z6BK15ER",
        "colab_type": "code",
        "colab": {
          "base_uri": "https://localhost:8080/",
          "height": 280
        },
        "outputId": "9e08c833-d4f5-4d4f-ed17-6bef352b3c4b"
      },
      "source": [
        "high_amount = pd.DataFrame(high_amount)\n",
        "high_amount.columns = ['highest_amount_transacted']\n",
        "high_amount.head()"
      ],
      "execution_count": 34,
      "outputs": [
        {
          "output_type": "execute_result",
          "data": {
            "text/html": [
              "<div>\n",
              "<style scoped>\n",
              "    .dataframe tbody tr th:only-of-type {\n",
              "        vertical-align: middle;\n",
              "    }\n",
              "\n",
              "    .dataframe tbody tr th {\n",
              "        vertical-align: top;\n",
              "    }\n",
              "\n",
              "    .dataframe thead th {\n",
              "        text-align: right;\n",
              "    }\n",
              "</style>\n",
              "<table border=\"1\" class=\"dataframe\">\n",
              "  <thead>\n",
              "    <tr style=\"text-align: right;\">\n",
              "      <th></th>\n",
              "      <th>highest_amount_transacted</th>\n",
              "    </tr>\n",
              "    <tr>\n",
              "      <th>customer_id</th>\n",
              "      <th></th>\n",
              "    </tr>\n",
              "  </thead>\n",
              "  <tbody>\n",
              "    <tr>\n",
              "      <th>51506836</th>\n",
              "      <td>6024.49</td>\n",
              "    </tr>\n",
              "    <tr>\n",
              "      <th>55310383</th>\n",
              "      <td>1852.00</td>\n",
              "    </tr>\n",
              "    <tr>\n",
              "      <th>72755508</th>\n",
              "      <td>1180.00</td>\n",
              "    </tr>\n",
              "    <tr>\n",
              "      <th>127297539</th>\n",
              "      <td>1138.79</td>\n",
              "    </tr>\n",
              "    <tr>\n",
              "      <th>134193016</th>\n",
              "      <td>2023.68</td>\n",
              "    </tr>\n",
              "  </tbody>\n",
              "</table>\n",
              "</div>"
            ],
            "text/plain": [
              "             highest_amount_transacted\n",
              "customer_id                           \n",
              "51506836                       6024.49\n",
              "55310383                       1852.00\n",
              "72755508                       1180.00\n",
              "127297539                      1138.79\n",
              "134193016                      2023.68"
            ]
          },
          "metadata": {
            "tags": []
          },
          "execution_count": 34
        }
      ]
    },
    {
      "cell_type": "markdown",
      "metadata": {
        "id": "uO3cL8pXkqpX",
        "colab_type": "text"
      },
      "source": [
        "# **Merging everything**"
      ]
    },
    {
      "cell_type": "code",
      "metadata": {
        "id": "xzg6z9o8dX50",
        "colab_type": "code",
        "colab": {}
      },
      "source": [
        "attributes_merged = pd.concat([annual_salary,credit_df,debit_df,overall_average_balance,overall_average_amount,overall_average_card,amount_spent,savings,high_amount],axis=1)"
      ],
      "execution_count": 0,
      "outputs": []
    },
    {
      "cell_type": "code",
      "metadata": {
        "id": "nmcYYyTadX20",
        "colab_type": "code",
        "outputId": "16f45ac5-c585-4bc0-dbab-22fb528854b2",
        "colab": {
          "base_uri": "https://localhost:8080/",
          "height": 300
        }
      },
      "source": [
        "attributes_merged.head()"
      ],
      "execution_count": 44,
      "outputs": [
        {
          "output_type": "execute_result",
          "data": {
            "text/html": [
              "<div>\n",
              "<style scoped>\n",
              "    .dataframe tbody tr th:only-of-type {\n",
              "        vertical-align: middle;\n",
              "    }\n",
              "\n",
              "    .dataframe tbody tr th {\n",
              "        vertical-align: top;\n",
              "    }\n",
              "\n",
              "    .dataframe thead th {\n",
              "        text-align: right;\n",
              "    }\n",
              "</style>\n",
              "<table border=\"1\" class=\"dataframe\">\n",
              "  <thead>\n",
              "    <tr style=\"text-align: right;\">\n",
              "      <th></th>\n",
              "      <th>annual_salary</th>\n",
              "      <th>credit_transactions</th>\n",
              "      <th>debit_transactions</th>\n",
              "      <th>overall_average_balance</th>\n",
              "      <th>overall_average_amount</th>\n",
              "      <th>overall_average_card</th>\n",
              "      <th>amount_spent</th>\n",
              "      <th>total_savings</th>\n",
              "      <th>highest_amount_transacted</th>\n",
              "    </tr>\n",
              "    <tr>\n",
              "      <th>customer_id</th>\n",
              "      <th></th>\n",
              "      <th></th>\n",
              "      <th></th>\n",
              "      <th></th>\n",
              "      <th></th>\n",
              "      <th></th>\n",
              "      <th></th>\n",
              "      <th></th>\n",
              "      <th></th>\n",
              "    </tr>\n",
              "  </thead>\n",
              "  <tbody>\n",
              "    <tr>\n",
              "      <th>51506836</th>\n",
              "      <td>12048.98</td>\n",
              "      <td>2</td>\n",
              "      <td>237</td>\n",
              "      <td>16385.831632</td>\n",
              "      <td>100.839958</td>\n",
              "      <td>0.831683</td>\n",
              "      <td>5719.77</td>\n",
              "      <td>6329.21</td>\n",
              "      <td>6024.49</td>\n",
              "    </tr>\n",
              "    <tr>\n",
              "      <th>55310383</th>\n",
              "      <td>21277.36</td>\n",
              "      <td>13</td>\n",
              "      <td>44</td>\n",
              "      <td>7031.470175</td>\n",
              "      <td>497.669474</td>\n",
              "      <td>0.735294</td>\n",
              "      <td>2152.80</td>\n",
              "      <td>19124.56</td>\n",
              "      <td>1852.00</td>\n",
              "    </tr>\n",
              "    <tr>\n",
              "      <th>72755508</th>\n",
              "      <td>8703.84</td>\n",
              "      <td>12</td>\n",
              "      <td>46</td>\n",
              "      <td>4497.557069</td>\n",
              "      <td>197.213276</td>\n",
              "      <td>0.866667</td>\n",
              "      <td>1554.53</td>\n",
              "      <td>7149.31</td>\n",
              "      <td>1180.00</td>\n",
              "    </tr>\n",
              "    <tr>\n",
              "      <th>127297539</th>\n",
              "      <td>14804.27</td>\n",
              "      <td>13</td>\n",
              "      <td>186</td>\n",
              "      <td>5448.334573</td>\n",
              "      <td>109.833216</td>\n",
              "      <td>0.824675</td>\n",
              "      <td>4576.54</td>\n",
              "      <td>10227.73</td>\n",
              "      <td>1138.79</td>\n",
              "    </tr>\n",
              "    <tr>\n",
              "      <th>134193016</th>\n",
              "      <td>14165.76</td>\n",
              "      <td>7</td>\n",
              "      <td>69</td>\n",
              "      <td>5553.929474</td>\n",
              "      <td>226.721184</td>\n",
              "      <td>0.740741</td>\n",
              "      <td>939.05</td>\n",
              "      <td>13226.71</td>\n",
              "      <td>2023.68</td>\n",
              "    </tr>\n",
              "  </tbody>\n",
              "</table>\n",
              "</div>"
            ],
            "text/plain": [
              "             annual_salary  ...  highest_amount_transacted\n",
              "customer_id                 ...                           \n",
              "51506836          12048.98  ...                    6024.49\n",
              "55310383          21277.36  ...                    1852.00\n",
              "72755508           8703.84  ...                    1180.00\n",
              "127297539         14804.27  ...                    1138.79\n",
              "134193016         14165.76  ...                    2023.68\n",
              "\n",
              "[5 rows x 9 columns]"
            ]
          },
          "metadata": {
            "tags": []
          },
          "execution_count": 44
        }
      ]
    },
    {
      "cell_type": "code",
      "metadata": {
        "id": "a4YnMMR6U9OY",
        "colab_type": "code",
        "outputId": "c4829c27-e5c0-4a81-c81f-35c81fed4e68",
        "colab": {
          "base_uri": "https://localhost:8080/",
          "height": 41
        }
      },
      "source": [
        "attributes_merged.shape"
      ],
      "execution_count": 45,
      "outputs": [
        {
          "output_type": "execute_result",
          "data": {
            "text/plain": [
              "(100, 9)"
            ]
          },
          "metadata": {
            "tags": []
          },
          "execution_count": 45
        }
      ]
    },
    {
      "cell_type": "code",
      "metadata": {
        "id": "7MkWfI33lEIN",
        "colab_type": "code",
        "colab": {}
      },
      "source": [
        "df_new = pd.merge(left = salary_drop,right = attributes_merged,on='customer_id')"
      ],
      "execution_count": 0,
      "outputs": []
    },
    {
      "cell_type": "code",
      "metadata": {
        "id": "FVOnJUvSlkhw",
        "colab_type": "code",
        "outputId": "7be608a1-456d-4c6f-fd05-eab9010df583",
        "colab": {
          "base_uri": "https://localhost:8080/",
          "height": 262
        }
      },
      "source": [
        "df_new.head()"
      ],
      "execution_count": 66,
      "outputs": [
        {
          "output_type": "execute_result",
          "data": {
            "text/html": [
              "<div>\n",
              "<style scoped>\n",
              "    .dataframe tbody tr th:only-of-type {\n",
              "        vertical-align: middle;\n",
              "    }\n",
              "\n",
              "    .dataframe tbody tr th {\n",
              "        vertical-align: top;\n",
              "    }\n",
              "\n",
              "    .dataframe thead th {\n",
              "        text-align: right;\n",
              "    }\n",
              "</style>\n",
              "<table border=\"1\" class=\"dataframe\">\n",
              "  <thead>\n",
              "    <tr style=\"text-align: right;\">\n",
              "      <th></th>\n",
              "      <th>balance</th>\n",
              "      <th>gender</th>\n",
              "      <th>age</th>\n",
              "      <th>amount</th>\n",
              "      <th>customer_id</th>\n",
              "      <th>month</th>\n",
              "      <th>day</th>\n",
              "      <th>annual_salary</th>\n",
              "      <th>credit_transactions</th>\n",
              "      <th>debit_transactions</th>\n",
              "      <th>overall_average_balance</th>\n",
              "      <th>overall_average_amount</th>\n",
              "      <th>overall_average_card</th>\n",
              "      <th>amount_spent</th>\n",
              "      <th>total_savings</th>\n",
              "      <th>highest_amount_transacted</th>\n",
              "    </tr>\n",
              "  </thead>\n",
              "  <tbody>\n",
              "    <tr>\n",
              "      <th>0</th>\n",
              "      <td>8342.11</td>\n",
              "      <td>1</td>\n",
              "      <td>23</td>\n",
              "      <td>3903.95</td>\n",
              "      <td>1462656821</td>\n",
              "      <td>8</td>\n",
              "      <td>1</td>\n",
              "      <td>27327.65</td>\n",
              "      <td>7</td>\n",
              "      <td>109</td>\n",
              "      <td>13368.370517</td>\n",
              "      <td>297.510345</td>\n",
              "      <td>0.828125</td>\n",
              "      <td>3215.55</td>\n",
              "      <td>24112.1</td>\n",
              "      <td>3903.95</td>\n",
              "    </tr>\n",
              "    <tr>\n",
              "      <th>1</th>\n",
              "      <td>10724.87</td>\n",
              "      <td>1</td>\n",
              "      <td>23</td>\n",
              "      <td>3903.95</td>\n",
              "      <td>1462656821</td>\n",
              "      <td>8</td>\n",
              "      <td>15</td>\n",
              "      <td>27327.65</td>\n",
              "      <td>7</td>\n",
              "      <td>109</td>\n",
              "      <td>13368.370517</td>\n",
              "      <td>297.510345</td>\n",
              "      <td>0.828125</td>\n",
              "      <td>3215.55</td>\n",
              "      <td>24112.1</td>\n",
              "      <td>3903.95</td>\n",
              "    </tr>\n",
              "    <tr>\n",
              "      <th>2</th>\n",
              "      <td>13030.74</td>\n",
              "      <td>1</td>\n",
              "      <td>23</td>\n",
              "      <td>3903.95</td>\n",
              "      <td>1462656821</td>\n",
              "      <td>8</td>\n",
              "      <td>29</td>\n",
              "      <td>27327.65</td>\n",
              "      <td>7</td>\n",
              "      <td>109</td>\n",
              "      <td>13368.370517</td>\n",
              "      <td>297.510345</td>\n",
              "      <td>0.828125</td>\n",
              "      <td>3215.55</td>\n",
              "      <td>24112.1</td>\n",
              "      <td>3903.95</td>\n",
              "    </tr>\n",
              "    <tr>\n",
              "      <th>3</th>\n",
              "      <td>15523.69</td>\n",
              "      <td>1</td>\n",
              "      <td>23</td>\n",
              "      <td>3903.95</td>\n",
              "      <td>1462656821</td>\n",
              "      <td>9</td>\n",
              "      <td>12</td>\n",
              "      <td>27327.65</td>\n",
              "      <td>7</td>\n",
              "      <td>109</td>\n",
              "      <td>13368.370517</td>\n",
              "      <td>297.510345</td>\n",
              "      <td>0.828125</td>\n",
              "      <td>3215.55</td>\n",
              "      <td>24112.1</td>\n",
              "      <td>3903.95</td>\n",
              "    </tr>\n",
              "    <tr>\n",
              "      <th>4</th>\n",
              "      <td>17906.31</td>\n",
              "      <td>1</td>\n",
              "      <td>23</td>\n",
              "      <td>3903.95</td>\n",
              "      <td>1462656821</td>\n",
              "      <td>9</td>\n",
              "      <td>26</td>\n",
              "      <td>27327.65</td>\n",
              "      <td>7</td>\n",
              "      <td>109</td>\n",
              "      <td>13368.370517</td>\n",
              "      <td>297.510345</td>\n",
              "      <td>0.828125</td>\n",
              "      <td>3215.55</td>\n",
              "      <td>24112.1</td>\n",
              "      <td>3903.95</td>\n",
              "    </tr>\n",
              "  </tbody>\n",
              "</table>\n",
              "</div>"
            ],
            "text/plain": [
              "    balance  gender  ...  total_savings  highest_amount_transacted\n",
              "0   8342.11       1  ...        24112.1                    3903.95\n",
              "1  10724.87       1  ...        24112.1                    3903.95\n",
              "2  13030.74       1  ...        24112.1                    3903.95\n",
              "3  15523.69       1  ...        24112.1                    3903.95\n",
              "4  17906.31       1  ...        24112.1                    3903.95\n",
              "\n",
              "[5 rows x 16 columns]"
            ]
          },
          "metadata": {
            "tags": []
          },
          "execution_count": 66
        }
      ]
    },
    {
      "cell_type": "code",
      "metadata": {
        "id": "Epe0ZZ8-tsx9",
        "colab_type": "code",
        "outputId": "886df5a6-4340-4d6d-d103-d77b2d2236c3",
        "colab": {
          "base_uri": "https://localhost:8080/",
          "height": 738
        }
      },
      "source": [
        "correlation=df_new.corr()\n",
        "plt.figure(figsize=(10, 10))\n",
        "sns.heatmap(correlation[(correlation >= 0.5) | (correlation <= -0.5)],\n",
        "            annot=True,linewidths=.1,linecolor=\"blue\",vmax = 1, vmin = -1)\n",
        "plt.title('Correlation between features', fontsize=15)\n",
        "plt.yticks(rotation=0)\n",
        "plt.show()"
      ],
      "execution_count": 47,
      "outputs": [
        {
          "output_type": "display_data",
          "data": {
            "image/png": "[encoded data removed]",
            "text/plain": [
              "<Figure size 720x720 with 2 Axes>"
            ]
          },
          "metadata": {
            "tags": [],
            "needs_background": "light"
          }
        }
      ]
    },
    {
      "cell_type": "markdown",
      "metadata": {
        "id": "5UnltPOJLvqN",
        "colab_type": "text"
      },
      "source": [
        "From the above chart we see that balance is highly correlated with overall_average_balance and amount column is correlated with majority of the columns hence we can remove amount and balance."
      ]
    },
    {
      "cell_type": "markdown",
      "metadata": {
        "id": "s-A7fZQ5cPu3",
        "colab_type": "text"
      },
      "source": [
        "The annual_salary column is correlated with the total_savings, highest_amount_transacted and amount columns."
      ]
    },
    {
      "cell_type": "markdown",
      "metadata": {
        "id": "4cah4_r5WUta",
        "colab_type": "text"
      },
      "source": [
        "# **Visualizing the correlation**"
      ]
    },
    {
      "cell_type": "code",
      "metadata": {
        "id": "RTvexcfw_kQt",
        "colab_type": "code",
        "colab": {
          "base_uri": "https://localhost:8080/",
          "height": 305
        },
        "outputId": "71735eee-2c0d-4334-e828-a1c583851f80"
      },
      "source": [
        "df_new.plot.scatter(x='annual_salary',y='age')\n",
        "plt.figure(figsize=(20, 20))\n",
        "plt.show()"
      ],
      "execution_count": 62,
      "outputs": [
        {
          "output_type": "display_data",
          "data": {
            "image/png": "[encoded data removed]",
            "text/plain": [
              "<Figure size 432x288 with 1 Axes>"
            ]
          },
          "metadata": {
            "tags": [],
            "needs_background": "light"
          }
        },
        {
          "output_type": "display_data",
          "data": {
            "text/plain": [
              "<Figure size 1440x1440 with 0 Axes>"
            ]
          },
          "metadata": {
            "tags": []
          }
        }
      ]
    },
    {
      "cell_type": "code",
      "metadata": {
        "id": "Jk5facG8bDo_",
        "colab_type": "code",
        "colab": {
          "base_uri": "https://localhost:8080/",
          "height": 304
        },
        "outputId": "47162650-fe32-4df6-8a60-c9789b7b4c80"
      },
      "source": [
        "df_new.plot.scatter(x='annual_salary',y='amount')\n",
        "plt.figure(figsize=(20, 20))\n",
        "plt.show()"
      ],
      "execution_count": 37,
      "outputs": [
        {
          "output_type": "display_data",
          "data": {
            "image/png": "[encoded data removed]",
            "text/plain": [
              "<Figure size 432x288 with 1 Axes>"
            ]
          },
          "metadata": {
            "tags": [],
            "needs_background": "light"
          }
        },
        {
          "output_type": "display_data",
          "data": {
            "text/plain": [
              "<Figure size 1440x1440 with 0 Axes>"
            ]
          },
          "metadata": {
            "tags": []
          }
        }
      ]
    },
    {
      "cell_type": "code",
      "metadata": {
        "id": "8HuoGiGyTScj",
        "colab_type": "code",
        "colab": {
          "base_uri": "https://localhost:8080/",
          "height": 281
        },
        "outputId": "f4787af9-7b74-429c-f1ae-1e648602a396"
      },
      "source": [
        "df_new.plot.scatter(x='annual_salary',y='total_savings')\n",
        "plt.show()"
      ],
      "execution_count": 57,
      "outputs": [
        {
          "output_type": "display_data",
          "data": {
            "image/png": "[encoded data removed]",
            "text/plain": [
              "<Figure size 432x288 with 1 Axes>"
            ]
          },
          "metadata": {
            "tags": [],
            "needs_background": "light"
          }
        }
      ]
    },
    {
      "cell_type": "code",
      "metadata": {
        "id": "XCwuFyQlWPif",
        "colab_type": "code",
        "colab": {
          "base_uri": "https://localhost:8080/",
          "height": 280
        },
        "outputId": "c3c58e47-fc5b-438f-83ea-ca6456c1e5c0"
      },
      "source": [
        "df_new.plot.scatter(x='annual_salary',y='day')\n",
        "plt.show()"
      ],
      "execution_count": 58,
      "outputs": [
        {
          "output_type": "display_data",
          "data": {
            "image/png": "[encoded data removed]",
            "text/plain": [
              "<Figure size 432x288 with 1 Axes>"
            ]
          },
          "metadata": {
            "tags": [],
            "needs_background": "light"
          }
        }
      ]
    },
    {
      "cell_type": "code",
      "metadata": {
        "id": "JsIVtt7RXQ2h",
        "colab_type": "code",
        "colab": {
          "base_uri": "https://localhost:8080/",
          "height": 280
        },
        "outputId": "b52c7eb3-27a9-4136-f7d5-1fb9f50c48e2"
      },
      "source": [
        "df_new.plot.scatter(x='annual_salary',y='credit_transactions')\n",
        "plt.show()"
      ],
      "execution_count": 63,
      "outputs": [
        {
          "output_type": "display_data",
          "data": {
            "image/png": "[encoded data removed]",
            "text/plain": [
              "<Figure size 432x288 with 1 Axes>"
            ]
          },
          "metadata": {
            "tags": [],
            "needs_background": "light"
          }
        }
      ]
    },
    {
      "cell_type": "code",
      "metadata": {
        "id": "Hnc3ytOJXQvf",
        "colab_type": "code",
        "colab": {
          "base_uri": "https://localhost:8080/",
          "height": 280
        },
        "outputId": "252550a9-f774-4089-bb9a-e44294742ef1"
      },
      "source": [
        "df_new.plot.scatter(x='annual_salary',y='debit_transactions')\n",
        "plt.show()"
      ],
      "execution_count": 64,
      "outputs": [
        {
          "output_type": "display_data",
          "data": {
            "image/png": "[encoded data removed]",
            "text/plain": [
              "<Figure size 432x288 with 1 Axes>"
            ]
          },
          "metadata": {
            "tags": [],
            "needs_background": "light"
          }
        }
      ]
    },
    {
      "cell_type": "code",
      "metadata": {
        "id": "idTLNoVcXomS",
        "colab_type": "code",
        "colab": {
          "base_uri": "https://localhost:8080/",
          "height": 280
        },
        "outputId": "97766b00-0702-4057-ec1c-2263cc1527a0"
      },
      "source": [
        "df_new.plot.scatter(x='annual_salary',y='overall_average_balance')\n",
        "plt.show()"
      ],
      "execution_count": 65,
      "outputs": [
        {
          "output_type": "display_data",
          "data": {
            "image/png": "[encoded data removed]",
            "text/plain": [
              "<Figure size 432x288 with 1 Axes>"
            ]
          },
          "metadata": {
            "tags": [],
            "needs_background": "light"
          }
        }
      ]
    },
    {
      "cell_type": "code",
      "metadata": {
        "id": "4Q1Te45mYA76",
        "colab_type": "code",
        "colab": {
          "base_uri": "https://localhost:8080/",
          "height": 280
        },
        "outputId": "70ffbf4f-b564-413e-fb8e-0e6b158e5cff"
      },
      "source": [
        "df_new.plot.scatter(x='annual_salary',y='overall_average_amount')\n",
        "plt.show()"
      ],
      "execution_count": 68,
      "outputs": [
        {
          "output_type": "display_data",
          "data": {
            "image/png": "[encoded data removed]",
            "text/plain": [
              "<Figure size 432x288 with 1 Axes>"
            ]
          },
          "metadata": {
            "tags": [],
            "needs_background": "light"
          }
        }
      ]
    },
    {
      "cell_type": "code",
      "metadata": {
        "id": "t2297xPjXnHk",
        "colab_type": "code",
        "colab": {
          "base_uri": "https://localhost:8080/",
          "height": 280
        },
        "outputId": "96d5e848-1d0c-40d3-f9ee-776fa5e55728"
      },
      "source": [
        "df_new.plot.scatter(x='annual_salary',y='amount_spent')\n",
        "plt.show()"
      ],
      "execution_count": 67,
      "outputs": [
        {
          "output_type": "display_data",
          "data": {
            "image/png": "[encoded data removed]",
            "text/plain": [
              "<Figure size 432x288 with 1 Axes>"
            ]
          },
          "metadata": {
            "tags": [],
            "needs_background": "light"
          }
        }
      ]
    },
    {
      "cell_type": "code",
      "metadata": {
        "id": "EWTwveyRandr",
        "colab_type": "code",
        "colab": {
          "base_uri": "https://localhost:8080/",
          "height": 280
        },
        "outputId": "e8ffc3c7-0770-4a0d-e035-4d962507a9c0"
      },
      "source": [
        "df_new.plot.scatter(x='annual_salary',y='highest_amount_transacted')\n",
        "plt.show()"
      ],
      "execution_count": 69,
      "outputs": [
        {
          "output_type": "display_data",
          "data": {
            "image/png": "[encoded data removed]",
            "text/plain": [
              "<Figure size 432x288 with 1 Axes>"
            ]
          },
          "metadata": {
            "tags": [],
            "needs_background": "light"
          }
        }
      ]
    },
    {
      "cell_type": "markdown",
      "metadata": {
        "id": "DJZI_VKqMcDX",
        "colab_type": "text"
      },
      "source": [
        "# **Spliting into test and train**"
      ]
    },
    {
      "cell_type": "code",
      "metadata": {
        "id": "lX9LvxnttoNA",
        "colab_type": "code",
        "colab": {}
      },
      "source": [
        "target = df_new['annual_salary']\n",
        "df_new_drop = df_new.drop(['annual_salary','balance','amount'],axis = 1)"
      ],
      "execution_count": 0,
      "outputs": []
    },
    {
      "cell_type": "code",
      "metadata": {
        "id": "lcZ_NGYIMG2c",
        "colab_type": "code",
        "colab": {
          "base_uri": "https://localhost:8080/",
          "height": 738
        },
        "outputId": "77a4740b-26c6-467c-b256-184608ec4060"
      },
      "source": [
        "correlation=df_new_drop.corr()\n",
        "plt.figure(figsize=(10, 10))\n",
        "sns.heatmap(correlation[(correlation >= 0.5) | (correlation <= -0.5)],\n",
        "            annot=True,linewidths=.1,linecolor=\"blue\",vmax = 1, vmin = -1)\n",
        "plt.title('Correlation between features', fontsize=15)\n",
        "plt.yticks(rotation=0)\n",
        "plt.show()"
      ],
      "execution_count": 49,
      "outputs": [
        {
          "output_type": "display_data",
          "data": {
            "image/png": "[encoded data removed]",
            "text/plain": [
              "<Figure size 720x720 with 2 Axes>"
            ]
          },
          "metadata": {
            "tags": [],
            "needs_background": "light"
          }
        }
      ]
    },
    {
      "cell_type": "markdown",
      "metadata": {
        "id": "ahc0okwiMW_U",
        "colab_type": "text"
      },
      "source": [
        "After removing balance and amount column we get columns that are still correlated with other columns. But their correlation value is less hence we can keep those"
      ]
    },
    {
      "cell_type": "code",
      "metadata": {
        "id": "v8AT3y_psGpD",
        "colab_type": "code",
        "outputId": "214f1238-77ec-4dd7-c4ba-a3a19a6bb04d",
        "colab": {
          "base_uri": "https://localhost:8080/",
          "height": 113
        }
      },
      "source": [
        "from sklearn.model_selection import train_test_split\n",
        "x_train1,x_test1, y_train1, y_test1 = train_test_split(df_new_drop, target, test_size = 0.30, random_state=0)\n",
        "print(\"x_train \",x_train1.shape)\n",
        "print(\"x_test \",x_test1.shape)\n",
        "print(\"y_train \",y_train1.shape)\n",
        "print(\"y_test \",y_test1.shape)"
      ],
      "execution_count": 50,
      "outputs": [
        {
          "output_type": "stream",
          "text": [
            "x_train  (618, 13)\n",
            "x_test  (265, 13)\n",
            "y_train  (618,)\n",
            "y_test  (265,)\n"
          ],
          "name": "stdout"
        }
      ]
    },
    {
      "cell_type": "markdown",
      "metadata": {
        "id": "CzkJzfMBM1X7",
        "colab_type": "text"
      },
      "source": [
        "# **Linear Regression**"
      ]
    },
    {
      "cell_type": "code",
      "metadata": {
        "id": "N9V2ehbGsGkY",
        "colab_type": "code",
        "outputId": "f7102c10-3a84-46cf-dc2f-3ee767eef733",
        "colab": {
          "base_uri": "https://localhost:8080/",
          "height": 873
        }
      },
      "source": [
        "# Lets build Linear Regression model using statsmodel\n",
        "import statsmodels.api as sm\n",
        "\n",
        "# Building Linear Regression model using OLS (Ordinary Least Squares)\n",
        "model1 = sm.OLS(y_train1, x_train1).fit()\n",
        "# Note the Swap of X and Y \n",
        "# Printing Linear Regression Summary\n",
        "model1.summary()"
      ],
      "execution_count": 225,
      "outputs": [
        {
          "output_type": "execute_result",
          "data": {
            "text/html": [
              "<table class=\"simpletable\">\n",
              "<caption>OLS Regression Results</caption>\n",
              "<tr>\n",
              "  <th>Dep. Variable:</th>      <td>annual_salary</td>  <th>  R-squared (uncentered):</th>       <td>   1.000</td> \n",
              "</tr>\n",
              "<tr>\n",
              "  <th>Model:</th>                   <td>OLS</td>       <th>  Adj. R-squared (uncentered):</th>  <td>   1.000</td> \n",
              "</tr>\n",
              "<tr>\n",
              "  <th>Method:</th>             <td>Least Squares</td>  <th>  F-statistic:       </th>           <td>3.019e+23</td>\n",
              "</tr>\n",
              "<tr>\n",
              "  <th>Date:</th>             <td>Tue, 05 May 2020</td> <th>  Prob (F-statistic):</th>            <td>  0.00</td>  \n",
              "</tr>\n",
              "<tr>\n",
              "  <th>Time:</th>                 <td>09:37:45</td>     <th>  Log-Likelihood:    </th>           <td>  8582.1</td> \n",
              "</tr>\n",
              "<tr>\n",
              "  <th>No. Observations:</th>      <td>   618</td>      <th>  AIC:               </th>          <td>-1.714e+04</td>\n",
              "</tr>\n",
              "<tr>\n",
              "  <th>Df Residuals:</th>          <td>   605</td>      <th>  BIC:               </th>          <td>-1.708e+04</td>\n",
              "</tr>\n",
              "<tr>\n",
              "  <th>Df Model:</th>              <td>    13</td>      <th>                     </th>               <td> </td>    \n",
              "</tr>\n",
              "<tr>\n",
              "  <th>Covariance Type:</th>      <td>nonrobust</td>    <th>                     </th>               <td> </td>    \n",
              "</tr>\n",
              "</table>\n",
              "<table class=\"simpletable\">\n",
              "<tr>\n",
              "              <td></td>                 <th>coef</th>     <th>std err</th>      <th>t</th>      <th>P>|t|</th>  <th>[0.025</th>    <th>0.975]</th>  \n",
              "</tr>\n",
              "<tr>\n",
              "  <th>gender</th>                    <td> 1.137e-12</td> <td> 1.93e-08</td> <td> 5.89e-05</td> <td> 1.000</td> <td>-3.79e-08</td> <td> 3.79e-08</td>\n",
              "</tr>\n",
              "<tr>\n",
              "  <th>age</th>                       <td> 1.887e-13</td> <td> 7.98e-10</td> <td>    0.000</td> <td> 1.000</td> <td>-1.57e-09</td> <td> 1.57e-09</td>\n",
              "</tr>\n",
              "<tr>\n",
              "  <th>customer_id</th>               <td>-9.949e-17</td> <td> 8.33e-18</td> <td>  -11.945</td> <td> 0.000</td> <td>-1.16e-16</td> <td>-8.31e-17</td>\n",
              "</tr>\n",
              "<tr>\n",
              "  <th>month</th>                     <td>-1.686e-12</td> <td> 8.78e-09</td> <td>   -0.000</td> <td> 1.000</td> <td>-1.72e-08</td> <td> 1.72e-08</td>\n",
              "</tr>\n",
              "<tr>\n",
              "  <th>day</th>                       <td>  7.55e-14</td> <td> 1.04e-09</td> <td> 7.27e-05</td> <td> 1.000</td> <td>-2.04e-09</td> <td> 2.04e-09</td>\n",
              "</tr>\n",
              "<tr>\n",
              "  <th>credit_transactions</th>       <td>  6.04e-14</td> <td> 3.71e-09</td> <td> 1.63e-05</td> <td> 1.000</td> <td>-7.29e-09</td> <td> 7.29e-09</td>\n",
              "</tr>\n",
              "<tr>\n",
              "  <th>debit_transactions</th>        <td> 8.216e-15</td> <td> 2.13e-10</td> <td> 3.85e-05</td> <td> 1.000</td> <td>-4.19e-10</td> <td> 4.19e-10</td>\n",
              "</tr>\n",
              "<tr>\n",
              "  <th>overall_average_balance</th>   <td>  3.71e-16</td> <td> 3.39e-13</td> <td>    0.001</td> <td> 0.999</td> <td>-6.66e-13</td> <td> 6.67e-13</td>\n",
              "</tr>\n",
              "<tr>\n",
              "  <th>overall_average_amount</th>    <td> 7.494e-15</td> <td> 1.26e-10</td> <td> 5.94e-05</td> <td> 1.000</td> <td>-2.48e-10</td> <td> 2.48e-10</td>\n",
              "</tr>\n",
              "<tr>\n",
              "  <th>overall_average_card</th>      <td> 3.212e-12</td> <td>    1e-07</td> <td>  3.2e-05</td> <td> 1.000</td> <td>-1.97e-07</td> <td> 1.97e-07</td>\n",
              "</tr>\n",
              "<tr>\n",
              "  <th>amount_sent</th>               <td>    1.0000</td> <td> 9.07e-12</td> <td>  1.1e+11</td> <td> 0.000</td> <td>    1.000</td> <td>    1.000</td>\n",
              "</tr>\n",
              "<tr>\n",
              "  <th>total_savings</th>             <td>    1.0000</td> <td> 2.16e-12</td> <td> 4.63e+11</td> <td> 0.000</td> <td>    1.000</td> <td>    1.000</td>\n",
              "</tr>\n",
              "<tr>\n",
              "  <th>highest_amount_transacted</th> <td>-1.048e-15</td> <td>  1.3e-11</td> <td>-8.05e-05</td> <td> 1.000</td> <td>-2.56e-11</td> <td> 2.56e-11</td>\n",
              "</tr>\n",
              "</table>\n",
              "<table class=\"simpletable\">\n",
              "<tr>\n",
              "  <th>Omnibus:</th>       <td>149.225</td> <th>  Durbin-Watson:     </th> <td>   0.492</td>\n",
              "</tr>\n",
              "<tr>\n",
              "  <th>Prob(Omnibus):</th> <td> 0.000</td>  <th>  Jarque-Bera (JB):  </th> <td>  27.677</td>\n",
              "</tr>\n",
              "<tr>\n",
              "  <th>Skew:</th>          <td>-0.051</td>  <th>  Prob(JB):          </th> <td>9.77e-07</td>\n",
              "</tr>\n",
              "<tr>\n",
              "  <th>Kurtosis:</th>      <td> 1.968</td>  <th>  Cond. No.          </th> <td>2.49e+10</td>\n",
              "</tr>\n",
              "</table><br/><br/>Warnings:<br/>[1] Standard Errors assume that the covariance matrix of the errors is correctly specified.<br/>[2] The condition number is large, 2.49e+10. This might indicate that there are<br/>strong multicollinearity or other numerical problems."
            ],
            "text/plain": [
              "<class 'statsmodels.iolib.summary.Summary'>\n",
              "\"\"\"\n",
              "                                 OLS Regression Results                                \n",
              "=======================================================================================\n",
              "Dep. Variable:          annual_salary   R-squared (uncentered):                   1.000\n",
              "Model:                            OLS   Adj. R-squared (uncentered):              1.000\n",
              "Method:                 Least Squares   F-statistic:                          3.019e+23\n",
              "Date:                Tue, 05 May 2020   Prob (F-statistic):                        0.00\n",
              "Time:                        09:37:45   Log-Likelihood:                          8582.1\n",
              "No. Observations:                 618   AIC:                                 -1.714e+04\n",
              "Df Residuals:                     605   BIC:                                 -1.708e+04\n",
              "Df Model:                          13                                                  \n",
              "Covariance Type:            nonrobust                                                  \n",
              "=============================================================================================\n",
              "                                coef    std err          t      P>|t|      [0.025      0.975]\n",
              "---------------------------------------------------------------------------------------------\n",
              "gender                     1.137e-12   1.93e-08   5.89e-05      1.000   -3.79e-08    3.79e-08\n",
              "age                        1.887e-13   7.98e-10      0.000      1.000   -1.57e-09    1.57e-09\n",
              "customer_id               -9.949e-17   8.33e-18    -11.945      0.000   -1.16e-16   -8.31e-17\n",
              "month                     -1.686e-12   8.78e-09     -0.000      1.000   -1.72e-08    1.72e-08\n",
              "day                         7.55e-14   1.04e-09   7.27e-05      1.000   -2.04e-09    2.04e-09\n",
              "credit_transactions         6.04e-14   3.71e-09   1.63e-05      1.000   -7.29e-09    7.29e-09\n",
              "debit_transactions         8.216e-15   2.13e-10   3.85e-05      1.000   -4.19e-10    4.19e-10\n",
              "overall_average_balance     3.71e-16   3.39e-13      0.001      0.999   -6.66e-13    6.67e-13\n",
              "overall_average_amount     7.494e-15   1.26e-10   5.94e-05      1.000   -2.48e-10    2.48e-10\n",
              "overall_average_card       3.212e-12      1e-07    3.2e-05      1.000   -1.97e-07    1.97e-07\n",
              "amount_sent                   1.0000   9.07e-12    1.1e+11      0.000       1.000       1.000\n",
              "total_savings                 1.0000   2.16e-12   4.63e+11      0.000       1.000       1.000\n",
              "highest_amount_transacted -1.048e-15    1.3e-11  -8.05e-05      1.000   -2.56e-11    2.56e-11\n",
              "==============================================================================\n",
              "Omnibus:                      149.225   Durbin-Watson:                   0.492\n",
              "Prob(Omnibus):                  0.000   Jarque-Bera (JB):               27.677\n",
              "Skew:                          -0.051   Prob(JB):                     9.77e-07\n",
              "Kurtosis:                       1.968   Cond. No.                     2.49e+10\n",
              "==============================================================================\n",
              "\n",
              "Warnings:\n",
              "[1] Standard Errors assume that the covariance matrix of the errors is correctly specified.\n",
              "[2] The condition number is large, 2.49e+10. This might indicate that there are\n",
              "strong multicollinearity or other numerical problems.\n",
              "\"\"\""
            ]
          },
          "metadata": {
            "tags": []
          },
          "execution_count": 225
        }
      ]
    },
    {
      "cell_type": "code",
      "metadata": {
        "id": "DVVUr6t3lEFN",
        "colab_type": "code",
        "colab": {}
      },
      "source": [
        "def rmse(predictions, targets):\n",
        "    differences = predictions - targets                     #the Differences\n",
        "    differences_squared = differences ** 2                  # the Squares of ^\n",
        "    mean_of_differences_squared = differences_squared.mean()   #The Mean of ^\n",
        "    rmse_val = np.sqrt(mean_of_differences_squared)         # Root of ^\n",
        "    return rmse_val"
      ],
      "execution_count": 0,
      "outputs": []
    },
    {
      "cell_type": "code",
      "metadata": {
        "id": "mYQsMGmXlECB",
        "colab_type": "code",
        "colab": {}
      },
      "source": [
        "cols = ['Model', 'R-Squared Value', 'Adj.R-Squared Value', 'RMSE']\n",
        "models_report = pd.DataFrame(columns = cols)\n",
        "\n",
        "#Predicting the model on Test Data\n",
        "predictions1 = model1.predict(x_test1)"
      ],
      "execution_count": 0,
      "outputs": []
    },
    {
      "cell_type": "code",
      "metadata": {
        "id": "lOS3QVQAlD9h",
        "colab_type": "code",
        "outputId": "aebf4221-7ea5-4fc4-f0af-11b9e71401dc",
        "colab": {
          "base_uri": "https://localhost:8080/",
          "height": 93
        }
      },
      "source": [
        "tmp1 = pd.Series({'Model': \"Linear Regression Model\",\n",
        "                  'R-Squared Value': model1.rsquared,\n",
        "                  'Adj.R-Squared Value': model1.rsquared_adj,\n",
        "                  'RMSE': rmse(predictions1, y_test1)})\n",
        "\n",
        "model1_report = models_report.append(tmp1, ignore_index = True)\n",
        "model1_report"
      ],
      "execution_count": 228,
      "outputs": [
        {
          "output_type": "execute_result",
          "data": {
            "text/html": [
              "<div>\n",
              "<style scoped>\n",
              "    .dataframe tbody tr th:only-of-type {\n",
              "        vertical-align: middle;\n",
              "    }\n",
              "\n",
              "    .dataframe tbody tr th {\n",
              "        vertical-align: top;\n",
              "    }\n",
              "\n",
              "    .dataframe thead th {\n",
              "        text-align: right;\n",
              "    }\n",
              "</style>\n",
              "<table border=\"1\" class=\"dataframe\">\n",
              "  <thead>\n",
              "    <tr style=\"text-align: right;\">\n",
              "      <th></th>\n",
              "      <th>Model</th>\n",
              "      <th>R-Squared Value</th>\n",
              "      <th>Adj.R-Squared Value</th>\n",
              "      <th>RMSE</th>\n",
              "    </tr>\n",
              "  </thead>\n",
              "  <tbody>\n",
              "    <tr>\n",
              "      <th>0</th>\n",
              "      <td>Linear Regression Model</td>\n",
              "      <td>1.0</td>\n",
              "      <td>1.0</td>\n",
              "      <td>2.256137e-07</td>\n",
              "    </tr>\n",
              "  </tbody>\n",
              "</table>\n",
              "</div>"
            ],
            "text/plain": [
              "                     Model  R-Squared Value  Adj.R-Squared Value          RMSE\n",
              "0  Linear Regression Model              1.0                  1.0  2.256137e-07"
            ]
          },
          "metadata": {
            "tags": []
          },
          "execution_count": 228
        }
      ]
    },
    {
      "cell_type": "code",
      "metadata": {
        "id": "PiI9JMTilD6G",
        "colab_type": "code",
        "outputId": "1519d423-e2ff-4d19-f16e-8f3b68cee440",
        "colab": {
          "base_uri": "https://localhost:8080/",
          "height": 242
        }
      },
      "source": [
        "prediction=model1.predict(x_test1)\n",
        "pd.DataFrame({'Actual':y_test1,'Predection':prediction}).head()"
      ],
      "execution_count": 229,
      "outputs": [
        {
          "output_type": "execute_result",
          "data": {
            "text/html": [
              "<div>\n",
              "<style scoped>\n",
              "    .dataframe tbody tr th:only-of-type {\n",
              "        vertical-align: middle;\n",
              "    }\n",
              "\n",
              "    .dataframe tbody tr th {\n",
              "        vertical-align: top;\n",
              "    }\n",
              "\n",
              "    .dataframe thead th {\n",
              "        text-align: right;\n",
              "    }\n",
              "</style>\n",
              "<table border=\"1\" class=\"dataframe\">\n",
              "  <thead>\n",
              "    <tr style=\"text-align: right;\">\n",
              "      <th></th>\n",
              "      <th>Actual</th>\n",
              "      <th>Predection</th>\n",
              "    </tr>\n",
              "  </thead>\n",
              "  <tbody>\n",
              "    <tr>\n",
              "      <th>584</th>\n",
              "      <td>31762.12</td>\n",
              "      <td>31762.12</td>\n",
              "    </tr>\n",
              "    <tr>\n",
              "      <th>678</th>\n",
              "      <td>16542.11</td>\n",
              "      <td>16542.11</td>\n",
              "    </tr>\n",
              "    <tr>\n",
              "      <th>728</th>\n",
              "      <td>12609.06</td>\n",
              "      <td>12609.06</td>\n",
              "    </tr>\n",
              "    <tr>\n",
              "      <th>338</th>\n",
              "      <td>19881.05</td>\n",
              "      <td>19881.05</td>\n",
              "    </tr>\n",
              "    <tr>\n",
              "      <th>570</th>\n",
              "      <td>28925.61</td>\n",
              "      <td>28925.61</td>\n",
              "    </tr>\n",
              "  </tbody>\n",
              "</table>\n",
              "</div>"
            ],
            "text/plain": [
              "       Actual  Predection\n",
              "584  31762.12    31762.12\n",
              "678  16542.11    16542.11\n",
              "728  12609.06    12609.06\n",
              "338  19881.05    19881.05\n",
              "570  28925.61    28925.61"
            ]
          },
          "metadata": {
            "tags": []
          },
          "execution_count": 229
        }
      ]
    },
    {
      "cell_type": "markdown",
      "metadata": {
        "id": "6wnSZw8QNHGd",
        "colab_type": "text"
      },
      "source": [
        "# **Decision Tree**"
      ]
    },
    {
      "cell_type": "code",
      "metadata": {
        "id": "4tM70qJmlDz9",
        "colab_type": "code",
        "outputId": "ff83cb31-4170-4f60-ec00-0737b61f5d4b",
        "colab": {
          "base_uri": "https://localhost:8080/",
          "height": 161
        }
      },
      "source": [
        "from sklearn.tree import DecisionTreeClassifier, DecisionTreeRegressor\n",
        "decision_tree_reg = DecisionTreeRegressor(random_state=0)\n",
        "decision_tree_reg.fit(x_train1, y_train1)\n"
      ],
      "execution_count": 52,
      "outputs": [
        {
          "output_type": "execute_result",
          "data": {
            "text/plain": [
              "DecisionTreeRegressor(ccp_alpha=0.0, criterion='mse', max_depth=None,\n",
              "                      max_features=None, max_leaf_nodes=None,\n",
              "                      min_impurity_decrease=0.0, min_impurity_split=None,\n",
              "                      min_samples_leaf=1, min_samples_split=2,\n",
              "                      min_weight_fraction_leaf=0.0, presort='deprecated',\n",
              "                      random_state=0, splitter='best')"
            ]
          },
          "metadata": {
            "tags": []
          },
          "execution_count": 52
        }
      ]
    },
    {
      "cell_type": "code",
      "metadata": {
        "id": "To4fFzwRFmQb",
        "colab_type": "code",
        "colab": {}
      },
      "source": [
        "decision_prediction=decision_tree_reg.predict(x_test1)"
      ],
      "execution_count": 0,
      "outputs": []
    },
    {
      "cell_type": "code",
      "metadata": {
        "id": "Sn8zJuErvocd",
        "colab_type": "code",
        "outputId": "c4c173b6-ff66-4781-a5b1-e9b4f0865c08",
        "colab": {
          "base_uri": "https://localhost:8080/",
          "height": 242
        }
      },
      "source": [
        "#decision_prediction=model1.predict(x_test1)\n",
        "pd.DataFrame({'Actual':y_test1,'Predection':decision_prediction}).head()"
      ],
      "execution_count": 235,
      "outputs": [
        {
          "output_type": "execute_result",
          "data": {
            "text/html": [
              "<div>\n",
              "<style scoped>\n",
              "    .dataframe tbody tr th:only-of-type {\n",
              "        vertical-align: middle;\n",
              "    }\n",
              "\n",
              "    .dataframe tbody tr th {\n",
              "        vertical-align: top;\n",
              "    }\n",
              "\n",
              "    .dataframe thead th {\n",
              "        text-align: right;\n",
              "    }\n",
              "</style>\n",
              "<table border=\"1\" class=\"dataframe\">\n",
              "  <thead>\n",
              "    <tr style=\"text-align: right;\">\n",
              "      <th></th>\n",
              "      <th>Actual</th>\n",
              "      <th>Predection</th>\n",
              "    </tr>\n",
              "  </thead>\n",
              "  <tbody>\n",
              "    <tr>\n",
              "      <th>584</th>\n",
              "      <td>31762.12</td>\n",
              "      <td>31762.12</td>\n",
              "    </tr>\n",
              "    <tr>\n",
              "      <th>678</th>\n",
              "      <td>16542.11</td>\n",
              "      <td>16542.11</td>\n",
              "    </tr>\n",
              "    <tr>\n",
              "      <th>728</th>\n",
              "      <td>12609.06</td>\n",
              "      <td>12609.06</td>\n",
              "    </tr>\n",
              "    <tr>\n",
              "      <th>338</th>\n",
              "      <td>19881.05</td>\n",
              "      <td>19881.05</td>\n",
              "    </tr>\n",
              "    <tr>\n",
              "      <th>570</th>\n",
              "      <td>28925.61</td>\n",
              "      <td>28925.61</td>\n",
              "    </tr>\n",
              "  </tbody>\n",
              "</table>\n",
              "</div>"
            ],
            "text/plain": [
              "       Actual  Predection\n",
              "584  31762.12    31762.12\n",
              "678  16542.11    16542.11\n",
              "728  12609.06    12609.06\n",
              "338  19881.05    19881.05\n",
              "570  28925.61    28925.61"
            ]
          },
          "metadata": {
            "tags": []
          },
          "execution_count": 235
        }
      ]
    },
    {
      "cell_type": "code",
      "metadata": {
        "id": "7Elu18d_voYQ",
        "colab_type": "code",
        "colab": {}
      },
      "source": [
        "from sklearn.metrics import r2_score,mean_squared_error,accuracy_score\n",
        "mse = mean_squared_error(y_test1,decision_prediction)"
      ],
      "execution_count": 0,
      "outputs": []
    },
    {
      "cell_type": "code",
      "metadata": {
        "id": "yinOtvmJvoUC",
        "colab_type": "code",
        "colab": {}
      },
      "source": [
        "rmse = np.sqrt(mse)"
      ],
      "execution_count": 0,
      "outputs": []
    },
    {
      "cell_type": "code",
      "metadata": {
        "id": "Os7KAo1CvoP2",
        "colab_type": "code",
        "outputId": "310d38a2-c36b-4ab1-dcb6-ebb3e56642b0",
        "colab": {
          "base_uri": "https://localhost:8080/",
          "height": 41
        }
      },
      "source": [
        "rmse"
      ],
      "execution_count": 234,
      "outputs": [
        {
          "output_type": "execute_result",
          "data": {
            "text/plain": [
              "55.706979427905914"
            ]
          },
          "metadata": {
            "tags": []
          },
          "execution_count": 234
        }
      ]
    },
    {
      "cell_type": "markdown",
      "metadata": {
        "id": "qrHuJIDGc8m-",
        "colab_type": "text"
      },
      "source": [
        "When we applied linear regression, we got an rmse of 2.256137e-07. After applying decision tree the rmse became 55.7"
      ]
    }
  ]
}